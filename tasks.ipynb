{
 "cells": [
  {
   "cell_type": "markdown",
   "metadata": {},
   "source": [
    "# Principals of Data Analytics - Tasks\n",
    "\n"
   ]
  },
  {
   "cell_type": "markdown",
   "metadata": {},
   "source": [
    "## Imports\n",
    "\n",
    "The following imports are approved numpy, scipy, matplotlib, seaborn, pandas, statsmodels, scikit-learn"
   ]
  },
  {
   "cell_type": "code",
   "execution_count": null,
   "metadata": {},
   "outputs": [],
   "source": [
    "import pandas as pd\n",
    "import numpy as np\n",
    "import matplotlib.pyplot as plt\n",
    "import seaborn as sns\n",
    "# import sklearn\n",
    "import sklearn"
   ]
  },
  {
   "cell_type": "markdown",
   "metadata": {},
   "source": [
    "# Task 1: Source the Data Set\n",
    "\n",
    "Import the Iris data set from the `sklearn.datasets` module.  \n",
    "Explain, in your own words, what the `load_iris()` function returns.\n",
    "\n",
    "\n",
    "\n",
    "\n"
   ]
  },
  {
   "cell_type": "markdown",
   "metadata": {},
   "source": [
    "### Task 1 : Answer\n",
    "\n",
    "#### Summary\n",
    "\n",
    "The load_iris scikit_learn function returns a built-in small dataset of irish flowers. The data set consists of 150 records evenly distributed among three different iris species , Setosa , Versicolour , Virginica. The data has 4 features , petal length and width , and petal length and width in cm , and the iris species.\n",
    "\n",
    "The load iris returns a number of \"data sets\" . The data dataset of features , a target dataset of a surrogate key to the associated iris species , target names in order of the surrogate key , and the feature names.\n",
    "\n",
    "\n",
    "\n",
    "***Image for Iris Flowers***\n",
    "\n",
    "For those who are not gardeners , an image below\n",
    "\n",
    "**Irish diagram with petals and petals\n",
    "\n",
    "https://www.life.illinois.edu/help/digitalflowers/Iridaceae/9.htm\n",
    "\n",
    "**Iris-Setosa**\n",
    "\n",
    "https://en.wikipedia.org/wiki/Iris_setosa#/media/File:Irissetosa1.jpg\n",
    "\n",
    "**Iris-Versicolour**\n",
    "\n",
    "https://upload.wikimedia.org/wikipedia/commons/2/27/Blue_Flag%2C_Ottawa.jpg\n",
    "\n",
    "**Iris-Virginica**\n",
    "\n",
    "https://en.wikipedia.org/wiki/Iris_virginica#/media/File:Iris_virginica_2.jpg\n",
    "\n",
    "### References\n",
    "https://scikit-learn.org/1.5/modules/generated/sklearn.datasets.load_iris.html\n",
    "\n",
    "https://scikit-learn.org/stable/datasets/toy_dataset.html#iris-dataset\n",
    "\n",
    "\n",
    "\n"
   ]
  },
  {
   "cell_type": "code",
   "execution_count": null,
   "metadata": {},
   "outputs": [],
   "source": [
    "# Task 1: Import the data\n",
    "# Load the iris dataset from the sklearn.datasets module using the load_iris() function.\n",
    "# The iris dataset is a dictionary-like object that holds all the data and some metadata about the data.\n",
    "import sklearn.datasets as datasets\n"
   ]
  },
  {
   "cell_type": "markdown",
   "metadata": {},
   "source": [
    "Run help(load_iris) to get more information on the function\n"
   ]
  },
  {
   "cell_type": "code",
   "execution_count": null,
   "metadata": {},
   "outputs": [],
   "source": [
    "help(datasets.load_iris);"
   ]
  },
  {
   "cell_type": "markdown",
   "metadata": {},
   "source": [
    "Load the iris data set"
   ]
  },
  {
   "cell_type": "code",
   "execution_count": null,
   "metadata": {},
   "outputs": [],
   "source": [
    "bunch_iris = datasets.load_iris()\n",
    "# Print out shape,info and head of the data\n",
    "print(\"Shape of the data: \", bunch_iris.data.shape)\n",
    "print(\"Info of the data: \", bunch_iris.keys())\n",
    "\n"
   ]
  },
  {
   "cell_type": "markdown",
   "metadata": {},
   "source": [
    "Feature Names"
   ]
  },
  {
   "cell_type": "code",
   "execution_count": null,
   "metadata": {},
   "outputs": [],
   "source": [
    "# Convert feature_names to DataFrame\n",
    "# Easier to read\n",
    "df_feature_name = pd.DataFrame(bunch_iris['feature_names'])\n",
    "df_feature_name"
   ]
  },
  {
   "cell_type": "markdown",
   "metadata": {},
   "source": [
    "Target Names"
   ]
  },
  {
   "cell_type": "code",
   "execution_count": null,
   "metadata": {},
   "outputs": [],
   "source": [
    "# convert target names to dataframe for easier reading\n",
    "df_target_name = pd.DataFrame(bunch_iris['target_names'])\n",
    "df_target_name"
   ]
  },
  {
   "cell_type": "code",
   "execution_count": null,
   "metadata": {},
   "outputs": [],
   "source": [
    "bunch_iris = datasets.load_iris(as_frame=True)\n",
    "print(\"Bunch iris: \", bunch_iris)\n",
    "print(\"Keys: \", bunch_iris.keys())\n",
    "print(\"Feature names: \", bunch_iris['feature_names'])\n",
    "print(\"Target names: \", bunch_iris['target_names'])\n",
    "print(\"Data: \", bunch_iris['data'].head())\n",
    "print(\"Target: \", bunch_iris['target'].head())\n",
    "\n"
   ]
  },
  {
   "cell_type": "code",
   "execution_count": null,
   "metadata": {},
   "outputs": [],
   "source": [
    "bunch_iris.data.info()\n",
    "bunch_iris.data.shape\n",
    "bunch_iris.data.describe()\n",
    "bunch_iris.data.head()"
   ]
  },
  {
   "cell_type": "code",
   "execution_count": null,
   "metadata": {},
   "outputs": [],
   "source": [
    "bunch_iris.target.info()\n",
    "bunch_iris.target.shape\n",
    "bunch_iris.target.describe()\n",
    "bunch_iris.target.head()\n"
   ]
  },
  {
   "cell_type": "markdown",
   "metadata": {},
   "source": [
    "# Task 2: Explore the Data Structure\n",
    "\n",
    "Print and explain the shape of the data set, the first and last 5 rows of the data, the feature names, and the target classes.  \n"
   ]
  },
  {
   "cell_type": "markdown",
   "metadata": {},
   "source": [
    "## Task 2 : Answer\n",
    "\n",
    "### Summary\n",
    "\n",
    "The iris data set is returned as a \"bunch\" object. The bunch object is a dictionary with the following keys\n",
    "\n",
    "- data : The feature data set\n",
    "- target : The target data set\n",
    "- target_names : The target names\n",
    "- feature_names : The feature names\n",
    "- DESCR : The description of the data set\n"
   ]
  },
  {
   "cell_type": "markdown",
   "metadata": {},
   "source": [
    "**Description of the data set (DESCR)**"
   ]
  },
  {
   "cell_type": "code",
   "execution_count": null,
   "metadata": {},
   "outputs": [],
   "source": [
    "# This explains the data set\n",
    "print(bunch_iris.DESCR);"
   ]
  },
  {
   "cell_type": "code",
   "execution_count": null,
   "metadata": {},
   "outputs": [],
   "source": []
  },
  {
   "cell_type": "markdown",
   "metadata": {},
   "source": [
    "### Shape of data set\n",
    "\n",
    "The irish ( flower ) data dataset has 4 columns of features ( sepal length and width , and petal length and widht in cm ) and 150 rows of 50 of each type of the 3 iris species."
   ]
  },
  {
   "cell_type": "code",
   "execution_count": null,
   "metadata": {},
   "outputs": [],
   "source": [
    "print(\"Shape of the data: \")\n",
    "print(\"------------------\")\n",
    "bunch_iris.data.shape\n",
    "print(\"Info of the data: \")\n",
    "print(\"------------------\")\n",
    "bunch_iris.data.info()\n",
    "print(\"Shape of the target: \")\n",
    "print(\"------------------\")\n",
    "bunch_iris.target.shape\n",
    "print(\"Info of the target: \")\n",
    "print(\"------------------\")\n",
    "bunch_iris.target.info()"
   ]
  },
  {
   "cell_type": "markdown",
   "metadata": {},
   "source": [
    "### First and last 5 rows of the data set\n",
    "\n",
    "The data set in the \"bunch\" object is broken up into \"data\" or features and targets\n"
   ]
  },
  {
   "cell_type": "markdown",
   "metadata": {},
   "source": [
    "**Data ( Features ) First 5 Rows**"
   ]
  },
  {
   "cell_type": "code",
   "execution_count": null,
   "metadata": {},
   "outputs": [],
   "source": [
    "bunch_iris.data.head()"
   ]
  },
  {
   "cell_type": "markdown",
   "metadata": {},
   "source": [
    "**Data ( Features ) Last 5 Rows**"
   ]
  },
  {
   "cell_type": "code",
   "execution_count": null,
   "metadata": {},
   "outputs": [],
   "source": [
    "bunch_iris.data.tail()"
   ]
  },
  {
   "cell_type": "markdown",
   "metadata": {},
   "source": [
    "**Target ( Species ) First 5 Rows**"
   ]
  },
  {
   "cell_type": "code",
   "execution_count": null,
   "metadata": {},
   "outputs": [],
   "source": [
    "bunch_iris.target.head()"
   ]
  },
  {
   "cell_type": "markdown",
   "metadata": {},
   "source": [
    "**Target ( Species ) Last 5 Rows**"
   ]
  },
  {
   "cell_type": "code",
   "execution_count": null,
   "metadata": {},
   "outputs": [],
   "source": [
    "bunch_iris.target.tail()"
   ]
  },
  {
   "cell_type": "markdown",
   "metadata": {},
   "source": [
    "### Feature Names\n",
    "\n",
    "The feature names are stored as metadata in irish dataset features names.\n",
    "\n",
    "\n",
    "#### Notes\n",
    "\n",
    "##### What is a sepal ? \n",
    "\n",
    "The outer parts of the flower (often green and leaf-like) that enclose a developing bud. Sepals are usually green, but in some species they may be brightly colored or resemble petals. Sepals help to protect the flower bud.\n",
    "\n",
    "\n",
    "#### What is a petal ?\n",
    "\n",
    " The parts of a flower that are often conspicuously colored. Petals are the parts of a flower that are often conspicuously colored. They are often involved in attracting pollinators, or are used to attract animals that help the plant to spread its seeds.\n",
    "\n",
    " https://www.amnh.org/learn-teach/curriculum-collections/biodiversity-counts/plant-identification/plant-morphology/parts-of-a-flower"
   ]
  },
  {
   "cell_type": "code",
   "execution_count": null,
   "metadata": {},
   "outputs": [],
   "source": [
    "bunch_iris.feature_names"
   ]
  },
  {
   "cell_type": "markdown",
   "metadata": {},
   "source": [
    "### Target Classes\n",
    "\n",
    "The target classes are the iris species , Setosa , Versicolour , Virginica. The target classes are stored as metadata in the irish dataset target names.\n",
    "\n",
    "The target part of the iris dataset is 150 records of the surrogate key to the associated iris species. \n",
    "There are a total of 3 target classes , 0 , 1 , 2 , which are the surrogate keys to the iris species , Setosa , Versicolour , Virginica.\n",
    "\n"
   ]
  },
  {
   "cell_type": "code",
   "execution_count": null,
   "metadata": {},
   "outputs": [],
   "source": [
    "# Count of each target\n",
    "# This shows the distribution of the target\n",
    "bunch_iris.target.groupby(bunch_iris.target).count()"
   ]
  },
  {
   "cell_type": "code",
   "execution_count": null,
   "metadata": {},
   "outputs": [],
   "source": [
    "bunch_iris.target_names"
   ]
  },
  {
   "cell_type": "markdown",
   "metadata": {},
   "source": [
    "# Task 3: Summarize the Data\n",
    "\n",
    "For each feature in the dataset, calculate and display:  \n",
    "\n",
    "- mean\n",
    "- minimum\n",
    "- maximum\n",
    "- standard deviation\n",
    "- median"
   ]
  },
  {
   "cell_type": "markdown",
   "metadata": {},
   "source": [
    "## Task 3 : Answer"
   ]
  },
  {
   "cell_type": "markdown",
   "metadata": {},
   "source": [
    "create a single dataframe with the results for all features and all species.\n",
    "The target class is converted to the species name in the final dataframe."
   ]
  },
  {
   "cell_type": "code",
   "execution_count": null,
   "metadata": {},
   "outputs": [],
   "source": [
    "# Comnbine the data and target into one dataframe\n",
    "df_iris = pd.concat([bunch_iris.data, bunch_iris.target], axis=1)\n",
    "# get a dictionary of the target values and their corresponding names\n",
    "target_name_map = {i: name for i, name in enumerate(bunch_iris.target_names)}\n",
    "# map the target values to the target names\n",
    "df_iris['target'] = df_iris['target'].map(target_name_map)\n",
    "df_iris.head()\n"
   ]
  },
  {
   "cell_type": "markdown",
   "metadata": {},
   "source": [
    "Display the mean, minimum, maximum, standard deviation, and median of all the species combined for each feature."
   ]
  },
  {
   "cell_type": "code",
   "execution_count": null,
   "metadata": {},
   "outputs": [],
   "source": [
    "# get the mean, min, max, std, and median of the features all at once\n",
    "df_iris.agg({'sepal length (cm)':['mean','min','max','std','median'],'sepal width (cm)':['mean','min','max','std','median'],'petal length (cm)':['mean','min','max','std','median'],'petal width (cm)':['mean','min','max','std','median']})"
   ]
  },
  {
   "cell_type": "markdown",
   "metadata": {},
   "source": [
    "Group the data by species and display the mean, minimum, maximum, standard deviation, and median of each feature for each species."
   ]
  },
  {
   "cell_type": "code",
   "execution_count": null,
   "metadata": {},
   "outputs": [],
   "source": [
    "# do mean min max std and median for whole data frame\n",
    "# Figure out how to do this for the whole data frame\n",
    "# first to a mean min max std and median for each target\n",
    "df_iris_species_summary_stats = df_iris.groupby('target').agg(['mean','min','max','std','median'])\n",
    "df_iris_species_summary_stats"
   ]
  },
  {
   "cell_type": "markdown",
   "metadata": {},
   "source": [
    "## Task 4: Visualize Features\n",
    "\n",
    "Plot histograms for each feature using `matplotlib`.  \n",
    "Add appropriate titles and axis labels.  \n",
    "\n"
   ]
  },
  {
   "cell_type": "code",
   "execution_count": null,
   "metadata": {},
   "outputs": [],
   "source": [
    "# Plot in 4 subplots the histograms of the features\n",
    "fig1, axs1 = plt.subplots(nrows=2, ncols=2, figsize=(10, 10))\n",
    "# set overall title\n",
    "fig1.suptitle('Iris Data Set')\n",
    "# loop thru each feature and plot histogram in subplots 2 x 2\n",
    "# sepals and petals seperate layers\n",
    "# loop makes it more compact\n",
    "for i, feature_name in enumerate(df_iris.columns[:-1]):\n",
    "    x = i // 2\n",
    "    y = i % 2\n",
    "    axs1[x, y].hist(df_iris[feature_name])\n",
    "    axs1[x, y].set_title(feature_name)\n",
    "plt.legend\n",
    "plt.tight_layout()\n",
    "plt.show()"
   ]
  },
  {
   "cell_type": "markdown",
   "metadata": {},
   "source": [
    "A more pretty way would be to do a histogram for each feature for each species."
   ]
  },
  {
   "cell_type": "code",
   "execution_count": null,
   "metadata": {},
   "outputs": [],
   "source": [
    "# Plot in 4 subplots the histograms of the features of each species of iris\n",
    "fig2, axs2 = plt.subplots(nrows=2, ncols=2, figsize=(10, 10))\n",
    "# set overall title\n",
    "fig2.suptitle('Iris Data Set')\n",
    "# loop thru each feature and plot histogram in subplots 2 x 2\n",
    "# sepals and petals seperate layers\n",
    "# loop makes it more compact\n",
    "for i, feature_name in enumerate(df_iris.columns[:-1]):\n",
    "    x = i // 2\n",
    "    y = i % 2\n",
    "    for species in df_iris['target'].unique():\n",
    "        axs2[x, y].hist(df_iris[df_iris['target'] == species][feature_name], alpha=0.5, label=species,histtype='stepfilled')\n",
    "    axs2[x, y].set_title(feature_name)\n",
    "    axs2[x, y].legend()"
   ]
  },
  {
   "cell_type": "markdown",
   "metadata": {},
   "source": [
    "## Task 5: Investigate Relationships\n",
    "\n",
    "Choose any two features from the data set and create a scatter plot of them.  \n",
    "Color-code the three different classes of the scatter plot points.\n"
   ]
  },
  {
   "cell_type": "code",
   "execution_count": null,
   "metadata": {},
   "outputs": [],
   "source": [
    "\n",
    "# plot the data sepal length vs sepal width,petal length vs petal width, and target each species with different color\n",
    "#print([['r', 'g', 'b'][i] for i in bunch_iris.target])\n",
    "plt.scatter(bunch_iris.data['sepal length (cm)'], bunch_iris.data['sepal width (cm)'], c=[['r', 'g', 'b'][i] for i in bunch_iris.target])\n",
    "plt.xlabel('sepal length (cm)')\n",
    "plt.ylabel('sepal width (cm)')\n",
    "plt.title('sepal length vs sepal width')\n",
    "# put legend for the targets values and colors\n",
    "plt.legend(handles=[plt.Line2D([0], [0], marker='o', color='w', label='setosa', markerfacecolor='r', markersize=10),\n",
    "                    plt.Line2D([0], [0], marker='o', color='w', label='versicolor', markerfacecolor='g', markersize=10),\n",
    "                    plt.Line2D([0], [0], marker='o', color='w', label='virginica', markerfacecolor='b', markersize=10)])\n",
    "plt.show()\n",
    "# plot the data petal length vs petal width,petal length vs petal width, and target each species with different color\n",
    "plt.scatter(bunch_iris.data['petal length (cm)'], bunch_iris.data['petal width (cm)'], c=[['r', 'g', 'b'][i] for i in bunch_iris.target])\n",
    "plt.xlabel('petal length (cm)')\n",
    "plt.ylabel('petal width (cm)')\n",
    "plt.title('petal length vs petal width')\n",
    "# put legend for the targets values and colors\n",
    "plt.legend(handles=[plt.Line2D([0], [0], marker='o', color='w', label='setosa', markerfacecolor='r', markersize=10),\n",
    "                    plt.Line2D([0], [0], marker='o', color='w', label='versicolor', markerfacecolor='g', markersize=10),\n",
    "                    plt.Line2D([0], [0], marker='o', color='w', label='virginica', markerfacecolor='b', markersize=10)])\n",
    "plt.show()\n",
    "\n"
   ]
  },
  {
   "cell_type": "markdown",
   "metadata": {},
   "source": [
    "## Task 6: Analyze Relationship\n",
    "\n",
    "Use `numpy.polyfit` to add a regression line to the scatter plot from Task 5.\n",
    "\n",
    "The polyfit function used Least squares polynomial fit. Last used this to do Iodine absorption curve of EDTA titration in chemistry lab ( 2nd year WITS 1984)\n",
    "\n",
    "Numpy plolyfit documentation https://numpy.org/doc/stable/reference/generated/numpy.polyfit.html\n",
    "How to plot polyfit in scatter plot https://stackoverflow.com/questions/46627629/how-to-use-numpy-polyfit-to-plot-trend\n",
    "\n"
   ]
  },
  {
   "cell_type": "markdown",
   "metadata": {},
   "source": [
    "### Polyfit of sepals length and width\n",
    "\n"
   ]
  },
  {
   "cell_type": "code",
   "execution_count": null,
   "metadata": {},
   "outputs": [],
   "source": []
  },
  {
   "cell_type": "markdown",
   "metadata": {},
   "source": [
    "### Using ployflit to do linear regression using the petal length and petal width\n",
    "\n",
    "#### Conclusion\n",
    "\n",
    "# TODO Tidy up the comments\n",
    "The inital attempt at doing a regresion line through the data was not successful.  There is not a obvious linear relationship between the petal length and petal width  \n",
    "If the different species data is seperated out, there is a linear relationship between the petal length and petal width for the setosa species.  The versicolor and virginica species do not have a linear relationship between the petal length and petal width.  The data for the versicolor and virginica species is more spread out and not linear.  The setosa species data is more linear and has a clear relationship between the petal length and petal width.  \n",
    "Then each of the species shows a linear regressiuons"
   ]
  },
  {
   "cell_type": "code",
   "execution_count": null,
   "metadata": {},
   "outputs": [],
   "source": [
    "#numpy.polyfit(x, y, deg, rcond=None, full=False, w=None, cov=False)\n",
    "#for sepal length vs sepal width\n",
    "# Do a polinomial fit between sepal length and sepal width \n",
    "# Degree 1 means linear\n",
    "trend = np.polyfit(x = df_iris['sepal length (cm)'], y = df_iris['sepal width (cm)'], deg = 1)\n",
    "trend_serosa = np.polyfit(x = df_iris[df_iris['target'] == 'setosa']['sepal length (cm)'], y = df_iris[df_iris['target'] == 'setosa']['sepal width (cm)'], deg = 1)\n",
    "trend_versicolor = np.polyfit(x = df_iris[df_iris['target'] == 'versicolor']['sepal length (cm)'], y = df_iris[df_iris['target'] == 'versicolor']['sepal width (cm)'], deg = 1)\n",
    "trend_virginica = np.polyfit(x = df_iris[df_iris['target'] == 'virginica']['sepal length (cm)'], y = df_iris[df_iris['target'] == 'virginica']['sepal width (cm)'], deg = 1)\n",
    "# do a trend line for each species of iris\n",
    "\n",
    "# create a polynomial function - this is the trend line\n",
    "# this is a linear trend line\n",
    "trendpoly = np.poly1d(trend) # create a polynomial function\n",
    "trendpoly_serosa = np.poly1d(trend_serosa) # create a polynomial function\n",
    "trendpoly_versicolor = np.poly1d(trend_versicolor) # create a polynomial function\n",
    "trendpoly_virginica = np.poly1d(trend_virginica) # create a polynomial function\n",
    "\n",
    "plt.scatter(df_iris['sepal length (cm)'], df_iris['sepal width (cm)'], c=[['r', 'g', 'b'][i] for i in bunch_iris.target])\n",
    "plt.xlabel('sepal length (cm)')\n",
    "plt.ylabel('sepal width (cm)')\n",
    "plt.title('sepal length vs sepal width')\n",
    "# put legend for the targets values and colors\n",
    "plt.legend(handles=[plt.Line2D([0], [0], marker='o', color='w', label='setosa', markerfacecolor='r', markersize=10),\n",
    "                    plt.Line2D([0], [0], marker='o', color='w', label='versicolor', markerfacecolor='g', markersize=10),\n",
    "                    plt.Line2D([0], [0], marker='o', color='w', label='virginica', markerfacecolor='b', markersize=10)])\n",
    "# plot the trend line for all the data and then each species\n",
    "plt.plot(df_iris['sepal length (cm)'], trendpoly(df_iris['sepal length (cm)']), color = 'black')\n",
    "plt.plot(df_iris[df_iris['target'] == 'setosa']['sepal length (cm)'], trendpoly_serosa(df_iris[df_iris['target'] == 'setosa']['sepal length (cm)']), color = 'red')\n",
    "plt.plot(df_iris[df_iris['target'] == 'versicolor']['sepal length (cm)'], trendpoly_versicolor(df_iris[df_iris['target'] == 'versicolor']['sepal length (cm)']), color = 'green')\n",
    "plt.plot(df_iris[df_iris['target'] == 'virginica']['sepal length (cm)'], trendpoly_virginica(df_iris[df_iris['target'] == 'virginica']['sepal length (cm)']), color = 'blue')\n",
    "plt.show()\n"
   ]
  },
  {
   "cell_type": "code",
   "execution_count": null,
   "metadata": {},
   "outputs": [],
   "source": []
  },
  {
   "cell_type": "markdown",
   "metadata": {},
   "source": [
    "### Polyfit of petals length and width"
   ]
  },
  {
   "cell_type": "code",
   "execution_count": null,
   "metadata": {},
   "outputs": [],
   "source": [
    "#numpy.polyfit(x, y, deg, rcond=None, full=False, w=None, cov=False)\n",
    "#for petal length vs petal width\n",
    "# Do a polinomial fit between petal length and petal width \n",
    "# Degree 1 means linear\n",
    "trend = np.polyfit(x = bunch_iris.data['petal length (cm)'], y = bunch_iris.data['petal width (cm)'], deg = 1)\n",
    "print(trend)\n",
    "# create a polynomial function - this is the trend line\n",
    "# this is a linear trend line\n",
    "trendpoly = np.poly1d(trend) # create a polynomial function\n",
    "print(trendpoly)\n",
    "plt.scatter(bunch_iris.data['petal length (cm)'], bunch_iris.data['petal width (cm)'], c=[['r', 'g', 'b'][i] for i in bunch_iris.target])\n",
    "plt.xlabel('petal length (cm)')\n",
    "plt.ylabel('petal width (cm)')\n",
    "plt.title('petal length vs petal width')\n",
    "# put legend for the targets values and colors\n",
    "plt.legend(handles=[plt.Line2D([0], [0], marker='o', color='w', label='setosa', markerfacecolor='r', markersize=10),\n",
    "                    plt.Line2D([0], [0], marker='o', color='w', label='versicolor', markerfacecolor='g', markersize=10),\n",
    "                    plt.Line2D([0], [0], marker='o', color='w', label='virginica', markerfacecolor='b', markersize=10)])\n",
    "plt.plot(bunch_iris.data['petal length (cm)'], trendpoly(bunch_iris.data['petal length (cm)']), color = 'black')\n",
    "plt.show()\n"
   ]
  },
  {
   "cell_type": "markdown",
   "metadata": {},
   "source": [
    "## Task 7: Analyze Class Distributions\n",
    "\n",
    "Create box-plots of the petal lengths for each of the three classes.\n"
   ]
  },
  {
   "cell_type": "markdown",
   "metadata": {},
   "source": [
    "#### Descrition\n",
    "\n",
    "The box plot show the distribution of the 3 iris species petal lengths . The distribution show the spread of the data via various metrics. The box plot shows the mean , median , and quantiles of the data. The box is the interquartile range , the whiskers are the IQR * 1.5. The box plot is a good way to show the distribution of the data and the spread of the data.\n",
    "\n",
    "### Conclusion\n",
    "\n",
    "The serosa species has the most distinct petal length and it is easy to determine the serosa species by only looking at the petal length. The other two species , Versicolour and Virginica do overalp in petal length and thus it is not as easy to determine the species by petal length alone.\n",
    "\n",
    "\n",
    "#### Notes\n",
    "\n",
    "Box Plots are basically a plot with mean , median and quantiles , the box is the interquartile range 0.25 and 0.75 quantiles , the whiskers are IQR * 1.5.\n",
    "We are going to the petal lengths of each of the classes , id est  the iris species , Setosa , Versicolour , Virginica.\n",
    "We will be using the seaborn library to create the box plots.\n",
    "\n",
    "###References\n",
    "\n",
    "- Course Notes - Ian McLoughlin : https://github.com/ianmcloughlin/principles_of_data_analytics/blob/main/materials/boxplots.ipynb\n",
    "- Seaborn Box Plots : https://seaborn.pydata.org/generated/seaborn.boxplot.html\n",
    "- https://www.geeksforgeeks.org/how-to-set-the-hue-order-in-seaborn-plots/#5-example-withseabornboxplot"
   ]
  },
  {
   "cell_type": "markdown",
   "metadata": {},
   "source": [
    "Create a datafram of petal lengths for each of the three classes , Setosa , Versicolour , Virginica. "
   ]
  },
  {
   "cell_type": "code",
   "execution_count": null,
   "metadata": {},
   "outputs": [],
   "source": [
    "# A data frame with the petal length and class\n",
    "df_petal = df_iris[[ 'target','petal length (cm)']]\n",
    "df_petal.sample(5)\n"
   ]
  },
  {
   "cell_type": "markdown",
   "metadata": {},
   "source": [
    "#### Summary Data\n",
    "For each of the classes , Setosa , Versicolour and Virginica the mean , max , min , standard deviation , median and quantiles of the petal lengths will be displayed in a table"
   ]
  },
  {
   "cell_type": "code",
   "execution_count": null,
   "metadata": {},
   "outputs": [],
   "source": [
    "def quantile_25(x):\n",
    "    \"\"\" input: x is a pandas series or numpy array and return the 25th and 75th quantile\n",
    "    Note: coulld be done by a lambda function but this is more readable\n",
    "    \"\"\"\n",
    "    return np.quantile(x, 0.25)\n",
    "\n",
    "def quantile_75(x):\n",
    "    \"\"\" input: x is a pandas series or numpy array and return the 25th and 75th quantile\n",
    "    Note: coulld be done by a lambda function but this is more readable\n",
    "    \"\"\"\n",
    "    return np.quantile(x, 0.75)\n",
    "\n",
    "# Group by target and get the mean, min, max, std, median, 25th and 75th quantile\n",
    "df_iris_species_summary_stats = df_petal.groupby(['target']).agg({\n",
    "\t'petal length (cm)': ['mean', 'min', 'max', 'std', 'median', quantile_25, quantile_75]})\n",
    "\n",
    "\n",
    "# Rename the quantile columns\n",
    "#  relates to box plot < -- |Q25 | Median | Q75 | -- >\n",
    "df_iris_species_summary_stats.columns = ['mean', 'min', 'max', 'std', 'median', 'Q25', 'Q75']\n",
    "\n",
    " # Add IQR column - Interquartile range is the difference between the 75th and 25th quantile\n",
    "df_iris_species_summary_stats['IQR'] = df_iris_species_summary_stats['Q75'] - df_iris_species_summary_stats['Q25']\n",
    "\n",
    "# Add outlier columns\n",
    "df_iris_species_summary_stats['outlier_min'] = df_iris_species_summary_stats['Q25'] - 1.5 * df_iris_species_summary_stats['IQR']\n",
    "df_iris_species_summary_stats['outlier_max'] = df_iris_species_summary_stats['Q75'] + 1.5 * df_iris_species_summary_stats['IQR']\n",
    "\n",
    "#print(df_iris_species_summary_stats.info())\n",
    "\n",
    "# rotate the df_iris_species_summary_stats\n",
    "# I want the species to be the columns\n",
    "# This is easier to read\n",
    "# Transpose the data frame\n",
    "df_iris_species_summary_stats = df_iris_species_summary_stats.transpose()\n",
    "\n",
    "# change the order of the columns to be setosa, versicolor, virginica\n",
    "df_iris_species_summary_stats = df_iris_species_summary_stats[['setosa', 'versicolor', 'virginica'] ]\n",
    "# sort rows in a specific order\n",
    "df_iris_species_summary_stats = df_iris_species_summary_stats.reindex(['min', 'outlier_min', 'Q25', 'median', 'mean', 'Q75', 'outlier_max', 'max', 'std', 'IQR'])\n",
    "df_iris_species_summary_stats\n"
   ]
  },
  {
   "cell_type": "code",
   "execution_count": null,
   "metadata": {},
   "outputs": [],
   "source": [
    "\n",
    "\n",
    "ax = sns.boxplot(x='petal length (cm)', y='target', data=df_petal, palette=\"pastel\",hue='target',hue_order=['setosa','versicolor','virginica'])\n",
    "ax.title.set_text('Petal Length vs Species')\n",
    "ax.set_xlabel('Petal Length (cm)')\n",
    "ax.set_ylabel('Species')\n",
    "ax.legend(title='Species', loc='upper right', labels=['setosa','versicolor','virginica'])\n",
    "plt.show()"
   ]
  },
  {
   "cell_type": "markdown",
   "metadata": {},
   "source": [
    "## Task 8: Compute Correlations\n",
    "\n",
    "Calculate the correlation coefficients between the features.  \n",
    "Display the results as a heatmap using `matplotlib`.  \n"
   ]
  },
  {
   "cell_type": "markdown",
   "metadata": {},
   "source": [
    "### Correlation Coefficients\n",
    "\n",
    "For the heatmap the correlation coef is calculated for each of the features , sepal length , sepal width , petal length , petal width. The correlation coef is a measure of the linear relationship between the features. The correlation coef is a value between -1 and 1. A value of 1 means a perfect positive linear relationship , a value of -1 means a perfect negative linear relationship , and a value of 0 means no linear relationship.\n",
    "\n",
    "There will also be a heatmap for each of the species"
   ]
  },
  {
   "cell_type": "code",
   "execution_count": null,
   "metadata": {},
   "outputs": [],
   "source": [
    "df_corr = df_iris[['sepal length (cm)', 'sepal width (cm)', 'petal length (cm)', 'petal width (cm)']].corr()\n",
    "df_corr"
   ]
  },
  {
   "cell_type": "markdown",
   "metadata": {},
   "source": [
    "#### Plot a matplot lib heatmap of the correlation coef\n",
    "\n",
    "Heat map is a number boxs in a matrix of all the features on x and y axis . The value of the box represents the \"strength\" of the correlation between the two features"
   ]
  },
  {
   "cell_type": "code",
   "execution_count": null,
   "metadata": {},
   "outputs": [],
   "source": [
    "plt.figure(figsize=(8, 8)) \n",
    "# plots the color map of the correlation matrix - the color is based on the value of the correlation\n",
    "plt.imshow(df_corr, cmap='coolwarm', interpolation='nearest') \n",
    "## returns a eveny space range of number for 4 it is 0,1,2,3(np.arange(len(df_corr.columns)  ))\n",
    "plt.colorbar(label='Correlation Coefficient')  \n",
    "plt.xticks(np.arange(len(df_corr.columns)), df_corr.columns, rotation=45, ha='right')  \n",
    "plt.yticks(np.arange(len(df_corr.index)), df_corr.index)  #\n",
    "plt.title('Correlation Heatmap')\n",
    "plt.tight_layout()\n",
    "plt.show()"
   ]
  },
  {
   "cell_type": "markdown",
   "metadata": {},
   "source": [
    "### Correlation Coefficients\n",
    "\n",
    "This is incorrect , it is not cc for individual features , it is for all 4 features.  The correlation coefficient is a measure of the strength and direction of a linear relationship between two variables. The correlation coefficient ranges from -1 to 1. A value of 1 indicates a perfect positive linear relationship between two variables, while a value of -1 indicates a perfect negative linear relationship. A value of 0 indicates no linear relationship between the two variables.\n",
    "\n",
    "TODO - remove this section , it incorrect but interesting ways of doing it"
   ]
  },
  {
   "cell_type": "code",
   "execution_count": null,
   "metadata": {},
   "outputs": [],
   "source": [
    "# reset plot\n",
    "# \n",
    "plt.clf()\n",
    "# We will first calculate the coefficient for petals , for all and then for each species\n",
    "corr_coef_petal_all = df_iris['petal length (cm)'].corr(df_iris['petal width (cm)'])\n",
    "# now do each of the species\n",
    "corr_coef_petal_serosa = df_iris[df_iris['target'] == 'setosa']['petal length (cm)'].corr(df_iris[df_iris['target'] == 'setosa']['petal width (cm)'])\n",
    "corr_coef_petal_versicolor = df_iris[df_iris['target'] == 'versicolor']['petal length (cm)'].corr(df_iris[df_iris['target'] == 'versicolor']['petal width (cm)'])\n",
    "corr_coef_petal_virginica = df_iris[df_iris['target'] == 'virginica']['petal length (cm)'].corr(df_iris[df_iris['target'] == 'virginica']['petal width (cm)'])\n",
    "#print(f\"Petal Correlation Coefficient for all species : {corr_coef_petal_all:.2f}\")\n",
    "#print(f\"Petal Correlation Coefficient for setosa      : {corr_coef_petal_serosa:.2f}\")\n",
    "#print(f\"Petal Correlation Coefficient for versicolor  : {corr_coef_petal_versicolor:.2f}\")\n",
    "#print(f\"Petal Correlation Coefficient for virginica   : {corr_coef_petal_virginica:.2f}\")\n",
    "# plot 4 plots all , setosa, versicolor, virginica\n",
    "# so i can visualise the coefficients\n",
    "# 2 x 2 plot but wider than tall\n",
    "fig , ax = plt.subplots(nrows=2, ncols=2,figsize=(10,10))\n",
    "fig.suptitle('Petal Length vs Petal Width')\n",
    "# All species\n",
    "ax[0,0].scatter(df_iris['petal length (cm)'], df_iris['petal width (cm)'] , c=[['r', 'g', 'b'][i] for i in bunch_iris.target],\n",
    "                 label = ['setosa','versicolor','virginica'],alpha=0.1)\n",
    "ax[0,0].set_title('All Species')\n",
    "# Setosa\n",
    "ax[0,1].scatter(df_iris[df_iris['target'] == 'setosa']['petal length (cm)'], df_iris[df_iris['target'] == 'setosa']['petal width (cm)'],c='r',alpha=0.1)\n",
    "ax[0,1].set_title('Setosa')\n",
    "# Versicolor\n",
    "ax[1,0].scatter(df_iris[df_iris['target'] == 'versicolor']['petal length (cm)'], df_iris[df_iris['target'] == 'versicolor']['petal width (cm)'],c='g',alpha=0.1)\n",
    "ax[1,0].set_title('Versicolor')\n",
    "# Virginica\n",
    "ax[1,1].scatter(df_iris[df_iris['target'] == 'virginica']['petal length (cm)'], df_iris[df_iris['target'] == 'virginica']['petal width (cm)'],c='b',alpha=0.1)\n",
    "ax[1,1].set_title('Virginica')\n",
    "# add the correlation coefficient to the plots\n",
    "# Add correlation coefficient to the plots for all species\n",
    "# at first data point\n",
    "ax[0,0].text(df_iris['petal length (cm)'].min(), df_iris['petal width (cm)'].min(), f\"Correlation Coefficient : {corr_coef_petal_all:.2f}\")\n",
    "# Add correlation coefficient to the plots for setosa\n",
    "# at first data point\n",
    "ax[0,1].text(df_iris[df_iris['target'] == 'setosa']['petal length (cm)'].min(), df_iris[df_iris['target'] == 'setosa']['petal width (cm)'].min(), f\"Correlation Coefficient : {corr_coef_petal_serosa:.2f}\")\n",
    "# Add correlation coefficient to the plots for versicolor\n",
    "# at first data point\n",
    "ax[1,0].text(df_iris[df_iris['target'] == 'versicolor']['petal length (cm)'].min(), df_iris[df_iris['target'] == 'versicolor']['petal width (cm)'].min(), f\"Correlation Coefficient : {corr_coef_petal_versicolor:.2f}\")\n",
    "# Add correlation coefficient to the plots for virginica\n",
    "# at first data point\n",
    "ax[1,1].text(df_iris[df_iris['target'] == 'virginica']['petal length (cm)'].min(), df_iris[df_iris['target'] == 'virginica']['petal width (cm)'].min(), f\"Correlation Coefficient : {corr_coef_petal_virginica:.2f}\")\n",
    "\n",
    "# adjust the space between the plots\n",
    "plt.show()\n",
    "\n",
    "# reset plot\n",
    "plt.clf()\n",
    "# now do a heatmap\n",
    "plt.figure(figsize=(8, 6))  # Adjust figure size as needed\n",
    "plt.imshow(correlation_matrix, cmap='coolwarm', interpolation='nearest')  # Use a colormap\n",
    "plt.colorbar(label='Correlation Coefficient')  # Add a colorbar\n",
    "plt.xticks(np.arange(len(correlation_matrix.columns)), correlation_matrix.columns, rotation=45, ha='right')  # Rotate x-axis labels\n",
    "plt.yticks(np.arange(len(correlation_matrix.index)), correlation_matrix.index)  # Set y-axis labels\n",
    "plt.title('Correlation Heatmap')\n",
    "plt.tight_layout() # Adjust layout to prevent labels from overlapping\n",
    "plt.show()\n",
    "\n",
    "\n",
    "\n"
   ]
  },
  {
   "cell_type": "code",
   "execution_count": null,
   "metadata": {},
   "outputs": [],
   "source": []
  },
  {
   "cell_type": "markdown",
   "metadata": {},
   "source": [
    "## Task 9: Fit a Simple Linear Regression\n",
    "\n",
    "For your two features in Task 5, calculate the coefficient of determination $R^2$.  \n",
    "Re-create the plot from Task 6 and annotate it with the $R^2$ value."
   ]
  },
  {
   "cell_type": "markdown",
   "metadata": {},
   "source": [
    "### References\n",
    "\n",
    "- https://en.wikipedia.org/wiki/Coefficient_of_determination\n",
    "- Nice Explanantion https://medium.com/@muhammadsohaib3434/r-squared-r%C2%B2-6582386b8821\n",
    "\n",
    "\n",
    "### Gemini AI \n",
    "\n",
    "* explain the coefficient of determination to a high school student *\n",
    "\n",
    "The coefficient of determination is a measure of how well the regression line fits the data. It is a value between 0 and 1, with 1 indicating a perfect fit. The coefficient of determination is calculated as the square of the correlation coefficient, and it represents the proportion of the variance in the dependent variable that is predictable from the independent variable. In other words, it tells you how much of the variation in the dependent variable can be explained by the independent variable. A coefficient of determination of 0 means that the independent variable does not explain any of the variation in the dependent variable, while a coefficient of determination of 1 means that the independent variable explains all of the variation in the dependent variable.\n",
    "\n",
    "Alright, let's break down the coefficient of determination (often called R-squared) in a way that's easy to understand.\n",
    "\n",
    "Imagine you're trying to predict something, like how well someone will do on a test. You might look at how much they studied.\n",
    "\n",
    "Here's the basic idea:\n",
    "\n",
    "* **You've got some data:** You've collected information on how many hours a bunch of students studied, and what scores they got on the test.\n",
    "* **You make a prediction:** You draw a line (or use a more complex model) that you think best shows the relationship between studying and test scores. This line is your prediction.\n",
    "* **But how good is your prediction?** That's where R-squared comes in.\n",
    "\n",
    "Here's how to think about it:\n",
    "\n",
    "* **R-squared tells you how much of the variation in your results your prediction explains.**\n",
    "    * Think of \"variation\" as how spread out the test scores are. Some students did really well, some did poorly, and most were in the middle.\n",
    "    * R-squared tells you what percentage of that spread your study-hours prediction can account for.\n",
    "* **R-squared is a number between 0 and 1 (or 0% and 100%).**\n",
    "    * If R-squared is 1 (or 100%), it means your prediction is perfect. Every student's score perfectly matched what your line predicted.\n",
    "    * If R-squared is 0 (or 0%), it means your prediction is useless. Knowing how much someone studied tells you nothing about their test score.\n",
    "    * If R-squared is, say, 0.7 (or 70%), it means that 70% of the variation in test scores can be explained by how much the students studied. The other 30% is due to other factors (like how well they slept, or how good they are at taking tests).\n",
    "\n",
    "**In simpler terms:**\n",
    "\n",
    "* R-squared is like a grade for your prediction. A higher R-squared means your prediction is better.\n",
    "* It tells you how well your model \"fits\" the data.\n",
    "\n",
    "**Key takeaway:**\n",
    "\n",
    "* R-squared helps you understand how reliable your predictions are.\n",
    "\n",
    "I hope that helps!\n"
   ]
  },
  {
   "cell_type": "code",
   "execution_count": null,
   "metadata": {},
   "outputs": [],
   "source": [
    "## We will use pandas to determine coeffiecient of dermination\n"
   ]
  },
  {
   "cell_type": "markdown",
   "metadata": {},
   "source": [
    "## Task 10: Too Many Features\n",
    "\n",
    "Use `seaborn` to create a `pairplot` of the data set.  \n",
    "Explain, in your own words, what the `pairplot` depicts. "
   ]
  },
  {
   "cell_type": "markdown",
   "metadata": {},
   "source": [
    "\n",
    "#### References\n",
    "https://seaborn.pydata.org/generated/seaborn.pairplot.html"
   ]
  },
  {
   "cell_type": "code",
   "execution_count": null,
   "metadata": {},
   "outputs": [],
   "source": [
    "# Use seaborn pairplot to visualize the data\n",
    "# use df_iris and hue='target' to color the data points by target\n",
    "sns.pairplot(df_iris,hue='target')"
   ]
  },
  {
   "cell_type": "markdown",
   "metadata": {},
   "source": [
    "Used reg plot because I was interested in the outlay. \n",
    "This shows a regision line throut the two axis.\n",
    "May indicate that there is a relationship between length and width. Makes sense. \n",
    "Is there a clusting equivalent - something like kmeans"
   ]
  },
  {
   "cell_type": "code",
   "execution_count": null,
   "metadata": {},
   "outputs": [],
   "source": [
    "sns.pairplot(df_iris,hue='target',kind='reg')"
   ]
  },
  {
   "cell_type": "markdown",
   "metadata": {},
   "source": [
    "### PairPlot Using KDE\n",
    "\n"
   ]
  },
  {
   "cell_type": "code",
   "execution_count": null,
   "metadata": {},
   "outputs": [],
   "source": [
    "sns.pairplot(df_iris,hue='target',kind='kde')"
   ]
  },
  {
   "cell_type": "markdown",
   "metadata": {},
   "source": [
    "## END"
   ]
  }
 ],
 "metadata": {
  "kernelspec": {
   "display_name": "base",
   "language": "python",
   "name": "python3"
  },
  "language_info": {
   "codemirror_mode": {
    "name": "ipython",
    "version": 3
   },
   "file_extension": ".py",
   "mimetype": "text/x-python",
   "name": "python",
   "nbconvert_exporter": "python",
   "pygments_lexer": "ipython3",
   "version": "3.12.7"
  }
 },
 "nbformat": 4,
 "nbformat_minor": 2
}
