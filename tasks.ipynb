{
 "cells": [
  {
   "cell_type": "markdown",
   "metadata": {},
   "source": [
    "# Principals of Data Analytics - Tasks\n",
    "\n"
   ]
  },
  {
   "cell_type": "markdown",
   "metadata": {},
   "source": [
    "## Imports\n",
    "\n",
    "The following imports are approved numpy, scipy, matplotlib, seaborn, pandas, statsmodels, scikit-learn"
   ]
  },
  {
   "cell_type": "code",
   "execution_count": 1,
   "metadata": {},
   "outputs": [],
   "source": [
    "import pandas as pd\n",
    "import numpy as np\n",
    "import matplotlib.pyplot as plt\n",
    "import seaborn as sns\n",
    "# import sklearn\n",
    "import sklearn"
   ]
  },
  {
   "cell_type": "markdown",
   "metadata": {},
   "source": [
    "# Task 1: Source the Data Set\n",
    "\n",
    "Import the Iris data set from the `sklearn.datasets` module.  \n",
    "Explain, in your own words, what the `load_iris()` function returns.\n",
    "\n",
    "\n",
    "\n",
    "\n"
   ]
  },
  {
   "cell_type": "markdown",
   "metadata": {},
   "source": [
    "### Task 1 : Answer\n",
    "\n",
    "#### Summary\n",
    "\n",
    "The load_iris scikit_learn function returns a built-in small dataset of irish flowers. The data set consists of 150 records evenly distributed among three different iris species , Setosa , Versicolour , Virginica. The data has 4 features , petal length and width , and petal length and width in cm , and the iris species.\n",
    "\n",
    "The load iris returns a number of \"data sets\" . The data dataset of features , a target dataset of a surrogate key to the associated iris species , target names in order of the surrogate key , and the feature names.\n",
    "\n",
    "\n",
    "\n",
    "***Image for Iris Flowers***\n",
    "\n",
    "For those who are not gardeners , an image below\n",
    "\n",
    "**Irish diagram with petals and petals\n",
    "\n",
    "https://www.life.illinois.edu/help/digitalflowers/Iridaceae/9.htm\n",
    "\n",
    "**Iris-Setosa**\n",
    "\n",
    "https://en.wikipedia.org/wiki/Iris_setosa#/media/File:Irissetosa1.jpg\n",
    "\n",
    "**Iris-Versicolour**\n",
    "\n",
    "https://upload.wikimedia.org/wikipedia/commons/2/27/Blue_Flag%2C_Ottawa.jpg\n",
    "\n",
    "**Iris-Virginica**\n",
    "\n",
    "https://en.wikipedia.org/wiki/Iris_virginica#/media/File:Iris_virginica_2.jpg\n",
    "\n",
    "### References\n",
    "https://scikit-learn.org/1.5/modules/generated/sklearn.datasets.load_iris.html\n",
    "\n",
    "https://scikit-learn.org/stable/datasets/toy_dataset.html#iris-dataset\n",
    "\n",
    "\n",
    "\n"
   ]
  },
  {
   "cell_type": "code",
   "execution_count": 21,
   "metadata": {},
   "outputs": [],
   "source": [
    "# Task 1: Import the data\n",
    "# Load the iris dataset from the sklearn.datasets module using the load_iris() function.\n",
    "# The iris dataset is a dictionary-like object that holds all the data and some metadata about the data.\n",
    "import sklearn.datasets as datasets\n"
   ]
  },
  {
   "cell_type": "markdown",
   "metadata": {},
   "source": [
    "Run help(load_iris) to get more information on the function\n"
   ]
  },
  {
   "cell_type": "code",
   "execution_count": 31,
   "metadata": {},
   "outputs": [
    {
     "name": "stdout",
     "output_type": "stream",
     "text": [
      "Help on function load_iris in module sklearn.datasets._base:\n",
      "\n",
      "load_iris(*, return_X_y=False, as_frame=False)\n",
      "    Load and return the iris dataset (classification).\n",
      "\n",
      "    The iris dataset is a classic and very easy multi-class classification\n",
      "    dataset.\n",
      "\n",
      "    =================   ==============\n",
      "    Classes                          3\n",
      "    Samples per class               50\n",
      "    Samples total                  150\n",
      "    Dimensionality                   4\n",
      "    Features            real, positive\n",
      "    =================   ==============\n",
      "\n",
      "    Read more in the :ref:`User Guide <iris_dataset>`.\n",
      "\n",
      "    .. versionchanged:: 0.20\n",
      "        Fixed two wrong data points according to Fisher's paper.\n",
      "        The new version is the same as in R, but not as in the UCI\n",
      "        Machine Learning Repository.\n",
      "\n",
      "    Parameters\n",
      "    ----------\n",
      "    return_X_y : bool, default=False\n",
      "        If True, returns ``(data, target)`` instead of a Bunch object. See\n",
      "        below for more information about the `data` and `target` object.\n",
      "\n",
      "        .. versionadded:: 0.18\n",
      "\n",
      "    as_frame : bool, default=False\n",
      "        If True, the data is a pandas DataFrame including columns with\n",
      "        appropriate dtypes (numeric). The target is\n",
      "        a pandas DataFrame or Series depending on the number of target columns.\n",
      "        If `return_X_y` is True, then (`data`, `target`) will be pandas\n",
      "        DataFrames or Series as described below.\n",
      "\n",
      "        .. versionadded:: 0.23\n",
      "\n",
      "    Returns\n",
      "    -------\n",
      "    data : :class:`~sklearn.utils.Bunch`\n",
      "        Dictionary-like object, with the following attributes.\n",
      "\n",
      "        data : {ndarray, dataframe} of shape (150, 4)\n",
      "            The data matrix. If `as_frame=True`, `data` will be a pandas\n",
      "            DataFrame.\n",
      "        target: {ndarray, Series} of shape (150,)\n",
      "            The classification target. If `as_frame=True`, `target` will be\n",
      "            a pandas Series.\n",
      "        feature_names: list\n",
      "            The names of the dataset columns.\n",
      "        target_names: list\n",
      "            The names of target classes.\n",
      "        frame: DataFrame of shape (150, 5)\n",
      "            Only present when `as_frame=True`. DataFrame with `data` and\n",
      "            `target`.\n",
      "\n",
      "            .. versionadded:: 0.23\n",
      "        DESCR: str\n",
      "            The full description of the dataset.\n",
      "        filename: str\n",
      "            The path to the location of the data.\n",
      "\n",
      "            .. versionadded:: 0.20\n",
      "\n",
      "    (data, target) : tuple if ``return_X_y`` is True\n",
      "        A tuple of two ndarray. The first containing a 2D array of shape\n",
      "        (n_samples, n_features) with each row representing one sample and\n",
      "        each column representing the features. The second ndarray of shape\n",
      "        (n_samples,) containing the target samples.\n",
      "\n",
      "        .. versionadded:: 0.18\n",
      "\n",
      "    Examples\n",
      "    --------\n",
      "    Let's say you are interested in the samples 10, 25, and 50, and want to\n",
      "    know their class name.\n",
      "\n",
      "    >>> from sklearn.datasets import load_iris\n",
      "    >>> data = load_iris()\n",
      "    >>> data.target[[10, 25, 50]]\n",
      "    array([0, 0, 1])\n",
      "    >>> list(data.target_names)\n",
      "    [np.str_('setosa'), np.str_('versicolor'), np.str_('virginica')]\n",
      "\n",
      "    See :ref:`sphx_glr_auto_examples_decomposition_plot_pca_iris.py` for a more\n",
      "    detailed example of how to work with the iris dataset.\n",
      "\n"
     ]
    }
   ],
   "source": [
    "help(datasets.load_iris);"
   ]
  },
  {
   "cell_type": "markdown",
   "metadata": {},
   "source": [
    "Load the iris data set"
   ]
  },
  {
   "cell_type": "code",
   "execution_count": 33,
   "metadata": {},
   "outputs": [
    {
     "name": "stdout",
     "output_type": "stream",
     "text": [
      "Shape of the data:  (150, 4)\n",
      "Info of the data:  dict_keys(['data', 'target', 'frame', 'target_names', 'DESCR', 'feature_names', 'filename', 'data_module'])\n"
     ]
    }
   ],
   "source": [
    "bunch_iris = datasets.load_iris()\n",
    "# Print out shape,info and head of the data\n",
    "print(\"Shape of the data: \", bunch_iris.data.shape)\n",
    "print(\"Info of the data: \", bunch_iris.keys())\n",
    "\n"
   ]
  },
  {
   "cell_type": "markdown",
   "metadata": {},
   "source": [
    "Feature Names"
   ]
  },
  {
   "cell_type": "code",
   "execution_count": 4,
   "metadata": {},
   "outputs": [
    {
     "data": {
      "application/vnd.microsoft.datawrangler.viewer.v0+json": {
       "columns": [
        {
         "name": "index",
         "rawType": "int64",
         "type": "integer"
        },
        {
         "name": "0",
         "rawType": "object",
         "type": "string"
        }
       ],
       "conversionMethod": "pd.DataFrame",
       "ref": "32260c20-c62e-4c0d-9222-0e414d7fd610",
       "rows": [
        [
         "0",
         "sepal length (cm)"
        ],
        [
         "1",
         "sepal width (cm)"
        ],
        [
         "2",
         "petal length (cm)"
        ],
        [
         "3",
         "petal width (cm)"
        ]
       ],
       "shape": {
        "columns": 1,
        "rows": 4
       }
      },
      "text/html": [
       "<div>\n",
       "<style scoped>\n",
       "    .dataframe tbody tr th:only-of-type {\n",
       "        vertical-align: middle;\n",
       "    }\n",
       "\n",
       "    .dataframe tbody tr th {\n",
       "        vertical-align: top;\n",
       "    }\n",
       "\n",
       "    .dataframe thead th {\n",
       "        text-align: right;\n",
       "    }\n",
       "</style>\n",
       "<table border=\"1\" class=\"dataframe\">\n",
       "  <thead>\n",
       "    <tr style=\"text-align: right;\">\n",
       "      <th></th>\n",
       "      <th>0</th>\n",
       "    </tr>\n",
       "  </thead>\n",
       "  <tbody>\n",
       "    <tr>\n",
       "      <th>0</th>\n",
       "      <td>sepal length (cm)</td>\n",
       "    </tr>\n",
       "    <tr>\n",
       "      <th>1</th>\n",
       "      <td>sepal width (cm)</td>\n",
       "    </tr>\n",
       "    <tr>\n",
       "      <th>2</th>\n",
       "      <td>petal length (cm)</td>\n",
       "    </tr>\n",
       "    <tr>\n",
       "      <th>3</th>\n",
       "      <td>petal width (cm)</td>\n",
       "    </tr>\n",
       "  </tbody>\n",
       "</table>\n",
       "</div>"
      ],
      "text/plain": [
       "                   0\n",
       "0  sepal length (cm)\n",
       "1   sepal width (cm)\n",
       "2  petal length (cm)\n",
       "3   petal width (cm)"
      ]
     },
     "execution_count": 4,
     "metadata": {},
     "output_type": "execute_result"
    }
   ],
   "source": [
    "# Convert feature_names to DataFrame\n",
    "# Easier to read\n",
    "df_feature_name = pd.DataFrame(bunch_iris['feature_names'])\n",
    "df_feature_name"
   ]
  },
  {
   "cell_type": "markdown",
   "metadata": {},
   "source": [
    "Target Names"
   ]
  },
  {
   "cell_type": "code",
   "execution_count": 5,
   "metadata": {},
   "outputs": [
    {
     "data": {
      "application/vnd.microsoft.datawrangler.viewer.v0+json": {
       "columns": [
        {
         "name": "index",
         "rawType": "int64",
         "type": "integer"
        },
        {
         "name": "0",
         "rawType": "object",
         "type": "string"
        }
       ],
       "conversionMethod": "pd.DataFrame",
       "ref": "b043bc87-14ff-42c7-8a41-589edc0566fe",
       "rows": [
        [
         "0",
         "setosa"
        ],
        [
         "1",
         "versicolor"
        ],
        [
         "2",
         "virginica"
        ]
       ],
       "shape": {
        "columns": 1,
        "rows": 3
       }
      },
      "text/html": [
       "<div>\n",
       "<style scoped>\n",
       "    .dataframe tbody tr th:only-of-type {\n",
       "        vertical-align: middle;\n",
       "    }\n",
       "\n",
       "    .dataframe tbody tr th {\n",
       "        vertical-align: top;\n",
       "    }\n",
       "\n",
       "    .dataframe thead th {\n",
       "        text-align: right;\n",
       "    }\n",
       "</style>\n",
       "<table border=\"1\" class=\"dataframe\">\n",
       "  <thead>\n",
       "    <tr style=\"text-align: right;\">\n",
       "      <th></th>\n",
       "      <th>0</th>\n",
       "    </tr>\n",
       "  </thead>\n",
       "  <tbody>\n",
       "    <tr>\n",
       "      <th>0</th>\n",
       "      <td>setosa</td>\n",
       "    </tr>\n",
       "    <tr>\n",
       "      <th>1</th>\n",
       "      <td>versicolor</td>\n",
       "    </tr>\n",
       "    <tr>\n",
       "      <th>2</th>\n",
       "      <td>virginica</td>\n",
       "    </tr>\n",
       "  </tbody>\n",
       "</table>\n",
       "</div>"
      ],
      "text/plain": [
       "            0\n",
       "0      setosa\n",
       "1  versicolor\n",
       "2   virginica"
      ]
     },
     "execution_count": 5,
     "metadata": {},
     "output_type": "execute_result"
    }
   ],
   "source": [
    "# convert target names to dataframe for easier reading\n",
    "df_target_name = pd.DataFrame(bunch_iris['target_names'])\n",
    "df_target_name"
   ]
  },
  {
   "cell_type": "code",
   "execution_count": 34,
   "metadata": {},
   "outputs": [
    {
     "name": "stdout",
     "output_type": "stream",
     "text": [
      "Bunch iris:  {'data':      sepal length (cm)  sepal width (cm)  petal length (cm)  petal width (cm)\n",
      "0                  5.1               3.5                1.4               0.2\n",
      "1                  4.9               3.0                1.4               0.2\n",
      "2                  4.7               3.2                1.3               0.2\n",
      "3                  4.6               3.1                1.5               0.2\n",
      "4                  5.0               3.6                1.4               0.2\n",
      "..                 ...               ...                ...               ...\n",
      "145                6.7               3.0                5.2               2.3\n",
      "146                6.3               2.5                5.0               1.9\n",
      "147                6.5               3.0                5.2               2.0\n",
      "148                6.2               3.4                5.4               2.3\n",
      "149                5.9               3.0                5.1               1.8\n",
      "\n",
      "[150 rows x 4 columns], 'target': 0      0\n",
      "1      0\n",
      "2      0\n",
      "3      0\n",
      "4      0\n",
      "      ..\n",
      "145    2\n",
      "146    2\n",
      "147    2\n",
      "148    2\n",
      "149    2\n",
      "Name: target, Length: 150, dtype: int64, 'frame':      sepal length (cm)  sepal width (cm)  petal length (cm)  petal width (cm)  \\\n",
      "0                  5.1               3.5                1.4               0.2   \n",
      "1                  4.9               3.0                1.4               0.2   \n",
      "2                  4.7               3.2                1.3               0.2   \n",
      "3                  4.6               3.1                1.5               0.2   \n",
      "4                  5.0               3.6                1.4               0.2   \n",
      "..                 ...               ...                ...               ...   \n",
      "145                6.7               3.0                5.2               2.3   \n",
      "146                6.3               2.5                5.0               1.9   \n",
      "147                6.5               3.0                5.2               2.0   \n",
      "148                6.2               3.4                5.4               2.3   \n",
      "149                5.9               3.0                5.1               1.8   \n",
      "\n",
      "     target  \n",
      "0         0  \n",
      "1         0  \n",
      "2         0  \n",
      "3         0  \n",
      "4         0  \n",
      "..      ...  \n",
      "145       2  \n",
      "146       2  \n",
      "147       2  \n",
      "148       2  \n",
      "149       2  \n",
      "\n",
      "[150 rows x 5 columns], 'target_names': array(['setosa', 'versicolor', 'virginica'], dtype='<U10'), 'DESCR': '.. _iris_dataset:\\n\\nIris plants dataset\\n--------------------\\n\\n**Data Set Characteristics:**\\n\\n:Number of Instances: 150 (50 in each of three classes)\\n:Number of Attributes: 4 numeric, predictive attributes and the class\\n:Attribute Information:\\n    - sepal length in cm\\n    - sepal width in cm\\n    - petal length in cm\\n    - petal width in cm\\n    - class:\\n            - Iris-Setosa\\n            - Iris-Versicolour\\n            - Iris-Virginica\\n\\n:Summary Statistics:\\n\\n============== ==== ==== ======= ===== ====================\\n                Min  Max   Mean    SD   Class Correlation\\n============== ==== ==== ======= ===== ====================\\nsepal length:   4.3  7.9   5.84   0.83    0.7826\\nsepal width:    2.0  4.4   3.05   0.43   -0.4194\\npetal length:   1.0  6.9   3.76   1.76    0.9490  (high!)\\npetal width:    0.1  2.5   1.20   0.76    0.9565  (high!)\\n============== ==== ==== ======= ===== ====================\\n\\n:Missing Attribute Values: None\\n:Class Distribution: 33.3% for each of 3 classes.\\n:Creator: R.A. Fisher\\n:Donor: Michael Marshall (MARSHALL%PLU@io.arc.nasa.gov)\\n:Date: July, 1988\\n\\nThe famous Iris database, first used by Sir R.A. Fisher. The dataset is taken\\nfrom Fisher\\'s paper. Note that it\\'s the same as in R, but not as in the UCI\\nMachine Learning Repository, which has two wrong data points.\\n\\nThis is perhaps the best known database to be found in the\\npattern recognition literature.  Fisher\\'s paper is a classic in the field and\\nis referenced frequently to this day.  (See Duda & Hart, for example.)  The\\ndata set contains 3 classes of 50 instances each, where each class refers to a\\ntype of iris plant.  One class is linearly separable from the other 2; the\\nlatter are NOT linearly separable from each other.\\n\\n.. dropdown:: References\\n\\n  - Fisher, R.A. \"The use of multiple measurements in taxonomic problems\"\\n    Annual Eugenics, 7, Part II, 179-188 (1936); also in \"Contributions to\\n    Mathematical Statistics\" (John Wiley, NY, 1950).\\n  - Duda, R.O., & Hart, P.E. (1973) Pattern Classification and Scene Analysis.\\n    (Q327.D83) John Wiley & Sons.  ISBN 0-471-22361-1.  See page 218.\\n  - Dasarathy, B.V. (1980) \"Nosing Around the Neighborhood: A New System\\n    Structure and Classification Rule for Recognition in Partially Exposed\\n    Environments\".  IEEE Transactions on Pattern Analysis and Machine\\n    Intelligence, Vol. PAMI-2, No. 1, 67-71.\\n  - Gates, G.W. (1972) \"The Reduced Nearest Neighbor Rule\".  IEEE Transactions\\n    on Information Theory, May 1972, 431-433.\\n  - See also: 1988 MLC Proceedings, 54-64.  Cheeseman et al\"s AUTOCLASS II\\n    conceptual clustering system finds 3 classes in the data.\\n  - Many, many more ...\\n', 'feature_names': ['sepal length (cm)', 'sepal width (cm)', 'petal length (cm)', 'petal width (cm)'], 'filename': 'iris.csv', 'data_module': 'sklearn.datasets.data'}\n",
      "Keys:  dict_keys(['data', 'target', 'frame', 'target_names', 'DESCR', 'feature_names', 'filename', 'data_module'])\n",
      "Feature names:  ['sepal length (cm)', 'sepal width (cm)', 'petal length (cm)', 'petal width (cm)']\n",
      "Target names:  ['setosa' 'versicolor' 'virginica']\n",
      "Data:     sepal length (cm)  sepal width (cm)  petal length (cm)  petal width (cm)\n",
      "0                5.1               3.5                1.4               0.2\n",
      "1                4.9               3.0                1.4               0.2\n",
      "2                4.7               3.2                1.3               0.2\n",
      "3                4.6               3.1                1.5               0.2\n",
      "4                5.0               3.6                1.4               0.2\n",
      "Target:  0    0\n",
      "1    0\n",
      "2    0\n",
      "3    0\n",
      "4    0\n",
      "Name: target, dtype: int64\n"
     ]
    }
   ],
   "source": [
    "bunch_iris = datasets.load_iris(as_frame=True)\n",
    "print(\"Bunch iris: \", bunch_iris)\n",
    "print(\"Keys: \", bunch_iris.keys())\n",
    "print(\"Feature names: \", bunch_iris['feature_names'])\n",
    "print(\"Target names: \", bunch_iris['target_names'])\n",
    "print(\"Data: \", bunch_iris['data'].head())\n",
    "print(\"Target: \", bunch_iris['target'].head())\n",
    "\n"
   ]
  },
  {
   "cell_type": "code",
   "execution_count": 7,
   "metadata": {},
   "outputs": [
    {
     "name": "stdout",
     "output_type": "stream",
     "text": [
      "<class 'pandas.core.frame.DataFrame'>\n",
      "RangeIndex: 150 entries, 0 to 149\n",
      "Data columns (total 4 columns):\n",
      " #   Column             Non-Null Count  Dtype  \n",
      "---  ------             --------------  -----  \n",
      " 0   sepal length (cm)  150 non-null    float64\n",
      " 1   sepal width (cm)   150 non-null    float64\n",
      " 2   petal length (cm)  150 non-null    float64\n",
      " 3   petal width (cm)   150 non-null    float64\n",
      "dtypes: float64(4)\n",
      "memory usage: 4.8 KB\n"
     ]
    },
    {
     "data": {
      "application/vnd.microsoft.datawrangler.viewer.v0+json": {
       "columns": [
        {
         "name": "index",
         "rawType": "int64",
         "type": "integer"
        },
        {
         "name": "sepal length (cm)",
         "rawType": "float64",
         "type": "float"
        },
        {
         "name": "sepal width (cm)",
         "rawType": "float64",
         "type": "float"
        },
        {
         "name": "petal length (cm)",
         "rawType": "float64",
         "type": "float"
        },
        {
         "name": "petal width (cm)",
         "rawType": "float64",
         "type": "float"
        }
       ],
       "conversionMethod": "pd.DataFrame",
       "ref": "6f48feb5-db60-419d-8865-a5fce7aa29b6",
       "rows": [
        [
         "0",
         "5.1",
         "3.5",
         "1.4",
         "0.2"
        ],
        [
         "1",
         "4.9",
         "3.0",
         "1.4",
         "0.2"
        ],
        [
         "2",
         "4.7",
         "3.2",
         "1.3",
         "0.2"
        ],
        [
         "3",
         "4.6",
         "3.1",
         "1.5",
         "0.2"
        ],
        [
         "4",
         "5.0",
         "3.6",
         "1.4",
         "0.2"
        ]
       ],
       "shape": {
        "columns": 4,
        "rows": 5
       }
      },
      "text/html": [
       "<div>\n",
       "<style scoped>\n",
       "    .dataframe tbody tr th:only-of-type {\n",
       "        vertical-align: middle;\n",
       "    }\n",
       "\n",
       "    .dataframe tbody tr th {\n",
       "        vertical-align: top;\n",
       "    }\n",
       "\n",
       "    .dataframe thead th {\n",
       "        text-align: right;\n",
       "    }\n",
       "</style>\n",
       "<table border=\"1\" class=\"dataframe\">\n",
       "  <thead>\n",
       "    <tr style=\"text-align: right;\">\n",
       "      <th></th>\n",
       "      <th>sepal length (cm)</th>\n",
       "      <th>sepal width (cm)</th>\n",
       "      <th>petal length (cm)</th>\n",
       "      <th>petal width (cm)</th>\n",
       "    </tr>\n",
       "  </thead>\n",
       "  <tbody>\n",
       "    <tr>\n",
       "      <th>0</th>\n",
       "      <td>5.1</td>\n",
       "      <td>3.5</td>\n",
       "      <td>1.4</td>\n",
       "      <td>0.2</td>\n",
       "    </tr>\n",
       "    <tr>\n",
       "      <th>1</th>\n",
       "      <td>4.9</td>\n",
       "      <td>3.0</td>\n",
       "      <td>1.4</td>\n",
       "      <td>0.2</td>\n",
       "    </tr>\n",
       "    <tr>\n",
       "      <th>2</th>\n",
       "      <td>4.7</td>\n",
       "      <td>3.2</td>\n",
       "      <td>1.3</td>\n",
       "      <td>0.2</td>\n",
       "    </tr>\n",
       "    <tr>\n",
       "      <th>3</th>\n",
       "      <td>4.6</td>\n",
       "      <td>3.1</td>\n",
       "      <td>1.5</td>\n",
       "      <td>0.2</td>\n",
       "    </tr>\n",
       "    <tr>\n",
       "      <th>4</th>\n",
       "      <td>5.0</td>\n",
       "      <td>3.6</td>\n",
       "      <td>1.4</td>\n",
       "      <td>0.2</td>\n",
       "    </tr>\n",
       "  </tbody>\n",
       "</table>\n",
       "</div>"
      ],
      "text/plain": [
       "   sepal length (cm)  sepal width (cm)  petal length (cm)  petal width (cm)\n",
       "0                5.1               3.5                1.4               0.2\n",
       "1                4.9               3.0                1.4               0.2\n",
       "2                4.7               3.2                1.3               0.2\n",
       "3                4.6               3.1                1.5               0.2\n",
       "4                5.0               3.6                1.4               0.2"
      ]
     },
     "execution_count": 7,
     "metadata": {},
     "output_type": "execute_result"
    }
   ],
   "source": [
    "bunch_iris.data.info()\n",
    "bunch_iris.data.shape\n",
    "bunch_iris.data.describe()\n",
    "bunch_iris.data.head()"
   ]
  },
  {
   "cell_type": "code",
   "execution_count": 8,
   "metadata": {},
   "outputs": [
    {
     "name": "stdout",
     "output_type": "stream",
     "text": [
      "<class 'pandas.core.series.Series'>\n",
      "RangeIndex: 150 entries, 0 to 149\n",
      "Series name: target\n",
      "Non-Null Count  Dtype\n",
      "--------------  -----\n",
      "150 non-null    int64\n",
      "dtypes: int64(1)\n",
      "memory usage: 1.3 KB\n"
     ]
    },
    {
     "data": {
      "text/plain": [
       "0    0\n",
       "1    0\n",
       "2    0\n",
       "3    0\n",
       "4    0\n",
       "Name: target, dtype: int64"
      ]
     },
     "execution_count": 8,
     "metadata": {},
     "output_type": "execute_result"
    }
   ],
   "source": [
    "bunch_iris.target.info()\n",
    "bunch_iris.target.shape\n",
    "bunch_iris.target.describe()\n",
    "bunch_iris.target.head()\n"
   ]
  },
  {
   "cell_type": "markdown",
   "metadata": {},
   "source": [
    "# Task 2: Explore the Data Structure\n",
    "\n",
    "Print and explain the shape of the data set, the first and last 5 rows of the data, the feature names, and the target classes.  \n"
   ]
  },
  {
   "cell_type": "markdown",
   "metadata": {},
   "source": [
    "## Task 2 : Answer\n",
    "\n",
    "### Summary\n",
    "\n",
    "The iris data set is returned as a \"bunch\" object. The bunch object is a dictionary with the following keys\n",
    "\n",
    "- data : The feature data set\n",
    "- target : The target data set\n",
    "- target_names : The target names\n",
    "- feature_names : The feature names\n",
    "- DESCR : The description of the data set\n"
   ]
  },
  {
   "cell_type": "markdown",
   "metadata": {},
   "source": [
    "**Description of the data set (DESCR)**"
   ]
  },
  {
   "cell_type": "code",
   "execution_count": null,
   "metadata": {},
   "outputs": [
    {
     "name": "stdout",
     "output_type": "stream",
     "text": [
      ".. _iris_dataset:\n",
      "\n",
      "Iris plants dataset\n",
      "--------------------\n",
      "\n",
      "**Data Set Characteristics:**\n",
      "\n",
      ":Number of Instances: 150 (50 in each of three classes)\n",
      ":Number of Attributes: 4 numeric, predictive attributes and the class\n",
      ":Attribute Information:\n",
      "    - sepal length in cm\n",
      "    - sepal width in cm\n",
      "    - petal length in cm\n",
      "    - petal width in cm\n",
      "    - class:\n",
      "            - Iris-Setosa\n",
      "            - Iris-Versicolour\n",
      "            - Iris-Virginica\n",
      "\n",
      ":Summary Statistics:\n",
      "\n",
      "============== ==== ==== ======= ===== ====================\n",
      "                Min  Max   Mean    SD   Class Correlation\n",
      "============== ==== ==== ======= ===== ====================\n",
      "sepal length:   4.3  7.9   5.84   0.83    0.7826\n",
      "sepal width:    2.0  4.4   3.05   0.43   -0.4194\n",
      "petal length:   1.0  6.9   3.76   1.76    0.9490  (high!)\n",
      "petal width:    0.1  2.5   1.20   0.76    0.9565  (high!)\n",
      "============== ==== ==== ======= ===== ====================\n",
      "\n",
      ":Missing Attribute Values: None\n",
      ":Class Distribution: 33.3% for each of 3 classes.\n",
      ":Creator: R.A. Fisher\n",
      ":Donor: Michael Marshall (MARSHALL%PLU@io.arc.nasa.gov)\n",
      ":Date: July, 1988\n",
      "\n",
      "The famous Iris database, first used by Sir R.A. Fisher. The dataset is taken\n",
      "from Fisher's paper. Note that it's the same as in R, but not as in the UCI\n",
      "Machine Learning Repository, which has two wrong data points.\n",
      "\n",
      "This is perhaps the best known database to be found in the\n",
      "pattern recognition literature.  Fisher's paper is a classic in the field and\n",
      "is referenced frequently to this day.  (See Duda & Hart, for example.)  The\n",
      "data set contains 3 classes of 50 instances each, where each class refers to a\n",
      "type of iris plant.  One class is linearly separable from the other 2; the\n",
      "latter are NOT linearly separable from each other.\n",
      "\n",
      ".. dropdown:: References\n",
      "\n",
      "  - Fisher, R.A. \"The use of multiple measurements in taxonomic problems\"\n",
      "    Annual Eugenics, 7, Part II, 179-188 (1936); also in \"Contributions to\n",
      "    Mathematical Statistics\" (John Wiley, NY, 1950).\n",
      "  - Duda, R.O., & Hart, P.E. (1973) Pattern Classification and Scene Analysis.\n",
      "    (Q327.D83) John Wiley & Sons.  ISBN 0-471-22361-1.  See page 218.\n",
      "  - Dasarathy, B.V. (1980) \"Nosing Around the Neighborhood: A New System\n",
      "    Structure and Classification Rule for Recognition in Partially Exposed\n",
      "    Environments\".  IEEE Transactions on Pattern Analysis and Machine\n",
      "    Intelligence, Vol. PAMI-2, No. 1, 67-71.\n",
      "  - Gates, G.W. (1972) \"The Reduced Nearest Neighbor Rule\".  IEEE Transactions\n",
      "    on Information Theory, May 1972, 431-433.\n",
      "  - See also: 1988 MLC Proceedings, 54-64.  Cheeseman et al\"s AUTOCLASS II\n",
      "    conceptual clustering system finds 3 classes in the data.\n",
      "  - Many, many more ...\n",
      "\n"
     ]
    }
   ],
   "source": [
    "# This explains the data set\n",
    "print(bunch_iris.DESCR);"
   ]
  },
  {
   "cell_type": "code",
   "execution_count": null,
   "metadata": {},
   "outputs": [],
   "source": []
  },
  {
   "cell_type": "markdown",
   "metadata": {},
   "source": [
    "### Shape of data set\n",
    "\n",
    "The irish ( flower ) data dataset has 4 columns of features ( sepal length and width , and petal length and widht in cm ) and 150 rows of 50 of each type of the 3 iris species."
   ]
  },
  {
   "cell_type": "code",
   "execution_count": 50,
   "metadata": {},
   "outputs": [
    {
     "name": "stdout",
     "output_type": "stream",
     "text": [
      "Shape of the data: \n",
      "------------------\n",
      "Info of the data: \n",
      "------------------\n",
      "<class 'pandas.core.frame.DataFrame'>\n",
      "RangeIndex: 150 entries, 0 to 149\n",
      "Data columns (total 4 columns):\n",
      " #   Column             Non-Null Count  Dtype  \n",
      "---  ------             --------------  -----  \n",
      " 0   sepal length (cm)  150 non-null    float64\n",
      " 1   sepal width (cm)   150 non-null    float64\n",
      " 2   petal length (cm)  150 non-null    float64\n",
      " 3   petal width (cm)   150 non-null    float64\n",
      "dtypes: float64(4)\n",
      "memory usage: 4.8 KB\n",
      "Shape of the target: \n",
      "------------------\n",
      "Info of the target: \n",
      "------------------\n",
      "<class 'pandas.core.series.Series'>\n",
      "RangeIndex: 150 entries, 0 to 149\n",
      "Series name: target\n",
      "Non-Null Count  Dtype\n",
      "--------------  -----\n",
      "150 non-null    int64\n",
      "dtypes: int64(1)\n",
      "memory usage: 1.3 KB\n"
     ]
    }
   ],
   "source": [
    "print(\"Shape of the data: \")\n",
    "print(\"------------------\")\n",
    "bunch_iris.data.shape\n",
    "print(\"Info of the data: \")\n",
    "print(\"------------------\")\n",
    "bunch_iris.data.info()\n",
    "print(\"Shape of the target: \")\n",
    "print(\"------------------\")\n",
    "bunch_iris.target.shape\n",
    "print(\"Info of the target: \")\n",
    "print(\"------------------\")\n",
    "bunch_iris.target.info()"
   ]
  },
  {
   "cell_type": "markdown",
   "metadata": {},
   "source": [
    "### First and last 5 rows of the data set\n",
    "\n",
    "The data set in the \"bunch\" object is broken up into \"data\" or features and targets\n"
   ]
  },
  {
   "cell_type": "markdown",
   "metadata": {},
   "source": [
    "**Data ( Features ) First 5 Rows**"
   ]
  },
  {
   "cell_type": "code",
   "execution_count": 36,
   "metadata": {},
   "outputs": [
    {
     "data": {
      "application/vnd.microsoft.datawrangler.viewer.v0+json": {
       "columns": [
        {
         "name": "index",
         "rawType": "int64",
         "type": "integer"
        },
        {
         "name": "sepal length (cm)",
         "rawType": "float64",
         "type": "float"
        },
        {
         "name": "sepal width (cm)",
         "rawType": "float64",
         "type": "float"
        },
        {
         "name": "petal length (cm)",
         "rawType": "float64",
         "type": "float"
        },
        {
         "name": "petal width (cm)",
         "rawType": "float64",
         "type": "float"
        }
       ],
       "conversionMethod": "pd.DataFrame",
       "ref": "8b0d67b2-cb53-416c-8b34-b83ec08ab614",
       "rows": [
        [
         "0",
         "5.1",
         "3.5",
         "1.4",
         "0.2"
        ],
        [
         "1",
         "4.9",
         "3.0",
         "1.4",
         "0.2"
        ],
        [
         "2",
         "4.7",
         "3.2",
         "1.3",
         "0.2"
        ],
        [
         "3",
         "4.6",
         "3.1",
         "1.5",
         "0.2"
        ],
        [
         "4",
         "5.0",
         "3.6",
         "1.4",
         "0.2"
        ]
       ],
       "shape": {
        "columns": 4,
        "rows": 5
       }
      },
      "text/html": [
       "<div>\n",
       "<style scoped>\n",
       "    .dataframe tbody tr th:only-of-type {\n",
       "        vertical-align: middle;\n",
       "    }\n",
       "\n",
       "    .dataframe tbody tr th {\n",
       "        vertical-align: top;\n",
       "    }\n",
       "\n",
       "    .dataframe thead th {\n",
       "        text-align: right;\n",
       "    }\n",
       "</style>\n",
       "<table border=\"1\" class=\"dataframe\">\n",
       "  <thead>\n",
       "    <tr style=\"text-align: right;\">\n",
       "      <th></th>\n",
       "      <th>sepal length (cm)</th>\n",
       "      <th>sepal width (cm)</th>\n",
       "      <th>petal length (cm)</th>\n",
       "      <th>petal width (cm)</th>\n",
       "    </tr>\n",
       "  </thead>\n",
       "  <tbody>\n",
       "    <tr>\n",
       "      <th>0</th>\n",
       "      <td>5.1</td>\n",
       "      <td>3.5</td>\n",
       "      <td>1.4</td>\n",
       "      <td>0.2</td>\n",
       "    </tr>\n",
       "    <tr>\n",
       "      <th>1</th>\n",
       "      <td>4.9</td>\n",
       "      <td>3.0</td>\n",
       "      <td>1.4</td>\n",
       "      <td>0.2</td>\n",
       "    </tr>\n",
       "    <tr>\n",
       "      <th>2</th>\n",
       "      <td>4.7</td>\n",
       "      <td>3.2</td>\n",
       "      <td>1.3</td>\n",
       "      <td>0.2</td>\n",
       "    </tr>\n",
       "    <tr>\n",
       "      <th>3</th>\n",
       "      <td>4.6</td>\n",
       "      <td>3.1</td>\n",
       "      <td>1.5</td>\n",
       "      <td>0.2</td>\n",
       "    </tr>\n",
       "    <tr>\n",
       "      <th>4</th>\n",
       "      <td>5.0</td>\n",
       "      <td>3.6</td>\n",
       "      <td>1.4</td>\n",
       "      <td>0.2</td>\n",
       "    </tr>\n",
       "  </tbody>\n",
       "</table>\n",
       "</div>"
      ],
      "text/plain": [
       "   sepal length (cm)  sepal width (cm)  petal length (cm)  petal width (cm)\n",
       "0                5.1               3.5                1.4               0.2\n",
       "1                4.9               3.0                1.4               0.2\n",
       "2                4.7               3.2                1.3               0.2\n",
       "3                4.6               3.1                1.5               0.2\n",
       "4                5.0               3.6                1.4               0.2"
      ]
     },
     "execution_count": 36,
     "metadata": {},
     "output_type": "execute_result"
    }
   ],
   "source": [
    "bunch_iris.data.head()"
   ]
  },
  {
   "cell_type": "markdown",
   "metadata": {},
   "source": [
    "**Data ( Features ) Last 5 Rows**"
   ]
  },
  {
   "cell_type": "code",
   "execution_count": 37,
   "metadata": {},
   "outputs": [
    {
     "data": {
      "application/vnd.microsoft.datawrangler.viewer.v0+json": {
       "columns": [
        {
         "name": "index",
         "rawType": "int64",
         "type": "integer"
        },
        {
         "name": "sepal length (cm)",
         "rawType": "float64",
         "type": "float"
        },
        {
         "name": "sepal width (cm)",
         "rawType": "float64",
         "type": "float"
        },
        {
         "name": "petal length (cm)",
         "rawType": "float64",
         "type": "float"
        },
        {
         "name": "petal width (cm)",
         "rawType": "float64",
         "type": "float"
        }
       ],
       "conversionMethod": "pd.DataFrame",
       "ref": "9ce478fb-8f3b-4aa0-9e7f-99f11a9b8837",
       "rows": [
        [
         "145",
         "6.7",
         "3.0",
         "5.2",
         "2.3"
        ],
        [
         "146",
         "6.3",
         "2.5",
         "5.0",
         "1.9"
        ],
        [
         "147",
         "6.5",
         "3.0",
         "5.2",
         "2.0"
        ],
        [
         "148",
         "6.2",
         "3.4",
         "5.4",
         "2.3"
        ],
        [
         "149",
         "5.9",
         "3.0",
         "5.1",
         "1.8"
        ]
       ],
       "shape": {
        "columns": 4,
        "rows": 5
       }
      },
      "text/html": [
       "<div>\n",
       "<style scoped>\n",
       "    .dataframe tbody tr th:only-of-type {\n",
       "        vertical-align: middle;\n",
       "    }\n",
       "\n",
       "    .dataframe tbody tr th {\n",
       "        vertical-align: top;\n",
       "    }\n",
       "\n",
       "    .dataframe thead th {\n",
       "        text-align: right;\n",
       "    }\n",
       "</style>\n",
       "<table border=\"1\" class=\"dataframe\">\n",
       "  <thead>\n",
       "    <tr style=\"text-align: right;\">\n",
       "      <th></th>\n",
       "      <th>sepal length (cm)</th>\n",
       "      <th>sepal width (cm)</th>\n",
       "      <th>petal length (cm)</th>\n",
       "      <th>petal width (cm)</th>\n",
       "    </tr>\n",
       "  </thead>\n",
       "  <tbody>\n",
       "    <tr>\n",
       "      <th>145</th>\n",
       "      <td>6.7</td>\n",
       "      <td>3.0</td>\n",
       "      <td>5.2</td>\n",
       "      <td>2.3</td>\n",
       "    </tr>\n",
       "    <tr>\n",
       "      <th>146</th>\n",
       "      <td>6.3</td>\n",
       "      <td>2.5</td>\n",
       "      <td>5.0</td>\n",
       "      <td>1.9</td>\n",
       "    </tr>\n",
       "    <tr>\n",
       "      <th>147</th>\n",
       "      <td>6.5</td>\n",
       "      <td>3.0</td>\n",
       "      <td>5.2</td>\n",
       "      <td>2.0</td>\n",
       "    </tr>\n",
       "    <tr>\n",
       "      <th>148</th>\n",
       "      <td>6.2</td>\n",
       "      <td>3.4</td>\n",
       "      <td>5.4</td>\n",
       "      <td>2.3</td>\n",
       "    </tr>\n",
       "    <tr>\n",
       "      <th>149</th>\n",
       "      <td>5.9</td>\n",
       "      <td>3.0</td>\n",
       "      <td>5.1</td>\n",
       "      <td>1.8</td>\n",
       "    </tr>\n",
       "  </tbody>\n",
       "</table>\n",
       "</div>"
      ],
      "text/plain": [
       "     sepal length (cm)  sepal width (cm)  petal length (cm)  petal width (cm)\n",
       "145                6.7               3.0                5.2               2.3\n",
       "146                6.3               2.5                5.0               1.9\n",
       "147                6.5               3.0                5.2               2.0\n",
       "148                6.2               3.4                5.4               2.3\n",
       "149                5.9               3.0                5.1               1.8"
      ]
     },
     "execution_count": 37,
     "metadata": {},
     "output_type": "execute_result"
    }
   ],
   "source": [
    "bunch_iris.data.tail()"
   ]
  },
  {
   "cell_type": "markdown",
   "metadata": {},
   "source": [
    "**Target ( Species ) First 5 Rows**"
   ]
  },
  {
   "cell_type": "code",
   "execution_count": 45,
   "metadata": {},
   "outputs": [
    {
     "data": {
      "text/plain": [
       "0    0\n",
       "1    0\n",
       "2    0\n",
       "3    0\n",
       "4    0\n",
       "Name: target, dtype: int64"
      ]
     },
     "execution_count": 45,
     "metadata": {},
     "output_type": "execute_result"
    }
   ],
   "source": [
    "bunch_iris.target.head()"
   ]
  },
  {
   "cell_type": "markdown",
   "metadata": {},
   "source": [
    "**Target ( Species ) Last 5 Rows**"
   ]
  },
  {
   "cell_type": "code",
   "execution_count": 46,
   "metadata": {},
   "outputs": [
    {
     "data": {
      "text/plain": [
       "145    2\n",
       "146    2\n",
       "147    2\n",
       "148    2\n",
       "149    2\n",
       "Name: target, dtype: int64"
      ]
     },
     "execution_count": 46,
     "metadata": {},
     "output_type": "execute_result"
    }
   ],
   "source": [
    "bunch_iris.target.tail()"
   ]
  },
  {
   "cell_type": "markdown",
   "metadata": {},
   "source": [
    "### Feature Names\n",
    "\n",
    "The feature names are stored as metadata in irish dataset features names.\n",
    "\n",
    "\n",
    "#### Notes\n",
    "\n",
    "##### What is a sepal ? \n",
    "\n",
    "The outer parts of the flower (often green and leaf-like) that enclose a developing bud. Sepals are usually green, but in some species they may be brightly colored or resemble petals. Sepals help to protect the flower bud.\n",
    "\n",
    "\n",
    "#### What is a petal ?\n",
    "\n",
    " The parts of a flower that are often conspicuously colored. Petals are the parts of a flower that are often conspicuously colored. They are often involved in attracting pollinators, or are used to attract animals that help the plant to spread its seeds.\n",
    "\n",
    " https://www.amnh.org/learn-teach/curriculum-collections/biodiversity-counts/plant-identification/plant-morphology/parts-of-a-flower"
   ]
  },
  {
   "cell_type": "code",
   "execution_count": 38,
   "metadata": {},
   "outputs": [
    {
     "data": {
      "text/plain": [
       "['sepal length (cm)',\n",
       " 'sepal width (cm)',\n",
       " 'petal length (cm)',\n",
       " 'petal width (cm)']"
      ]
     },
     "execution_count": 38,
     "metadata": {},
     "output_type": "execute_result"
    }
   ],
   "source": [
    "bunch_iris.feature_names"
   ]
  },
  {
   "cell_type": "markdown",
   "metadata": {},
   "source": [
    "### Target Classes\n",
    "\n",
    "The target classes are the iris species , Setosa , Versicolour , Virginica. The target classes are stored as metadata in the irish dataset target names.\n",
    "\n",
    "The target part of the iris dataset is 150 records of the surrogate key to the associated iris species. \n",
    "There are a total of 3 target classes , 0 , 1 , 2 , which are the surrogate keys to the iris species , Setosa , Versicolour , Virginica.\n",
    "\n"
   ]
  },
  {
   "cell_type": "code",
   "execution_count": 39,
   "metadata": {},
   "outputs": [
    {
     "data": {
      "text/plain": [
       "target\n",
       "0    50\n",
       "1    50\n",
       "2    50\n",
       "Name: target, dtype: int64"
      ]
     },
     "execution_count": 39,
     "metadata": {},
     "output_type": "execute_result"
    }
   ],
   "source": [
    "# Count of each target\n",
    "# This shows the distribution of the target\n",
    "bunch_iris.target.groupby(bunch_iris.target).count()"
   ]
  },
  {
   "cell_type": "code",
   "execution_count": 52,
   "metadata": {},
   "outputs": [
    {
     "data": {
      "text/plain": [
       "array(['setosa', 'versicolor', 'virginica'], dtype='<U10')"
      ]
     },
     "execution_count": 52,
     "metadata": {},
     "output_type": "execute_result"
    }
   ],
   "source": [
    "bunch_iris.target_names"
   ]
  },
  {
   "cell_type": "markdown",
   "metadata": {},
   "source": [
    "# Task 3: Summarize the Data\n",
    "\n",
    "For each feature in the dataset, calculate and display:  \n",
    "\n",
    "- mean\n",
    "- minimum\n",
    "- maximum\n",
    "- standard deviation\n",
    "- median"
   ]
  },
  {
   "cell_type": "markdown",
   "metadata": {},
   "source": [
    "## Task 3 : Answer"
   ]
  },
  {
   "cell_type": "markdown",
   "metadata": {},
   "source": [
    "create a single dataframe with the results for all features and all species.\n",
    "The target class is converted to the species name in the final dataframe."
   ]
  },
  {
   "cell_type": "code",
   "execution_count": 15,
   "metadata": {},
   "outputs": [
    {
     "data": {
      "application/vnd.microsoft.datawrangler.viewer.v0+json": {
       "columns": [
        {
         "name": "index",
         "rawType": "int64",
         "type": "integer"
        },
        {
         "name": "sepal length (cm)",
         "rawType": "float64",
         "type": "float"
        },
        {
         "name": "sepal width (cm)",
         "rawType": "float64",
         "type": "float"
        },
        {
         "name": "petal length (cm)",
         "rawType": "float64",
         "type": "float"
        },
        {
         "name": "petal width (cm)",
         "rawType": "float64",
         "type": "float"
        },
        {
         "name": "target",
         "rawType": "object",
         "type": "string"
        }
       ],
       "conversionMethod": "pd.DataFrame",
       "ref": "74195621-85ab-4b99-bc55-d0f9c3557ee5",
       "rows": [
        [
         "0",
         "5.1",
         "3.5",
         "1.4",
         "0.2",
         "setosa"
        ],
        [
         "1",
         "4.9",
         "3.0",
         "1.4",
         "0.2",
         "setosa"
        ],
        [
         "2",
         "4.7",
         "3.2",
         "1.3",
         "0.2",
         "setosa"
        ],
        [
         "3",
         "4.6",
         "3.1",
         "1.5",
         "0.2",
         "setosa"
        ],
        [
         "4",
         "5.0",
         "3.6",
         "1.4",
         "0.2",
         "setosa"
        ]
       ],
       "shape": {
        "columns": 5,
        "rows": 5
       }
      },
      "text/html": [
       "<div>\n",
       "<style scoped>\n",
       "    .dataframe tbody tr th:only-of-type {\n",
       "        vertical-align: middle;\n",
       "    }\n",
       "\n",
       "    .dataframe tbody tr th {\n",
       "        vertical-align: top;\n",
       "    }\n",
       "\n",
       "    .dataframe thead th {\n",
       "        text-align: right;\n",
       "    }\n",
       "</style>\n",
       "<table border=\"1\" class=\"dataframe\">\n",
       "  <thead>\n",
       "    <tr style=\"text-align: right;\">\n",
       "      <th></th>\n",
       "      <th>sepal length (cm)</th>\n",
       "      <th>sepal width (cm)</th>\n",
       "      <th>petal length (cm)</th>\n",
       "      <th>petal width (cm)</th>\n",
       "      <th>target</th>\n",
       "    </tr>\n",
       "  </thead>\n",
       "  <tbody>\n",
       "    <tr>\n",
       "      <th>0</th>\n",
       "      <td>5.1</td>\n",
       "      <td>3.5</td>\n",
       "      <td>1.4</td>\n",
       "      <td>0.2</td>\n",
       "      <td>setosa</td>\n",
       "    </tr>\n",
       "    <tr>\n",
       "      <th>1</th>\n",
       "      <td>4.9</td>\n",
       "      <td>3.0</td>\n",
       "      <td>1.4</td>\n",
       "      <td>0.2</td>\n",
       "      <td>setosa</td>\n",
       "    </tr>\n",
       "    <tr>\n",
       "      <th>2</th>\n",
       "      <td>4.7</td>\n",
       "      <td>3.2</td>\n",
       "      <td>1.3</td>\n",
       "      <td>0.2</td>\n",
       "      <td>setosa</td>\n",
       "    </tr>\n",
       "    <tr>\n",
       "      <th>3</th>\n",
       "      <td>4.6</td>\n",
       "      <td>3.1</td>\n",
       "      <td>1.5</td>\n",
       "      <td>0.2</td>\n",
       "      <td>setosa</td>\n",
       "    </tr>\n",
       "    <tr>\n",
       "      <th>4</th>\n",
       "      <td>5.0</td>\n",
       "      <td>3.6</td>\n",
       "      <td>1.4</td>\n",
       "      <td>0.2</td>\n",
       "      <td>setosa</td>\n",
       "    </tr>\n",
       "  </tbody>\n",
       "</table>\n",
       "</div>"
      ],
      "text/plain": [
       "   sepal length (cm)  sepal width (cm)  petal length (cm)  petal width (cm)  \\\n",
       "0                5.1               3.5                1.4               0.2   \n",
       "1                4.9               3.0                1.4               0.2   \n",
       "2                4.7               3.2                1.3               0.2   \n",
       "3                4.6               3.1                1.5               0.2   \n",
       "4                5.0               3.6                1.4               0.2   \n",
       "\n",
       "   target  \n",
       "0  setosa  \n",
       "1  setosa  \n",
       "2  setosa  \n",
       "3  setosa  \n",
       "4  setosa  "
      ]
     },
     "execution_count": 15,
     "metadata": {},
     "output_type": "execute_result"
    }
   ],
   "source": [
    "# Comnbine the data and target into one dataframe\n",
    "df_iris = pd.concat([bunch_iris.data, bunch_iris.target], axis=1)\n",
    "# get a dictionary of the target values and their corresponding names\n",
    "target_name_map = {i: name for i, name in enumerate(bunch_iris.target_names)}\n",
    "# map the target values to the target names\n",
    "df_iris['target'] = df_iris['target'].map(target_name_map)\n",
    "df_iris.head()\n"
   ]
  },
  {
   "cell_type": "markdown",
   "metadata": {},
   "source": [
    "Display the mean, minimum, maximum, standard deviation, and median of all the species combined for each feature."
   ]
  },
  {
   "cell_type": "code",
   "execution_count": 16,
   "metadata": {},
   "outputs": [
    {
     "data": {
      "application/vnd.microsoft.datawrangler.viewer.v0+json": {
       "columns": [
        {
         "name": "index",
         "rawType": "object",
         "type": "string"
        },
        {
         "name": "sepal length (cm)",
         "rawType": "float64",
         "type": "float"
        },
        {
         "name": "sepal width (cm)",
         "rawType": "float64",
         "type": "float"
        },
        {
         "name": "petal length (cm)",
         "rawType": "float64",
         "type": "float"
        },
        {
         "name": "petal width (cm)",
         "rawType": "float64",
         "type": "float"
        }
       ],
       "conversionMethod": "pd.DataFrame",
       "ref": "dd82fbb0-d6a0-45d1-a812-aa3599c9d96e",
       "rows": [
        [
         "mean",
         "5.843333333333334",
         "3.0573333333333337",
         "3.7580000000000005",
         "1.1993333333333336"
        ],
        [
         "min",
         "4.3",
         "2.0",
         "1.0",
         "0.1"
        ],
        [
         "max",
         "7.9",
         "4.4",
         "6.9",
         "2.5"
        ],
        [
         "std",
         "0.8280661279778629",
         "0.435866284936698",
         "1.7652982332594667",
         "0.7622376689603465"
        ],
        [
         "median",
         "5.8",
         "3.0",
         "4.35",
         "1.3"
        ]
       ],
       "shape": {
        "columns": 4,
        "rows": 5
       }
      },
      "text/html": [
       "<div>\n",
       "<style scoped>\n",
       "    .dataframe tbody tr th:only-of-type {\n",
       "        vertical-align: middle;\n",
       "    }\n",
       "\n",
       "    .dataframe tbody tr th {\n",
       "        vertical-align: top;\n",
       "    }\n",
       "\n",
       "    .dataframe thead th {\n",
       "        text-align: right;\n",
       "    }\n",
       "</style>\n",
       "<table border=\"1\" class=\"dataframe\">\n",
       "  <thead>\n",
       "    <tr style=\"text-align: right;\">\n",
       "      <th></th>\n",
       "      <th>sepal length (cm)</th>\n",
       "      <th>sepal width (cm)</th>\n",
       "      <th>petal length (cm)</th>\n",
       "      <th>petal width (cm)</th>\n",
       "    </tr>\n",
       "  </thead>\n",
       "  <tbody>\n",
       "    <tr>\n",
       "      <th>mean</th>\n",
       "      <td>5.843333</td>\n",
       "      <td>3.057333</td>\n",
       "      <td>3.758000</td>\n",
       "      <td>1.199333</td>\n",
       "    </tr>\n",
       "    <tr>\n",
       "      <th>min</th>\n",
       "      <td>4.300000</td>\n",
       "      <td>2.000000</td>\n",
       "      <td>1.000000</td>\n",
       "      <td>0.100000</td>\n",
       "    </tr>\n",
       "    <tr>\n",
       "      <th>max</th>\n",
       "      <td>7.900000</td>\n",
       "      <td>4.400000</td>\n",
       "      <td>6.900000</td>\n",
       "      <td>2.500000</td>\n",
       "    </tr>\n",
       "    <tr>\n",
       "      <th>std</th>\n",
       "      <td>0.828066</td>\n",
       "      <td>0.435866</td>\n",
       "      <td>1.765298</td>\n",
       "      <td>0.762238</td>\n",
       "    </tr>\n",
       "    <tr>\n",
       "      <th>median</th>\n",
       "      <td>5.800000</td>\n",
       "      <td>3.000000</td>\n",
       "      <td>4.350000</td>\n",
       "      <td>1.300000</td>\n",
       "    </tr>\n",
       "  </tbody>\n",
       "</table>\n",
       "</div>"
      ],
      "text/plain": [
       "        sepal length (cm)  sepal width (cm)  petal length (cm)  \\\n",
       "mean             5.843333          3.057333           3.758000   \n",
       "min              4.300000          2.000000           1.000000   \n",
       "max              7.900000          4.400000           6.900000   \n",
       "std              0.828066          0.435866           1.765298   \n",
       "median           5.800000          3.000000           4.350000   \n",
       "\n",
       "        petal width (cm)  \n",
       "mean            1.199333  \n",
       "min             0.100000  \n",
       "max             2.500000  \n",
       "std             0.762238  \n",
       "median          1.300000  "
      ]
     },
     "execution_count": 16,
     "metadata": {},
     "output_type": "execute_result"
    }
   ],
   "source": [
    "# get the mean, min, max, std, and median of the features all at once\n",
    "df_iris.agg({'sepal length (cm)':['mean','min','max','std','median'],'sepal width (cm)':['mean','min','max','std','median'],'petal length (cm)':['mean','min','max','std','median'],'petal width (cm)':['mean','min','max','std','median']})"
   ]
  },
  {
   "cell_type": "markdown",
   "metadata": {},
   "source": [
    "Group the data by species and display the mean, minimum, maximum, standard deviation, and median of each feature for each species."
   ]
  },
  {
   "cell_type": "code",
   "execution_count": 17,
   "metadata": {},
   "outputs": [
    {
     "data": {
      "application/vnd.microsoft.datawrangler.viewer.v0+json": {
       "columns": [
        {
         "name": "target",
         "rawType": "object",
         "type": "string"
        },
        {
         "name": "('sepal length (cm)', 'mean')",
         "rawType": "float64",
         "type": "float"
        },
        {
         "name": "('sepal length (cm)', 'min')",
         "rawType": "float64",
         "type": "float"
        },
        {
         "name": "('sepal length (cm)', 'max')",
         "rawType": "float64",
         "type": "float"
        },
        {
         "name": "('sepal length (cm)', 'std')",
         "rawType": "float64",
         "type": "float"
        },
        {
         "name": "('sepal length (cm)', 'median')",
         "rawType": "float64",
         "type": "float"
        },
        {
         "name": "('sepal width (cm)', 'mean')",
         "rawType": "float64",
         "type": "float"
        },
        {
         "name": "('sepal width (cm)', 'min')",
         "rawType": "float64",
         "type": "float"
        },
        {
         "name": "('sepal width (cm)', 'max')",
         "rawType": "float64",
         "type": "float"
        },
        {
         "name": "('sepal width (cm)', 'std')",
         "rawType": "float64",
         "type": "float"
        },
        {
         "name": "('sepal width (cm)', 'median')",
         "rawType": "float64",
         "type": "float"
        },
        {
         "name": "('petal length (cm)', 'mean')",
         "rawType": "float64",
         "type": "float"
        },
        {
         "name": "('petal length (cm)', 'min')",
         "rawType": "float64",
         "type": "float"
        },
        {
         "name": "('petal length (cm)', 'max')",
         "rawType": "float64",
         "type": "float"
        },
        {
         "name": "('petal length (cm)', 'std')",
         "rawType": "float64",
         "type": "float"
        },
        {
         "name": "('petal length (cm)', 'median')",
         "rawType": "float64",
         "type": "float"
        },
        {
         "name": "('petal width (cm)', 'mean')",
         "rawType": "float64",
         "type": "float"
        },
        {
         "name": "('petal width (cm)', 'min')",
         "rawType": "float64",
         "type": "float"
        },
        {
         "name": "('petal width (cm)', 'max')",
         "rawType": "float64",
         "type": "float"
        },
        {
         "name": "('petal width (cm)', 'std')",
         "rawType": "float64",
         "type": "float"
        },
        {
         "name": "('petal width (cm)', 'median')",
         "rawType": "float64",
         "type": "float"
        }
       ],
       "conversionMethod": "pd.DataFrame",
       "ref": "fb7fb2db-6730-4abd-b655-b45ce2176ba7",
       "rows": [
        [
         "setosa",
         "5.006",
         "4.3",
         "5.8",
         "0.3524896872134513",
         "5.0",
         "3.428",
         "2.3",
         "4.4",
         "0.3790643690962886",
         "3.4",
         "1.462",
         "1.0",
         "1.9",
         "0.1736639964801841",
         "1.5",
         "0.24600000000000002",
         "0.1",
         "0.6",
         "0.10538558938004565",
         "0.2"
        ],
        [
         "versicolor",
         "5.936",
         "4.9",
         "7.0",
         "0.5161711470638635",
         "5.9",
         "2.77",
         "2.0",
         "3.4",
         "0.3137983233784114",
         "2.8",
         "4.26",
         "3.0",
         "5.1",
         "0.46991097723995784",
         "4.35",
         "1.3259999999999998",
         "1.0",
         "1.8",
         "0.19775268000454407",
         "1.3"
        ],
        [
         "virginica",
         "6.587999999999999",
         "4.9",
         "7.9",
         "0.635879593274432",
         "6.5",
         "2.9739999999999998",
         "2.2",
         "3.8",
         "0.3224966381726375",
         "3.0",
         "5.5520000000000005",
         "4.5",
         "6.9",
         "0.5518946956639835",
         "5.55",
         "2.026",
         "1.4",
         "2.5",
         "0.27465005563666745",
         "2.0"
        ]
       ],
       "shape": {
        "columns": 20,
        "rows": 3
       }
      },
      "text/html": [
       "<div>\n",
       "<style scoped>\n",
       "    .dataframe tbody tr th:only-of-type {\n",
       "        vertical-align: middle;\n",
       "    }\n",
       "\n",
       "    .dataframe tbody tr th {\n",
       "        vertical-align: top;\n",
       "    }\n",
       "\n",
       "    .dataframe thead tr th {\n",
       "        text-align: left;\n",
       "    }\n",
       "\n",
       "    .dataframe thead tr:last-of-type th {\n",
       "        text-align: right;\n",
       "    }\n",
       "</style>\n",
       "<table border=\"1\" class=\"dataframe\">\n",
       "  <thead>\n",
       "    <tr>\n",
       "      <th></th>\n",
       "      <th colspan=\"5\" halign=\"left\">sepal length (cm)</th>\n",
       "      <th colspan=\"5\" halign=\"left\">sepal width (cm)</th>\n",
       "      <th colspan=\"5\" halign=\"left\">petal length (cm)</th>\n",
       "      <th colspan=\"5\" halign=\"left\">petal width (cm)</th>\n",
       "    </tr>\n",
       "    <tr>\n",
       "      <th></th>\n",
       "      <th>mean</th>\n",
       "      <th>min</th>\n",
       "      <th>max</th>\n",
       "      <th>std</th>\n",
       "      <th>median</th>\n",
       "      <th>mean</th>\n",
       "      <th>min</th>\n",
       "      <th>max</th>\n",
       "      <th>std</th>\n",
       "      <th>median</th>\n",
       "      <th>mean</th>\n",
       "      <th>min</th>\n",
       "      <th>max</th>\n",
       "      <th>std</th>\n",
       "      <th>median</th>\n",
       "      <th>mean</th>\n",
       "      <th>min</th>\n",
       "      <th>max</th>\n",
       "      <th>std</th>\n",
       "      <th>median</th>\n",
       "    </tr>\n",
       "    <tr>\n",
       "      <th>target</th>\n",
       "      <th></th>\n",
       "      <th></th>\n",
       "      <th></th>\n",
       "      <th></th>\n",
       "      <th></th>\n",
       "      <th></th>\n",
       "      <th></th>\n",
       "      <th></th>\n",
       "      <th></th>\n",
       "      <th></th>\n",
       "      <th></th>\n",
       "      <th></th>\n",
       "      <th></th>\n",
       "      <th></th>\n",
       "      <th></th>\n",
       "      <th></th>\n",
       "      <th></th>\n",
       "      <th></th>\n",
       "      <th></th>\n",
       "      <th></th>\n",
       "    </tr>\n",
       "  </thead>\n",
       "  <tbody>\n",
       "    <tr>\n",
       "      <th>setosa</th>\n",
       "      <td>5.006</td>\n",
       "      <td>4.3</td>\n",
       "      <td>5.8</td>\n",
       "      <td>0.352490</td>\n",
       "      <td>5.0</td>\n",
       "      <td>3.428</td>\n",
       "      <td>2.3</td>\n",
       "      <td>4.4</td>\n",
       "      <td>0.379064</td>\n",
       "      <td>3.4</td>\n",
       "      <td>1.462</td>\n",
       "      <td>1.0</td>\n",
       "      <td>1.9</td>\n",
       "      <td>0.173664</td>\n",
       "      <td>1.50</td>\n",
       "      <td>0.246</td>\n",
       "      <td>0.1</td>\n",
       "      <td>0.6</td>\n",
       "      <td>0.105386</td>\n",
       "      <td>0.2</td>\n",
       "    </tr>\n",
       "    <tr>\n",
       "      <th>versicolor</th>\n",
       "      <td>5.936</td>\n",
       "      <td>4.9</td>\n",
       "      <td>7.0</td>\n",
       "      <td>0.516171</td>\n",
       "      <td>5.9</td>\n",
       "      <td>2.770</td>\n",
       "      <td>2.0</td>\n",
       "      <td>3.4</td>\n",
       "      <td>0.313798</td>\n",
       "      <td>2.8</td>\n",
       "      <td>4.260</td>\n",
       "      <td>3.0</td>\n",
       "      <td>5.1</td>\n",
       "      <td>0.469911</td>\n",
       "      <td>4.35</td>\n",
       "      <td>1.326</td>\n",
       "      <td>1.0</td>\n",
       "      <td>1.8</td>\n",
       "      <td>0.197753</td>\n",
       "      <td>1.3</td>\n",
       "    </tr>\n",
       "    <tr>\n",
       "      <th>virginica</th>\n",
       "      <td>6.588</td>\n",
       "      <td>4.9</td>\n",
       "      <td>7.9</td>\n",
       "      <td>0.635880</td>\n",
       "      <td>6.5</td>\n",
       "      <td>2.974</td>\n",
       "      <td>2.2</td>\n",
       "      <td>3.8</td>\n",
       "      <td>0.322497</td>\n",
       "      <td>3.0</td>\n",
       "      <td>5.552</td>\n",
       "      <td>4.5</td>\n",
       "      <td>6.9</td>\n",
       "      <td>0.551895</td>\n",
       "      <td>5.55</td>\n",
       "      <td>2.026</td>\n",
       "      <td>1.4</td>\n",
       "      <td>2.5</td>\n",
       "      <td>0.274650</td>\n",
       "      <td>2.0</td>\n",
       "    </tr>\n",
       "  </tbody>\n",
       "</table>\n",
       "</div>"
      ],
      "text/plain": [
       "           sepal length (cm)                            sepal width (cm)       \\\n",
       "                        mean  min  max       std median             mean  min   \n",
       "target                                                                          \n",
       "setosa                 5.006  4.3  5.8  0.352490    5.0            3.428  2.3   \n",
       "versicolor             5.936  4.9  7.0  0.516171    5.9            2.770  2.0   \n",
       "virginica              6.588  4.9  7.9  0.635880    6.5            2.974  2.2   \n",
       "\n",
       "                                 petal length (cm)                             \\\n",
       "            max       std median              mean  min  max       std median   \n",
       "target                                                                          \n",
       "setosa      4.4  0.379064    3.4             1.462  1.0  1.9  0.173664   1.50   \n",
       "versicolor  3.4  0.313798    2.8             4.260  3.0  5.1  0.469911   4.35   \n",
       "virginica   3.8  0.322497    3.0             5.552  4.5  6.9  0.551895   5.55   \n",
       "\n",
       "           petal width (cm)                             \n",
       "                       mean  min  max       std median  \n",
       "target                                                  \n",
       "setosa                0.246  0.1  0.6  0.105386    0.2  \n",
       "versicolor            1.326  1.0  1.8  0.197753    1.3  \n",
       "virginica             2.026  1.4  2.5  0.274650    2.0  "
      ]
     },
     "execution_count": 17,
     "metadata": {},
     "output_type": "execute_result"
    }
   ],
   "source": [
    "# do mean min max std and median for whole data frame\n",
    "# Figure out how to do this for the whole data frame\n",
    "# first to a mean min max std and median for each target\n",
    "df_iris_species_summary_stats = df_iris.groupby('target').agg(['mean','min','max','std','median'])\n",
    "df_iris_species_summary_stats"
   ]
  },
  {
   "cell_type": "markdown",
   "metadata": {},
   "source": [
    "## Task 4: Visualize Features\n",
    "\n",
    "Plot histograms for each feature using `matplotlib`.  \n",
    "Add appropriate titles and axis labels.  \n",
    "\n"
   ]
  },
  {
   "cell_type": "code",
   "execution_count": 57,
   "metadata": {},
   "outputs": [
    {
     "data": {
      "image/png": "[encoded data removed]",
      "text/plain": [
       "<Figure size 1000x1000 with 4 Axes>"
      ]
     },
     "metadata": {},
     "output_type": "display_data"
    }
   ],
   "source": [
    "# Plot in 4 subplots the histograms of the features\n",
    "fig1, axs1 = plt.subplots(nrows=2, ncols=2, figsize=(10, 10))\n",
    "# set overall title\n",
    "fig1.suptitle('Iris Data Set')\n",
    "# loop thru each feature and plot histogram in subplots 2 x 2\n",
    "# sepals and petals seperate layers\n",
    "# loop makes it more compact\n",
    "for i, feature_name in enumerate(df_iris.columns[:-1]):\n",
    "    x = i // 2\n",
    "    y = i % 2\n",
    "    axs1[x, y].hist(df_iris[feature_name])\n",
    "    axs1[x, y].set_title(feature_name)\n",
    "plt.legend\n",
    "plt.tight_layout()\n",
    "plt.show()"
   ]
  },
  {
   "cell_type": "markdown",
   "metadata": {},
   "source": [
    "A more pretty way would be to do a histogram for each feature for each species."
   ]
  },
  {
   "cell_type": "code",
   "execution_count": 59,
   "metadata": {},
   "outputs": [
    {
     "data": {
      "image/png": "[encoded data removed]",
      "text/plain": [
       "<Figure size 1000x1000 with 4 Axes>"
      ]
     },
     "metadata": {},
     "output_type": "display_data"
    }
   ],
   "source": [
    "# Plot in 4 subplots the histograms of the features of each species of iris\n",
    "fig2, axs2 = plt.subplots(nrows=2, ncols=2, figsize=(10, 10))\n",
    "# set overall title\n",
    "fig2.suptitle('Iris Data Set')\n",
    "# loop thru each feature and plot histogram in subplots 2 x 2\n",
    "# sepals and petals seperate layers\n",
    "# loop makes it more compact\n",
    "for i, feature_name in enumerate(df_iris.columns[:-1]):\n",
    "    x = i // 2\n",
    "    y = i % 2\n",
    "    for species in df_iris['target'].unique():\n",
    "        axs2[x, y].hist(df_iris[df_iris['target'] == species][feature_name], alpha=0.5, label=species,histtype='stepfilled')\n",
    "    axs2[x, y].set_title(feature_name)\n",
    "    axs2[x, y].legend()"
   ]
  },
  {
   "cell_type": "markdown",
   "metadata": {},
   "source": [
    "## Task 5: Investigate Relationships\n",
    "\n",
    "Choose any two features from the data set and create a scatter plot of them.  \n",
    "Color-code the three different classes of the scatter plot points.\n"
   ]
  },
  {
   "cell_type": "code",
   "execution_count": 19,
   "metadata": {},
   "outputs": [
    {
     "data": {
      "image/png": "[encoded data removed]",
      "text/plain": [
       "<Figure size 640x480 with 1 Axes>"
      ]
     },
     "metadata": {},
     "output_type": "display_data"
    },
    {
     "data": {
      "image/png": "[encoded data removed]",
      "text/plain": [
       "<Figure size 640x480 with 1 Axes>"
      ]
     },
     "metadata": {},
     "output_type": "display_data"
    }
   ],
   "source": [
    "\n",
    "# plot the data sepal length vs sepal width,petal length vs petal width, and target each species with different color\n",
    "#print([['r', 'g', 'b'][i] for i in bunch_iris.target])\n",
    "plt.scatter(bunch_iris.data['sepal length (cm)'], bunch_iris.data['sepal width (cm)'], c=[['r', 'g', 'b'][i] for i in bunch_iris.target])\n",
    "plt.xlabel('sepal length (cm)')\n",
    "plt.ylabel('sepal width (cm)')\n",
    "plt.title('sepal length vs sepal width')\n",
    "# put legend for the targets values and colors\n",
    "plt.legend(handles=[plt.Line2D([0], [0], marker='o', color='w', label='setosa', markerfacecolor='r', markersize=10),\n",
    "                    plt.Line2D([0], [0], marker='o', color='w', label='versicolor', markerfacecolor='g', markersize=10),\n",
    "                    plt.Line2D([0], [0], marker='o', color='w', label='virginica', markerfacecolor='b', markersize=10)])\n",
    "plt.show()\n",
    "# plot the data petal length vs petal width,petal length vs petal width, and target each species with different color\n",
    "plt.scatter(bunch_iris.data['petal length (cm)'], bunch_iris.data['petal width (cm)'], c=[['r', 'g', 'b'][i] for i in bunch_iris.target])\n",
    "plt.xlabel('petal length (cm)')\n",
    "plt.ylabel('petal width (cm)')\n",
    "plt.title('petal length vs petal width')\n",
    "# put legend for the targets values and colors\n",
    "plt.legend(handles=[plt.Line2D([0], [0], marker='o', color='w', label='setosa', markerfacecolor='r', markersize=10),\n",
    "                    plt.Line2D([0], [0], marker='o', color='w', label='versicolor', markerfacecolor='g', markersize=10),\n",
    "                    plt.Line2D([0], [0], marker='o', color='w', label='virginica', markerfacecolor='b', markersize=10)])\n",
    "plt.show()\n",
    "\n"
   ]
  },
  {
   "cell_type": "markdown",
   "metadata": {},
   "source": [
    "## Task 6: Analyze Relationship\n",
    "\n",
    "Use `numpy.polyfit` to add a regression line to the scatter plot from Task 5.\n",
    "\n",
    "The polyfit function used Least squares polynomial fit. Last used this to do Iodine absorption curve of EDTA titration in chemistry lab ( 2nd year WITS 1984)\n",
    "\n",
    "Numpy plolyfit documentation https://numpy.org/doc/stable/reference/generated/numpy.polyfit.html\n",
    "How to plot polyfit in scatter plot https://stackoverflow.com/questions/46627629/how-to-use-numpy-polyfit-to-plot-trend\n",
    "\n"
   ]
  },
  {
   "cell_type": "markdown",
   "metadata": {},
   "source": [
    "### Polyfit of sepals length and width\n",
    "\n"
   ]
  },
  {
   "cell_type": "code",
   "execution_count": null,
   "metadata": {},
   "outputs": [],
   "source": []
  },
  {
   "cell_type": "markdown",
   "metadata": {},
   "source": [
    "### Using ployflit to do linear regression using the petal length and petal width\n",
    "\n",
    "#### Conclusion\n",
    "\n",
    "# TODO Tidy up the comments\n",
    "The inital attempt at doing a regresion line through the data was not successful.  There is not a obvious linear relationship between the petal length and petal width  \n",
    "If the different species data is seperated out, there is a linear relationship between the petal length and petal width for the setosa species.  The versicolor and virginica species do not have a linear relationship between the petal length and petal width.  The data for the versicolor and virginica species is more spread out and not linear.  The setosa species data is more linear and has a clear relationship between the petal length and petal width.  \n",
    "Then each of the species shows a linear regressiuons"
   ]
  },
  {
   "cell_type": "code",
   "execution_count": null,
   "metadata": {},
   "outputs": [],
   "source": [
    "#numpy.polyfit(x, y, deg, rcond=None, full=False, w=None, cov=False)\n",
    "#for sepal length vs sepal width\n",
    "# Do a polinomial fit between sepal length and sepal width \n",
    "# Degree 1 means linear\n",
    "trend = np.polyfit(x = df_iris['sepal length (cm)'], y = df_iris['sepal width (cm)'], deg = 1)\n",
    "trend_serosa = np.polyfit(x = df_iris[df_iris['target'] == 'setosa']['sepal length (cm)'], y = df_iris[df_iris['target'] == 'setosa']['sepal width (cm)'], deg = 1)\n",
    "trend_versicolor = np.polyfit(x = df_iris[df_iris['target'] == 'versicolor']['sepal length (cm)'], y = df_iris[df_iris['target'] == 'versicolor']['sepal width (cm)'], deg = 1)\n",
    "trend_virginica = np.polyfit(x = df_iris[df_iris['target'] == 'virginica']['sepal length (cm)'], y = df_iris[df_iris['target'] == 'virginica']['sepal width (cm)'], deg = 1)\n",
    "# do a trend line for each species of iris\n",
    "\n",
    "# create a polynomial function - this is the trend line\n",
    "# this is a linear trend line\n",
    "trendpoly = np.poly1d(trend) # create a polynomial function\n",
    "trendpoly_serosa = np.poly1d(trend_serosa) # create a polynomial function\n",
    "trendpoly_versicolor = np.poly1d(trend_versicolor) # create a polynomial function\n",
    "trendpoly_virginica = np.poly1d(trend_virginica) # create a polynomial function\n",
    "\n",
    "plt.scatter(df_iris['sepal length (cm)'], df_iris['sepal width (cm)'], c=[['r', 'g', 'b'][i] for i in bunch_iris.target])\n",
    "plt.xlabel('sepal length (cm)')\n",
    "plt.ylabel('sepal width (cm)')\n",
    "plt.title('sepal length vs sepal width')\n",
    "# put legend for the targets values and colors\n",
    "plt.legend(handles=[plt.Line2D([0], [0], marker='o', color='w', label='setosa', markerfacecolor='r', markersize=10),\n",
    "                    plt.Line2D([0], [0], marker='o', color='w', label='versicolor', markerfacecolor='g', markersize=10),\n",
    "                    plt.Line2D([0], [0], marker='o', color='w', label='virginica', markerfacecolor='b', markersize=10)])\n",
    "# plot the trend line for all the data and then each species\n",
    "plt.plot(df_iris['sepal length (cm)'], trendpoly(df_iris['sepal length (cm)']), color = 'black')\n",
    "plt.plot(df_iris[df_iris['target'] == 'setosa']['sepal length (cm)'], trendpoly_serosa(df_iris[df_iris['target'] == 'setosa']['sepal length (cm)']), color = 'red')\n",
    "plt.plot(df_iris[df_iris['target'] == 'versicolor']['sepal length (cm)'], trendpoly_versicolor(df_iris[df_iris['target'] == 'versicolor']['sepal length (cm)']), color = 'green')\n",
    "plt.plot(df_iris[df_iris['target'] == 'virginica']['sepal length (cm)'], trendpoly_virginica(df_iris[df_iris['target'] == 'virginica']['sepal length (cm)']), color = 'blue')\n",
    "plt.show()\n"
   ]
  },
  {
   "cell_type": "code",
   "execution_count": null,
   "metadata": {},
   "outputs": [],
   "source": []
  },
  {
   "cell_type": "markdown",
   "metadata": {},
   "source": [
    "### Polyfit of petals length and width"
   ]
  },
  {
   "cell_type": "code",
   "execution_count": null,
   "metadata": {},
   "outputs": [],
   "source": [
    "#numpy.polyfit(x, y, deg, rcond=None, full=False, w=None, cov=False)\n",
    "#for petal length vs petal width\n",
    "# Do a polinomial fit between petal length and petal width \n",
    "# Degree 1 means linear\n",
    "trend = np.polyfit(x = bunch_iris.data['petal length (cm)'], y = bunch_iris.data['petal width (cm)'], deg = 1)\n",
    "print(trend)\n",
    "# create a polynomial function - this is the trend line\n",
    "# this is a linear trend line\n",
    "trendpoly = np.poly1d(trend) # create a polynomial function\n",
    "print(trendpoly)\n",
    "plt.scatter(bunch_iris.data['petal length (cm)'], bunch_iris.data['petal width (cm)'], c=[['r', 'g', 'b'][i] for i in bunch_iris.target])\n",
    "plt.xlabel('petal length (cm)')\n",
    "plt.ylabel('petal width (cm)')\n",
    "plt.title('petal length vs petal width')\n",
    "# put legend for the targets values and colors\n",
    "plt.legend(handles=[plt.Line2D([0], [0], marker='o', color='w', label='setosa', markerfacecolor='r', markersize=10),\n",
    "                    plt.Line2D([0], [0], marker='o', color='w', label='versicolor', markerfacecolor='g', markersize=10),\n",
    "                    plt.Line2D([0], [0], marker='o', color='w', label='virginica', markerfacecolor='b', markersize=10)])\n",
    "plt.plot(bunch_iris.data['petal length (cm)'], trendpoly(bunch_iris.data['petal length (cm)']), color = 'black')\n",
    "plt.show()\n"
   ]
  },
  {
   "cell_type": "markdown",
   "metadata": {},
   "source": [
    "## Task 7: Analyze Class Distributions\n",
    "\n",
    "Create box-plots of the petal lengths for each of the three classes.\n"
   ]
  },
  {
   "cell_type": "markdown",
   "metadata": {},
   "source": [
    "#### Descrition\n",
    "\n",
    "The box plot show the distribution of the 3 iris species petal lengths . The distribution show the spread of the data via various metrics. The box plot shows the mean , median , and quantiles of the data. The box is the interquartile range , the whiskers are the IQR * 1.5. The box plot is a good way to show the distribution of the data and the spread of the data.\n",
    "\n",
    "### Conclusion\n",
    "\n",
    "The serosa species has the most distinct petal length and it is easy to determine the serosa species by only looking at the petal length. The other two species , Versicolour and Virginica do overalp in petal length and thus it is not as easy to determine the species by petal length alone.\n",
    "\n",
    "\n",
    "#### Notes\n",
    "\n",
    "Box Plots are basically a plot with mean , median and quantiles , the box is the interquartile range 0.25 and 0.75 quantiles , the whiskers are IQR * 1.5.\n",
    "We are going to the petal lengths of each of the classes , id est  the iris species , Setosa , Versicolour , Virginica.\n",
    "We will be using the seaborn library to create the box plots.\n",
    "\n",
    "###References\n",
    "\n",
    "- Course Notes - Ian McLoughlin : https://github.com/ianmcloughlin/principles_of_data_analytics/blob/main/materials/boxplots.ipynb\n",
    "- Seaborn Box Plots : https://seaborn.pydata.org/generated/seaborn.boxplot.html\n",
    "- https://www.geeksforgeeks.org/how-to-set-the-hue-order-in-seaborn-plots/#5-example-withseabornboxplot"
   ]
  },
  {
   "cell_type": "markdown",
   "metadata": {},
   "source": [
    "Create a datafram of petal lengths for each of the three classes , Setosa , Versicolour , Virginica. "
   ]
  },
  {
   "cell_type": "code",
   "execution_count": null,
   "metadata": {},
   "outputs": [],
   "source": [
    "# A data frame with the petal length and class\n",
    "df_petal = df_iris[[ 'target','petal length (cm)']]\n",
    "df_petal.sample(5)\n"
   ]
  },
  {
   "cell_type": "markdown",
   "metadata": {},
   "source": [
    "#### Summary Data\n",
    "For each of the classes , Setosa , Versicolour and Virginica the mean , max , min , standard deviation , median and quantiles of the petal lengths will be displayed in a table"
   ]
  },
  {
   "cell_type": "code",
   "execution_count": null,
   "metadata": {},
   "outputs": [],
   "source": [
    "def quantile_25(x):\n",
    "    \"\"\" input: x is a pandas series or numpy array and return the 25th and 75th quantile\n",
    "    Note: coulld be done by a lambda function but this is more readable\n",
    "    \"\"\"\n",
    "    return np.quantile(x, 0.25)\n",
    "\n",
    "def quantile_75(x):\n",
    "    \"\"\" input: x is a pandas series or numpy array and return the 25th and 75th quantile\n",
    "    Note: coulld be done by a lambda function but this is more readable\n",
    "    \"\"\"\n",
    "    return np.quantile(x, 0.75)\n",
    "\n",
    "# Group by target and get the mean, min, max, std, median, 25th and 75th quantile\n",
    "df_iris_species_summary_stats = df_petal.groupby(['target']).agg({\n",
    "\t'petal length (cm)': ['mean', 'min', 'max', 'std', 'median', quantile_25, quantile_75]})\n",
    "\n",
    "\n",
    "# Rename the quantile columns\n",
    "#  relates to box plot < -- |Q25 | Median | Q75 | -- >\n",
    "df_iris_species_summary_stats.columns = ['mean', 'min', 'max', 'std', 'median', 'Q25', 'Q75']\n",
    "\n",
    " # Add IQR column - Interquartile range is the difference between the 75th and 25th quantile\n",
    "df_iris_species_summary_stats['IQR'] = df_iris_species_summary_stats['Q75'] - df_iris_species_summary_stats['Q25']\n",
    "\n",
    "# Add outlier columns\n",
    "df_iris_species_summary_stats['outlier_min'] = df_iris_species_summary_stats['Q25'] - 1.5 * df_iris_species_summary_stats['IQR']\n",
    "df_iris_species_summary_stats['outlier_max'] = df_iris_species_summary_stats['Q75'] + 1.5 * df_iris_species_summary_stats['IQR']\n",
    "\n",
    "#print(df_iris_species_summary_stats.info())\n",
    "\n",
    "# rotate the df_iris_species_summary_stats\n",
    "# I want the species to be the columns\n",
    "# This is easier to read\n",
    "# Transpose the data frame\n",
    "df_iris_species_summary_stats = df_iris_species_summary_stats.transpose()\n",
    "\n",
    "# change the order of the columns to be setosa, versicolor, virginica\n",
    "df_iris_species_summary_stats = df_iris_species_summary_stats[['setosa', 'versicolor', 'virginica'] ]\n",
    "# sort rows in a specific order\n",
    "df_iris_species_summary_stats = df_iris_species_summary_stats.reindex(['min', 'outlier_min', 'Q25', 'median', 'mean', 'Q75', 'outlier_max', 'max', 'std', 'IQR'])\n",
    "df_iris_species_summary_stats\n"
   ]
  },
  {
   "cell_type": "code",
   "execution_count": null,
   "metadata": {},
   "outputs": [],
   "source": [
    "\n",
    "\n",
    "ax = sns.boxplot(x='petal length (cm)', y='target', data=df_petal, palette=\"pastel\",hue='target',hue_order=['setosa','versicolor','virginica'])\n",
    "ax.title.set_text('Petal Length vs Species')\n",
    "ax.set_xlabel('Petal Length (cm)')\n",
    "ax.set_ylabel('Species')\n",
    "ax.legend(title='Species', loc='upper right', labels=['setosa','versicolor','virginica'])\n",
    "plt.show()"
   ]
  },
  {
   "cell_type": "markdown",
   "metadata": {},
   "source": [
    "## Task 8: Compute Correlations\n",
    "\n",
    "Calculate the correlation coefficients between the features.  \n",
    "Display the results as a heatmap using `matplotlib`.  \n"
   ]
  },
  {
   "cell_type": "markdown",
   "metadata": {},
   "source": [
    "### Correlation Coefficients\n",
    "\n",
    "For the heatmap the correlation coef is calculated for each of the features , sepal length , sepal width , petal length , petal width. The correlation coef is a measure of the linear relationship between the features. The correlation coef is a value between -1 and 1. A value of 1 means a perfect positive linear relationship , a value of -1 means a perfect negative linear relationship , and a value of 0 means no linear relationship.\n",
    "\n",
    "There will also be a heatmap for each of the species"
   ]
  },
  {
   "cell_type": "code",
   "execution_count": null,
   "metadata": {},
   "outputs": [],
   "source": [
    "df_corr = df_iris[['sepal length (cm)', 'sepal width (cm)', 'petal length (cm)', 'petal width (cm)']].corr()\n",
    "df_corr"
   ]
  },
  {
   "cell_type": "markdown",
   "metadata": {},
   "source": [
    "#### Plot a matplot lib heatmap of the correlation coef\n",
    "\n",
    "Heat map is a number boxs in a matrix of all the features on x and y axis . The value of the box represents the \"strength\" of the correlation between the two features"
   ]
  },
  {
   "cell_type": "code",
   "execution_count": null,
   "metadata": {},
   "outputs": [],
   "source": [
    "plt.figure(figsize=(8, 8)) \n",
    "# plots the color map of the correlation matrix - the color is based on the value of the correlation\n",
    "plt.imshow(df_corr, cmap='coolwarm', interpolation='nearest') \n",
    "## returns a eveny space range of number for 4 it is 0,1,2,3(np.arange(len(df_corr.columns)  ))\n",
    "plt.colorbar(label='Correlation Coefficient')  \n",
    "plt.xticks(np.arange(len(df_corr.columns)), df_corr.columns, rotation=45, ha='right')  \n",
    "plt.yticks(np.arange(len(df_corr.index)), df_corr.index)  #\n",
    "plt.title('Correlation Heatmap')\n",
    "plt.tight_layout()\n",
    "plt.show()"
   ]
  },
  {
   "cell_type": "markdown",
   "metadata": {},
   "source": [
    "### Correlation Coefficients\n",
    "\n",
    "This is incorrect , it is not cc for individual features , it is for all 4 features.  The correlation coefficient is a measure of the strength and direction of a linear relationship between two variables. The correlation coefficient ranges from -1 to 1. A value of 1 indicates a perfect positive linear relationship between two variables, while a value of -1 indicates a perfect negative linear relationship. A value of 0 indicates no linear relationship between the two variables.\n",
    "\n",
    "TODO - remove this section , it incorrect but interesting ways of doing it"
   ]
  },
  {
   "cell_type": "code",
   "execution_count": null,
   "metadata": {},
   "outputs": [],
   "source": [
    "# reset plot\n",
    "# \n",
    "plt.clf()\n",
    "# We will first calculate the coefficient for petals , for all and then for each species\n",
    "corr_coef_petal_all = df_iris['petal length (cm)'].corr(df_iris['petal width (cm)'])\n",
    "# now do each of the species\n",
    "corr_coef_petal_serosa = df_iris[df_iris['target'] == 'setosa']['petal length (cm)'].corr(df_iris[df_iris['target'] == 'setosa']['petal width (cm)'])\n",
    "corr_coef_petal_versicolor = df_iris[df_iris['target'] == 'versicolor']['petal length (cm)'].corr(df_iris[df_iris['target'] == 'versicolor']['petal width (cm)'])\n",
    "corr_coef_petal_virginica = df_iris[df_iris['target'] == 'virginica']['petal length (cm)'].corr(df_iris[df_iris['target'] == 'virginica']['petal width (cm)'])\n",
    "#print(f\"Petal Correlation Coefficient for all species : {corr_coef_petal_all:.2f}\")\n",
    "#print(f\"Petal Correlation Coefficient for setosa      : {corr_coef_petal_serosa:.2f}\")\n",
    "#print(f\"Petal Correlation Coefficient for versicolor  : {corr_coef_petal_versicolor:.2f}\")\n",
    "#print(f\"Petal Correlation Coefficient for virginica   : {corr_coef_petal_virginica:.2f}\")\n",
    "# plot 4 plots all , setosa, versicolor, virginica\n",
    "# so i can visualise the coefficients\n",
    "# 2 x 2 plot but wider than tall\n",
    "fig , ax = plt.subplots(nrows=2, ncols=2,figsize=(10,10))\n",
    "fig.suptitle('Petal Length vs Petal Width')\n",
    "# All species\n",
    "ax[0,0].scatter(df_iris['petal length (cm)'], df_iris['petal width (cm)'] , c=[['r', 'g', 'b'][i] for i in bunch_iris.target],\n",
    "                 label = ['setosa','versicolor','virginica'],alpha=0.1)\n",
    "ax[0,0].set_title('All Species')\n",
    "# Setosa\n",
    "ax[0,1].scatter(df_iris[df_iris['target'] == 'setosa']['petal length (cm)'], df_iris[df_iris['target'] == 'setosa']['petal width (cm)'],c='r',alpha=0.1)\n",
    "ax[0,1].set_title('Setosa')\n",
    "# Versicolor\n",
    "ax[1,0].scatter(df_iris[df_iris['target'] == 'versicolor']['petal length (cm)'], df_iris[df_iris['target'] == 'versicolor']['petal width (cm)'],c='g',alpha=0.1)\n",
    "ax[1,0].set_title('Versicolor')\n",
    "# Virginica\n",
    "ax[1,1].scatter(df_iris[df_iris['target'] == 'virginica']['petal length (cm)'], df_iris[df_iris['target'] == 'virginica']['petal width (cm)'],c='b',alpha=0.1)\n",
    "ax[1,1].set_title('Virginica')\n",
    "# add the correlation coefficient to the plots\n",
    "# Add correlation coefficient to the plots for all species\n",
    "# at first data point\n",
    "ax[0,0].text(df_iris['petal length (cm)'].min(), df_iris['petal width (cm)'].min(), f\"Correlation Coefficient : {corr_coef_petal_all:.2f}\")\n",
    "# Add correlation coefficient to the plots for setosa\n",
    "# at first data point\n",
    "ax[0,1].text(df_iris[df_iris['target'] == 'setosa']['petal length (cm)'].min(), df_iris[df_iris['target'] == 'setosa']['petal width (cm)'].min(), f\"Correlation Coefficient : {corr_coef_petal_serosa:.2f}\")\n",
    "# Add correlation coefficient to the plots for versicolor\n",
    "# at first data point\n",
    "ax[1,0].text(df_iris[df_iris['target'] == 'versicolor']['petal length (cm)'].min(), df_iris[df_iris['target'] == 'versicolor']['petal width (cm)'].min(), f\"Correlation Coefficient : {corr_coef_petal_versicolor:.2f}\")\n",
    "# Add correlation coefficient to the plots for virginica\n",
    "# at first data point\n",
    "ax[1,1].text(df_iris[df_iris['target'] == 'virginica']['petal length (cm)'].min(), df_iris[df_iris['target'] == 'virginica']['petal width (cm)'].min(), f\"Correlation Coefficient : {corr_coef_petal_virginica:.2f}\")\n",
    "\n",
    "# adjust the space between the plots\n",
    "plt.show()\n",
    "\n",
    "# reset plot\n",
    "plt.clf()\n",
    "# now do a heatmap\n",
    "plt.figure(figsize=(8, 6))  # Adjust figure size as needed\n",
    "plt.imshow(correlation_matrix, cmap='coolwarm', interpolation='nearest')  # Use a colormap\n",
    "plt.colorbar(label='Correlation Coefficient')  # Add a colorbar\n",
    "plt.xticks(np.arange(len(correlation_matrix.columns)), correlation_matrix.columns, rotation=45, ha='right')  # Rotate x-axis labels\n",
    "plt.yticks(np.arange(len(correlation_matrix.index)), correlation_matrix.index)  # Set y-axis labels\n",
    "plt.title('Correlation Heatmap')\n",
    "plt.tight_layout() # Adjust layout to prevent labels from overlapping\n",
    "plt.show()\n",
    "\n",
    "\n",
    "\n"
   ]
  },
  {
   "cell_type": "code",
   "execution_count": null,
   "metadata": {},
   "outputs": [],
   "source": []
  },
  {
   "cell_type": "markdown",
   "metadata": {},
   "source": [
    "## Task 9: Fit a Simple Linear Regression\n",
    "\n",
    "For your two features in Task 5, calculate the coefficient of determination $R^2$.  \n",
    "Re-create the plot from Task 6 and annotate it with the $R^2$ value."
   ]
  },
  {
   "cell_type": "markdown",
   "metadata": {},
   "source": [
    "### References\n",
    "\n",
    "- https://en.wikipedia.org/wiki/Coefficient_of_determination\n",
    "- Nice Explanantion https://medium.com/@muhammadsohaib3434/r-squared-r%C2%B2-6582386b8821\n",
    "\n",
    "\n",
    "### Gemini AI \n",
    "\n",
    "* explain the coefficient of determination to a high school student *\n",
    "\n",
    "The coefficient of determination is a measure of how well the regression line fits the data. It is a value between 0 and 1, with 1 indicating a perfect fit. The coefficient of determination is calculated as the square of the correlation coefficient, and it represents the proportion of the variance in the dependent variable that is predictable from the independent variable. In other words, it tells you how much of the variation in the dependent variable can be explained by the independent variable. A coefficient of determination of 0 means that the independent variable does not explain any of the variation in the dependent variable, while a coefficient of determination of 1 means that the independent variable explains all of the variation in the dependent variable.\n",
    "\n",
    "Alright, let's break down the coefficient of determination (often called R-squared) in a way that's easy to understand.\n",
    "\n",
    "Imagine you're trying to predict something, like how well someone will do on a test. You might look at how much they studied.\n",
    "\n",
    "Here's the basic idea:\n",
    "\n",
    "* **You've got some data:** You've collected information on how many hours a bunch of students studied, and what scores they got on the test.\n",
    "* **You make a prediction:** You draw a line (or use a more complex model) that you think best shows the relationship between studying and test scores. This line is your prediction.\n",
    "* **But how good is your prediction?** That's where R-squared comes in.\n",
    "\n",
    "Here's how to think about it:\n",
    "\n",
    "* **R-squared tells you how much of the variation in your results your prediction explains.**\n",
    "    * Think of \"variation\" as how spread out the test scores are. Some students did really well, some did poorly, and most were in the middle.\n",
    "    * R-squared tells you what percentage of that spread your study-hours prediction can account for.\n",
    "* **R-squared is a number between 0 and 1 (or 0% and 100%).**\n",
    "    * If R-squared is 1 (or 100%), it means your prediction is perfect. Every student's score perfectly matched what your line predicted.\n",
    "    * If R-squared is 0 (or 0%), it means your prediction is useless. Knowing how much someone studied tells you nothing about their test score.\n",
    "    * If R-squared is, say, 0.7 (or 70%), it means that 70% of the variation in test scores can be explained by how much the students studied. The other 30% is due to other factors (like how well they slept, or how good they are at taking tests).\n",
    "\n",
    "**In simpler terms:**\n",
    "\n",
    "* R-squared is like a grade for your prediction. A higher R-squared means your prediction is better.\n",
    "* It tells you how well your model \"fits\" the data.\n",
    "\n",
    "**Key takeaway:**\n",
    "\n",
    "* R-squared helps you understand how reliable your predictions are.\n",
    "\n",
    "I hope that helps!\n"
   ]
  },
  {
   "cell_type": "code",
   "execution_count": null,
   "metadata": {},
   "outputs": [],
   "source": [
    "## We will use pandas to determine coeffiecient of dermination\n"
   ]
  },
  {
   "cell_type": "markdown",
   "metadata": {},
   "source": [
    "## Task 10: Too Many Features\n",
    "\n",
    "Use `seaborn` to create a `pairplot` of the data set.  \n",
    "Explain, in your own words, what the `pairplot` depicts. "
   ]
  },
  {
   "cell_type": "markdown",
   "metadata": {},
   "source": [
    "\n",
    "#### References\n",
    "https://seaborn.pydata.org/generated/seaborn.pairplot.html"
   ]
  },
  {
   "cell_type": "code",
   "execution_count": null,
   "metadata": {},
   "outputs": [],
   "source": [
    "# Use seaborn pairplot to visualize the data\n",
    "# use df_iris and hue='target' to color the data points by target\n",
    "sns.pairplot(df_iris,hue='target')"
   ]
  },
  {
   "cell_type": "markdown",
   "metadata": {},
   "source": [
    "Used reg plot because I was interested in the outlay. \n",
    "This shows a regision line throut the two axis.\n",
    "May indicate that there is a relationship between length and width. Makes sense. \n",
    "Is there a clusting equivalent - something like kmeans"
   ]
  },
  {
   "cell_type": "code",
   "execution_count": null,
   "metadata": {},
   "outputs": [],
   "source": [
    "sns.pairplot(df_iris,hue='target',kind='reg')"
   ]
  },
  {
   "cell_type": "markdown",
   "metadata": {},
   "source": [
    "### PairPlot Using KDE\n",
    "\n"
   ]
  },
  {
   "cell_type": "code",
   "execution_count": null,
   "metadata": {},
   "outputs": [],
   "source": [
    "sns.pairplot(df_iris,hue='target',kind='kde')"
   ]
  },
  {
   "cell_type": "markdown",
   "metadata": {},
   "source": [
    "## END"
   ]
  }
 ],
 "metadata": {
  "kernelspec": {
   "display_name": "base",
   "language": "python",
   "name": "python3"
  },
  "language_info": {
   "codemirror_mode": {
    "name": "ipython",
    "version": 3
   },
   "file_extension": ".py",
   "mimetype": "text/x-python",
   "name": "python",
   "nbconvert_exporter": "python",
   "pygments_lexer": "ipython3",
   "version": "3.12.7"
  }
 },
 "nbformat": 4,
 "nbformat_minor": 2
}
