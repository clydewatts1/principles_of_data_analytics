{
 "cells": [
  {
   "cell_type": "markdown",
   "metadata": {},
   "source": [
    "# Principals of Data Analytics - Tasks\n",
    "\n",
    "\n",
    "| Course   | ATU - Principals of Data Analytics  |\n",
    "|----------|----------|\n",
    "| Project  | PODA Course Project  |\n",
    "| Date     | 2025-05-01  |\n",
    "| Instructor | Dr. Ian McLoughlin  |\n",
    "| Author  | Clyde Watts  |\n",
    "\n"
   ]
  },
  {
   "cell_type": "markdown",
   "metadata": {},
   "source": [
    "## Imports\n",
    "\n",
    "The following imports are approved numpy, scipy, matplotlib, seaborn, pandas, statsmodels, scikit-learn"
   ]
  },
  {
   "cell_type": "code",
   "execution_count": null,
   "metadata": {},
   "outputs": [],
   "source": [
    "import pandas as pd\n",
    "import numpy as np\n",
    "import matplotlib.pyplot as plt\n",
    "import seaborn as sns\n",
    "# import sklearn\n",
    "import sklearn"
   ]
  },
  {
   "cell_type": "markdown",
   "metadata": {},
   "source": [
    "# Task 1: Source the Data Set\n",
    "\n",
    "Import the Iris data set from the `sklearn.datasets` module.  \n",
    "Explain, in your own words, what the `load_iris()` function returns.\n",
    "\n",
    "\n",
    "\n",
    "\n"
   ]
  },
  {
   "cell_type": "markdown",
   "metadata": {},
   "source": [
    "### Task 1 : Answer\n",
    "\n",
    "#### Summary\n",
    "\n",
    "The load_iris scikit_learn function returns a built-in toy dataset of iris flowers. The data set consists of 150 records evenly distributed among three different iris species $( 50 * 3 )$ , Setosa , Versicolour , Virginica. The data has 4 features , petal length and width , and petal length and width in cm , and the target as iris species.\n",
    "\n",
    "The load_iris function returns a \"bunch\" object , which is a dictionary returns either features , and target and associated metadata.\n",
    "\n",
    "\n",
    "***Image for Iris Flowers***\n",
    "\n",
    "For those who are not gardeners , an image below\n",
    "\n",
    "- [Image : Iris diagram with petals and setals](https://www.life.illinois.edu/help/digitalflowers/Iridaceae/9.htm)\n",
    "- [Image: Iris-Setosa](https://en.wikipedia.org/wiki/Iris_setosa#/media/File:Irissetosa1.jpg)\n",
    "- [Image: Iris-Versicolour](https://upload.wikimedia.org/wikipedia/commons/2/27/Blue_Flag%2C_Ottawa.jpg)\n",
    "- [Image: Iris-Virginica](https://en.wikipedia.org/wiki/Iris_virginica#/media/File:Iris_virginica_2.jpg)\n",
    "\n",
    "### References\n",
    "\n",
    "https://scikit-learn.org/1.5/modules/generated/sklearn.datasets.load_iris.html\n",
    "\n",
    "https://scikit-learn.org/stable/datasets/toy_dataset.html#iris-dataset\n",
    "\n",
    "\n",
    "\n"
   ]
  },
  {
   "cell_type": "code",
   "execution_count": null,
   "metadata": {},
   "outputs": [],
   "source": [
    "# Task 1: Import the data\n",
    "# Load the iris dataset from the sklearn.datasets module using the load_iris() function.\n",
    "# The iris dataset is a dictionary-like object that holds all the data and some metadata about the data.\n",
    "import sklearn.datasets as datasets\n"
   ]
  },
  {
   "cell_type": "markdown",
   "metadata": {},
   "source": [
    "Load the iris data set"
   ]
  },
  {
   "cell_type": "code",
   "execution_count": null,
   "metadata": {},
   "outputs": [],
   "source": [
    "# Load the iris dataset from sklearn.datasets module\n",
    "# as_frame=True loads the data as a pandas DataFrame\n",
    "bunch_iris = datasets.load_iris(as_frame=True)"
   ]
  },
  {
   "cell_type": "markdown",
   "metadata": {},
   "source": [
    "Display the keys of the \"bunch\" data set.\n",
    "\n",
    "The keys behave as a dictionary or data set\n"
   ]
  },
  {
   "cell_type": "code",
   "execution_count": null,
   "metadata": {},
   "outputs": [],
   "source": [
    "print(\"Iris Dataset Keys:\")\n",
    "for key in bunch_iris.keys():\n",
    "    print(f\"Key: {key}\")\n"
   ]
  },
  {
   "cell_type": "markdown",
   "metadata": {},
   "source": [
    "Iris Data Set Feature Names"
   ]
  },
  {
   "cell_type": "code",
   "execution_count": null,
   "metadata": {},
   "outputs": [],
   "source": [
    "# Convert feature_names to DataFrame\n",
    "# Easier to read\n",
    "df_feature_name = pd.DataFrame(bunch_iris['feature_names'])\n",
    "df_feature_name"
   ]
  },
  {
   "cell_type": "markdown",
   "metadata": {},
   "source": [
    "Iris Dataset Target Names  \n",
    "The target names are the 3 species of iris flowers."
   ]
  },
  {
   "cell_type": "code",
   "execution_count": null,
   "metadata": {},
   "outputs": [],
   "source": [
    "# convert target names to dataframe for easier reading\n",
    "df_target_name = pd.DataFrame(bunch_iris['target_names'])\n",
    "print(df_target_name)"
   ]
  },
  {
   "cell_type": "code",
   "execution_count": null,
   "metadata": {},
   "outputs": [],
   "source": [
    "#bunch_iris = datasets.load_iris(as_frame=True)\n",
    "#print(\"Bunch iris: \", bunch_iris)\n",
    "print(\"Keys: \", bunch_iris.keys())\n",
    "print(\"Data: \", bunch_iris['data'].head())\n",
    "print(\"Target: \", bunch_iris['target'].head())\n",
    "\n"
   ]
  },
  {
   "cell_type": "code",
   "execution_count": null,
   "metadata": {},
   "outputs": [],
   "source": [
    "bunch_iris.data.info()\n",
    "bunch_iris.data.shape\n",
    "bunch_iris.data.describe()\n",
    "bunch_iris.data.head()"
   ]
  },
  {
   "cell_type": "code",
   "execution_count": null,
   "metadata": {},
   "outputs": [],
   "source": [
    "bunch_iris.target.info()\n",
    "bunch_iris.target.shape\n",
    "bunch_iris.target.describe()\n",
    "bunch_iris.target.head()\n"
   ]
  },
  {
   "cell_type": "markdown",
   "metadata": {},
   "source": [
    "# Task 2: Explore the Data Structure\n",
    "\n",
    "Print and explain the shape of the data set, the first and last 5 rows of the data, the feature names, and the target classes.  \n"
   ]
  },
  {
   "cell_type": "markdown",
   "metadata": {},
   "source": [
    "## Task 2 : Answer\n",
    "\n",
    "### Summary\n",
    "\n",
    "The iris data set is returned as a \"bunch\" object. The bunch object is a dictionary with the following keys\n",
    "\n",
    "- data : The feature data set\n",
    "- target : The target data set\n",
    "- target_names : The target names\n",
    "- feature_names : The feature names\n",
    "- DESCR : The description of the data set\n",
    "\n",
    "\n",
    "\n"
   ]
  },
  {
   "cell_type": "markdown",
   "metadata": {},
   "source": [
    "**Description of the data set (DESCR)**\n",
    "\n",
    "The description(*DESCR*) describes and defines the contents of the iris data set."
   ]
  },
  {
   "cell_type": "code",
   "execution_count": null,
   "metadata": {},
   "outputs": [],
   "source": [
    "# This explains the data set\n",
    "print(bunch_iris.DESCR);"
   ]
  },
  {
   "cell_type": "markdown",
   "metadata": {},
   "source": [
    "### Shape of data set\n",
    "\n",
    "The irish ( flower ) data portion dataset has 4 columns of features ( sepal length and width , and petal length and widht in cm ) and 150 rows of 50 of each type of the 3 iris species.  The target , which identifies the iris species , is a series of 150 rows in the same order as the data set. The target represents the species and is decoded as follows\n",
    "\n",
    "**Data - Features**\n",
    "\n",
    "\n",
    "| Column Number | Column Name      | Description           |\n",
    "|---------------|------------------|-----------------------|\n",
    "| 0             | Sepal Length     | Sepal length in cm    |\n",
    "| 1             | Sepal Width      | Sepal width in cm     |\n",
    "| 2             | Petal Length     | Petal length in cm    |\n",
    "| 3             | Petal Width      | Petal width in cm     |\n",
    "\n",
    "\n",
    "**Target - Species**\n",
    "| Column Number | Column Name      | Description           |\n",
    "|---------------|------------------|-----------------------|\n",
    "| 0             | Species          | Number [0,2]          |\n",
    "\n",
    "***Mapping of Species***\n",
    "\n",
    "| Value | Species          |\n",
    "|-------|------------------|\n",
    "| 0     | Iris Setosa      |\n",
    "| 1     | Iris Versicolour  |\n",
    "| 2     | Iris Virginica    |\n",
    "\n",
    "\n",
    "\n"
   ]
  },
  {
   "cell_type": "code",
   "execution_count": null,
   "metadata": {},
   "outputs": [],
   "source": [
    "print(\"Shape of the data: \")\n",
    "print(\"------------------\")\n",
    "bunch_iris.data.shape\n",
    "print(\"Info of the data: \")\n",
    "print(\"------------------\")\n",
    "bunch_iris.data.info()\n",
    "print(\"Shape of the target: \")\n",
    "print(\"------------------\")\n",
    "bunch_iris.target.shape\n",
    "print(\"Info of the target: \")\n",
    "print(\"------------------\")\n",
    "bunch_iris.target.info()"
   ]
  },
  {
   "cell_type": "markdown",
   "metadata": {},
   "source": [
    "### First and last 5 rows of the data set\n",
    "\n",
    "The data set in the \"bunch\" object is broken up into \"data\" or features and targets\n"
   ]
  },
  {
   "cell_type": "markdown",
   "metadata": {},
   "source": [
    "**Data ( Features ) First 5 Rows**"
   ]
  },
  {
   "cell_type": "code",
   "execution_count": null,
   "metadata": {},
   "outputs": [],
   "source": [
    "bunch_iris.data.head(5)"
   ]
  },
  {
   "cell_type": "markdown",
   "metadata": {},
   "source": [
    "**Target ( Species ) First 5 Rows**"
   ]
  },
  {
   "cell_type": "code",
   "execution_count": null,
   "metadata": {},
   "outputs": [],
   "source": [
    "# like displaying as array easier to read\n",
    "bunch_iris.target.head(5).to_frame(name='target')"
   ]
  },
  {
   "cell_type": "markdown",
   "metadata": {},
   "source": [
    "**Data ( Features ) Last 5 Rows**"
   ]
  },
  {
   "cell_type": "code",
   "execution_count": null,
   "metadata": {},
   "outputs": [],
   "source": [
    "bunch_iris.data.tail()"
   ]
  },
  {
   "cell_type": "markdown",
   "metadata": {},
   "source": [
    "**Target ( Species ) Last 5 Rows**"
   ]
  },
  {
   "cell_type": "code",
   "execution_count": null,
   "metadata": {},
   "outputs": [],
   "source": [
    "bunch_iris.target.tail(5).to_frame(name='target')"
   ]
  },
  {
   "cell_type": "markdown",
   "metadata": {},
   "source": [
    "### Feature Names\n",
    "\n",
    "The feature names are stored as metadata in irish dataset features names.\n",
    "\n",
    "\n",
    "#### Notes\n",
    "\n",
    "##### What is a sepal ? \n",
    "\n",
    "The outer parts of the flower (often green and leaf-like) that enclose a developing bud. Sepals are usually green, but in some species they may be brightly colored or resemble petals. Sepals help to protect the flower bud.\n",
    "\n",
    "\n",
    "#### What is a petal ?\n",
    "\n",
    " The parts of a flower that are often conspicuously colored. Petals are the parts of a flower that are often conspicuously colored. They are often involved in attracting pollinators, or are used to attract animals that help the plant to spread its seeds.\n",
    "\n",
    " https://www.amnh.org/learn-teach/curriculum-collections/biodiversity-counts/plant-identification/plant-morphology/parts-of-a-flower"
   ]
  },
  {
   "cell_type": "code",
   "execution_count": null,
   "metadata": {},
   "outputs": [],
   "source": [
    "bunch_iris.feature_names"
   ]
  },
  {
   "cell_type": "markdown",
   "metadata": {},
   "source": [
    "Check that the target is as specified in the dataset specification. \n",
    "\n",
    "*Trust but verify.*"
   ]
  },
  {
   "cell_type": "code",
   "execution_count": null,
   "metadata": {},
   "outputs": [],
   "source": [
    "# Count of each target\n",
    "# This shows the distribution of the target\n",
    "bunch_iris.target.groupby(bunch_iris.target).count().to_frame(name='count').reset_index()"
   ]
  },
  {
   "cell_type": "code",
   "execution_count": null,
   "metadata": {},
   "outputs": [],
   "source": [
    "bunch_iris.target_names.tolist()"
   ]
  },
  {
   "cell_type": "markdown",
   "metadata": {},
   "source": [
    "# Task 3: Summarize the Data\n",
    "\n",
    "For each feature in the dataset, calculate and display:  \n",
    "\n",
    "- mean\n",
    "- minimum\n",
    "- maximum\n",
    "- standard deviation\n",
    "- median"
   ]
  },
  {
   "cell_type": "markdown",
   "metadata": {},
   "source": [
    "## Task 3 : Answer"
   ]
  },
  {
   "cell_type": "markdown",
   "metadata": {},
   "source": [
    "### Summary\n",
    "\n",
    "Create a single dataframe containing all the features , petal length and width , and sepal length and width and associated species. The calculate the mean , minimum , maximum , standard deviation , and median for each feature.\n",
    "\n"
   ]
  },
  {
   "cell_type": "code",
   "execution_count": null,
   "metadata": {},
   "outputs": [],
   "source": [
    "# Comnbine the data and target into one dataframe - datacamp course\n",
    "df_iris = pd.concat([bunch_iris.data, bunch_iris.target], axis=1)\n",
    "# get a dictionary of the target values and their corresponding names\n",
    "# create a lookup table for the target values and their name\n",
    "target_name_map = {i: name for i, name in enumerate(bunch_iris.target_names)}\n",
    "# map the target values to the target names\n",
    "# substitute the surrogate key with the target name\n",
    "df_iris['target'] = df_iris['target'].map(target_name_map)\n",
    "# run describe for each column"
   ]
  },
  {
   "cell_type": "code",
   "execution_count": null,
   "metadata": {},
   "outputs": [],
   "source": [
    "# Describe gets shows the count, mean, std, min, 25%, 50%, 75%, max\n",
    "# for each column , it does not show the median\n",
    "df_iris.describe(include='all')\n"
   ]
  },
  {
   "cell_type": "markdown",
   "metadata": {},
   "source": [
    "Display the mean, minimum, maximum, standard deviation, and median of all the species combined for each feature."
   ]
  },
  {
   "cell_type": "code",
   "execution_count": null,
   "metadata": {},
   "outputs": [],
   "source": [
    "# get the mean, min, max, std, and median of the features all at once\n",
    "# using the agg function , we can pass a list of functions to apply to the columns\n",
    "# , the describe function does not have the median\n",
    "df_iris.agg({'sepal length (cm)':['mean','min','max','std','median'],\\\n",
    "             'sepal width (cm)':['mean','min','max','std','median'],\\\n",
    "             'petal length (cm)':['mean','min','max','std','median'],\\\n",
    "             'petal width (cm)':['mean','min','max','std','median']})"
   ]
  },
  {
   "cell_type": "markdown",
   "metadata": {},
   "source": [
    "### Summary at species level\n",
    "\n",
    "This summary will be for each species , Setosa , Versicolour , Virginica. The mean , minimum , maximum , standard deviation , and median for each feature will be calculated for each species.\n",
    "This is done doing a melt on the data frame and grouping by species and feature."
   ]
  },
  {
   "cell_type": "code",
   "execution_count": null,
   "metadata": {},
   "outputs": [],
   "source": [
    "# use melt to convert the dataframe to long format\n",
    "# this is a classic metric table format\n",
    "# makes it easier to workout the mean, min, max, std, and median of the species and features\n",
    "# id_vars is the column to keep as is - target setosa, versicolor, virginica\n",
    "# var_name is the new column name for the features\n",
    "# value_name is the new column name for the values\n",
    "df_iris_melt = df_iris.melt(id_vars='target', var_name='feature', value_name='value')\n",
    "# rename target to species\n",
    "df_iris_melt.rename(columns={'target':'species'}, inplace=True)\n",
    "# check the first few rows of the melted dataframe\n",
    "df_iris_melt.head()"
   ]
  },
  {
   "cell_type": "code",
   "execution_count": null,
   "metadata": {},
   "outputs": [],
   "source": [
    "# datacamp course - picked up how to do this\n",
    "# used similar technique for daily store , sku metric table about 5B rows\n",
    "df_iris_species_summary = df_iris_melt.groupby(['species','feature'])\\\n",
    "    .agg({'value':['mean','min','max','std','median']})\\\n",
    "    .reset_index()\n",
    "# rename columns\n",
    "df_iris_species_summary.columns = ['species','feature','mean','min','max','std','median']\n",
    "print(df_iris_species_summary['species'].unique())\n",
    "\n"
   ]
  },
  {
   "cell_type": "markdown",
   "metadata": {},
   "source": [
    "Summary of Setosa"
   ]
  },
  {
   "cell_type": "code",
   "execution_count": null,
   "metadata": {},
   "outputs": [],
   "source": [
    "# get setosa summary and then transpose\n",
    "# this is to make it easier to read\n",
    "df_setosa = df_iris_species_summary[df_iris_species_summary['species']=='setosa'].drop(columns='species').transpose()\n",
    "# rename index to feature and drop the feature colum\n",
    "df_setosa = df_setosa.rename(columns=df_setosa.iloc[0]).drop(df_setosa.index[0])\n",
    "df_setosa\n"
   ]
  },
  {
   "cell_type": "markdown",
   "metadata": {},
   "source": [
    "Summary of Versicolour"
   ]
  },
  {
   "cell_type": "code",
   "execution_count": null,
   "metadata": {},
   "outputs": [],
   "source": [
    "# get versicolor summary and then transpose\n",
    "# this is to make it easier to read\n",
    "df_versicolor = df_iris_species_summary[df_iris_species_summary['species']=='versicolor'].drop(columns='species').transpose()\n",
    "# rename index to feature and drop the feature colum\n",
    "df_versicolor = df_versicolor.rename(columns=df_versicolor.iloc[0]).drop(df_versicolor.index[0])\n",
    "df_versicolor"
   ]
  },
  {
   "cell_type": "markdown",
   "metadata": {},
   "source": [
    "Summary of Virginica\n"
   ]
  },
  {
   "cell_type": "code",
   "execution_count": null,
   "metadata": {},
   "outputs": [],
   "source": [
    "# get versicolor summary and then transpose\n",
    "# this is to make it easier to read\n",
    "df_virginica = df_iris_species_summary[df_iris_species_summary['species']=='virginica'].drop(columns='species').transpose()\n",
    "# rename index to feature and drop the feature colum\n",
    "df_virginica = df_virginica.rename(columns=df_virginica.iloc[0]).drop(df_virginica.index[0])\n",
    "df_virginica"
   ]
  },
  {
   "cell_type": "markdown",
   "metadata": {},
   "source": [
    "# Task 4: Visualize Features\n",
    "\n",
    "Plot histograms for each feature using `matplotlib`.  \n",
    "Add appropriate titles and axis labels.  \n",
    "\n"
   ]
  },
  {
   "cell_type": "markdown",
   "metadata": {},
   "source": [
    "## Task 4 : Answer\n",
    "\n",
    "The first plot is a historgram of each featue in the data set , then second plot is a histogram of each feature by species. Each species is a different colour. \n",
    "\n",
    "\n",
    "### References\n",
    "[Matplotlib Histograms](https://matplotlib.org/stable/api/_as_gen/matplotlib.pyplot.hist.html)\n"
   ]
  },
  {
   "cell_type": "code",
   "execution_count": null,
   "metadata": {},
   "outputs": [],
   "source": [
    "fig, ax = plt.subplots(2, 2, figsize=(10, 10))\n",
    "# Set the title of the figure\n",
    "fig.suptitle('Iris Species Feature Histogram Plot')\n",
    "# loop through the features and plot the histogram for each feature\n",
    "features = df_iris.columns[:-1]\n",
    "# learned this from datacamp course - after doing the below\n",
    "axflat = ax.flatten()\n",
    "for i, feature in enumerate(features):\n",
    "    # get ax\n",
    "    telecaster = axflat[i] # guitars are called axe's \n",
    "    # set title of plot\n",
    "    # set the title of the plot\n",
    "    title = f'{feature.replace(\" (cm)\", \"\")}'\n",
    "    telecaster.set_title(title, fontsize=12, fontweight='bold')\n",
    "    # plot the histogram for each species\n",
    "    telecaster.hist(df_iris[feature], color='gray',bins='auto', rwidth=0.85)\n",
    "    # set the x and y labels\n",
    "    telecaster.set_xlabel('cm')\n",
    "    telecaster.set_ylabel('Count')\n"
   ]
  },
  {
   "cell_type": "markdown",
   "metadata": {},
   "source": []
  },
  {
   "cell_type": "markdown",
   "metadata": {},
   "source": [
    "This histogram displays each species in a different colour .  This is much more useful in viewing and understanding the data distribution among the species.   \n",
    "It shows that there is a decided differences in species in the petal length and width.   The sepal length and width does not show as much distinction between the species."
   ]
  },
  {
   "cell_type": "code",
   "execution_count": null,
   "metadata": {},
   "outputs": [],
   "source": [
    "# Plot in 4 subplots the histograms of the features of each species of iris\n",
    "plt.style.use('ggplot')\n",
    "fig, ax = plt.subplots(nrows=2, ncols=2, figsize=(10, 10))\n",
    "# set overall title\n",
    "fig.suptitle('Iris Species Feature Histogram Plot')\n",
    "# loop thru each feature and plot histogram in subplots 2 x 2\n",
    "# sepals and petals seperate layers\n",
    "# loop makes it more compact\n",
    "axflat = ax.flatten()\n",
    "for i, feature_name in enumerate(df_iris.columns[:-1]):\n",
    "    for species in bunch_iris.target_names:\n",
    "        # plot the histogram for each species\n",
    "        stratocaster = axflat[i]\n",
    "        stratocaster.hist(df_iris[df_iris['target'] == species][feature_name], alpha=0.5, label=species,histtype='stepfilled', bins='auto', rwidth=0.85)\n",
    "    stratocaster.set_title(feature_name.replace(\" (cm)\", \"\"), fontsize=12, fontweight='bold')\n",
    "    stratocaster.legend()\n",
    "    stratocaster.set_xlabel('cm')\n",
    "    stratocaster.set_ylabel('Count')\n",
    "    stratocaster.set_xlim(df_iris[feature_name].min(), df_iris[feature_name].max())\n",
    "    stratocaster.grid(True)\n",
    "plt.tight_layout()"
   ]
  },
  {
   "cell_type": "markdown",
   "metadata": {},
   "source": [
    "# Task 5: Investigate Relationships\n",
    "\n",
    "Choose any two features from the data set and create a scatter plot of them.  \n",
    "Color-code the three different classes of the scatter plot points.\n"
   ]
  },
  {
   "cell_type": "markdown",
   "metadata": {},
   "source": [
    "## Task 5 : Answer\n",
    "\n",
    "Pick Sepal Width and Sepal Length , and Petal Width and Petal Length to create scatter plots. Color code the scatter plot points by species ( Setosa , Versicolour , Virginica )\n"
   ]
  },
  {
   "cell_type": "code",
   "execution_count": null,
   "metadata": {},
   "outputs": [],
   "source": [
    "# Create 2 x \n",
    "# Set plot style\n",
    "plt.style.use('ggplot')\n",
    "# create a figure and axis\n",
    "fig , ax = plt.subplots(nrows = 2, ncols = 1, figsize=(10, 10))\n",
    "# Sepal length vs Sepal width scatter plot\n",
    "ax[0].scatter(bunch_iris.data['sepal length (cm)'], bunch_iris.data['sepal width (cm)']\\\n",
    "    , c=[['r', 'g', 'b'][i] for i in bunch_iris.target])\n",
    "ax[0].set_xlabel('sepal length (cm)')\n",
    "ax[0].set_ylabel('sepal width (cm)')\n",
    "ax[0].set_title('sepal length vs sepal width')\n",
    "# put legend for the targets values and colors\n",
    "ax[0].legend(handles=[plt.Line2D([0], [0], marker='o', color='w', label='setosa', markerfacecolor='r', markersize=10),\n",
    "                    plt.Line2D([0], [0], marker='o', color='w', label='versicolor', markerfacecolor='g', markersize=10),\n",
    "                    plt.Line2D([0], [0], marker='o', color='w', label='virginica', markerfacecolor='b', markersize=10)])\n",
    "# Petal length vs Petal width scatter plot\n",
    "# plot the data petal length vs petal width,petal length vs petal width, and target each species with different color\n",
    "ax[1].scatter(bunch_iris.data['petal length (cm)'], bunch_iris.data['petal width (cm)'], c=[['r', 'g', 'b'][i] for i in bunch_iris.target])\n",
    "ax[1].set_xlabel('petal length (cm)')\n",
    "ax[1].set_ylabel('petal width (cm)')\n",
    "ax[1].set_title('petal length vs petal width')\n",
    "# put legend for the targets values and colors\n",
    "ax[1].legend(handles=[plt.Line2D([0], [0], marker='o', color='w', label='setosa', markerfacecolor='r', markersize=10),\n",
    "                    plt.Line2D([0], [0], marker='o', color='w', label='versicolor', markerfacecolor='g', markersize=10),\n",
    "                    plt.Line2D([0], [0], marker='o', color='w', label='virginica', markerfacecolor='b', markersize=10)]);\n"
   ]
  },
  {
   "cell_type": "markdown",
   "metadata": {},
   "source": [
    "# Task 6: Analyze Relationship\n",
    "\n",
    "Use `numpy.polyfit` to add a regression line to the scatter plot from Task 5.\n",
    "\n",
    "The polyfit function used Least squares polynomial fit. Last used this to do Iodine absorption curve of EDTA titration in chemistry lab ( 2nd year WITS 1984)\n",
    "\n",
    "Numpy plolyfit documentation https://numpy.org/doc/stable/reference/generated/numpy.polyfit.html\n",
    "How to plot polyfit in scatter plot https://stackoverflow.com/questions/46627629/how-to-use-numpy-polyfit-to-plot-trend\n",
    "\n"
   ]
  },
  {
   "cell_type": "markdown",
   "metadata": {},
   "source": [
    "## Task 6 : Answer\n",
    "\n",
    "\n",
    "The polyfit function used Least squares polynomial fit. Last used this to do Iodine absorption curve of EDTA titration in chemistry lab ( 2nd year chemistry WITS 1984 - chemistry was too hard and switched to applied maths/operations research which was easier ). The polifit function is used for both petal length and width and sepal length and width , for each species seperately and together. \n",
    "\n",
    "Visualy the sepal length and width linear relation for all the species together does not seam to have a good correlation , seperately there does appear to be some linear relationship. The petal length and width does show a linear relationship overall and seperately.\n",
    "\n",
    "\n",
    "\n",
    "Numpy plolyfit documentation https://numpy.org/doc/stable/reference/generated/numpy.polyfit.html\n",
    "How to plot polyfit in scatter plot https://stackoverflow.com/questions/46627629/how-to-use-numpy-polyfit-to-plot-trend\n",
    "\n"
   ]
  },
  {
   "cell_type": "markdown",
   "metadata": {},
   "source": [
    "### Polyfit of sepals length and width\n",
    "\n"
   ]
  },
  {
   "cell_type": "markdown",
   "metadata": {},
   "source": [
    "### Using ployflit to do linear regression using the petal length and petal width\n",
    "\n",
    "#### Conclusion\n",
    "\n",
    "\n",
    "The inital attempt at doing a regresion line through the data was not successful.  There is not a obvious linear relationship between the petal length and petal width  \n",
    "If the different species data is seperated out, there is a linear relationship between the petal length and petal width for the setosa species.  The versicolor and virginica species do not have a linear relationship between the petal length and petal width.  The data for the versicolor and virginica species is more spread out and not linear.  The setosa species data is more linear and has a clear relationship between the petal length and petal width.  \n",
    "Then each of the species shows a linear regressiuons"
   ]
  },
  {
   "cell_type": "code",
   "execution_count": null,
   "metadata": {},
   "outputs": [],
   "source": [
    "#numpy.polyfit(x, y, deg, rcond=None, full=False, w=None, cov=False)\n",
    "#for sepal length vs sepal width\n",
    "# Do a polinomial fit between sepal length and sepal width \n",
    "# Degree 1 means linear\n",
    "trend = np.polyfit(x = df_iris['sepal length (cm)'], y = df_iris['sepal width (cm)'], deg = 1)\n",
    "trend_serosa = np.polyfit(x = df_iris[df_iris['target'] == 'setosa']['sepal length (cm)'], y = df_iris[df_iris['target'] == 'setosa']['sepal width (cm)'], deg = 1)\n",
    "trend_versicolor = np.polyfit(x = df_iris[df_iris['target'] == 'versicolor']['sepal length (cm)'], y = df_iris[df_iris['target'] == 'versicolor']['sepal width (cm)'], deg = 1)\n",
    "trend_virginica = np.polyfit(x = df_iris[df_iris['target'] == 'virginica']['sepal length (cm)'], y = df_iris[df_iris['target'] == 'virginica']['sepal width (cm)'], deg = 1)\n",
    "# do a trend line for each species of iris\n",
    "\n",
    "# create a polynomial function - this is the trend line\n",
    "# this is a linear trend line\n",
    "trendpoly = np.poly1d(trend) # create a polynomial function\n",
    "trendpoly_serosa = np.poly1d(trend_serosa) # create a polynomial function\n",
    "trendpoly_versicolor = np.poly1d(trend_versicolor) # create a polynomial function\n",
    "trendpoly_virginica = np.poly1d(trend_virginica) # create a polynomial function\n",
    "\n",
    "plt.scatter(df_iris['sepal length (cm)'], df_iris['sepal width (cm)'], c=[['r', 'g', 'b'][i] for i in bunch_iris.target])\n",
    "plt.xlabel('sepal length (cm)')\n",
    "plt.ylabel('sepal width (cm)')\n",
    "plt.title('sepal length vs sepal width')\n",
    "# put legend for the targets values and colors\n",
    "plt.legend(handles=[plt.Line2D([0], [0], marker='o', color='w', label='setosa', markerfacecolor='r', markersize=10),\n",
    "                    plt.Line2D([0], [0], marker='o', color='w', label='versicolor', markerfacecolor='g', markersize=10),\n",
    "                    plt.Line2D([0], [0], marker='o', color='w', label='virginica', markerfacecolor='b', markersize=10)])\n",
    "# plot the trend line for all the data and then each species\n",
    "plt.plot(df_iris['sepal length (cm)'], trendpoly(df_iris['sepal length (cm)']), color = 'black')\n",
    "plt.plot(df_iris[df_iris['target'] == 'setosa']['sepal length (cm)'], trendpoly_serosa(df_iris[df_iris['target'] == 'setosa']['sepal length (cm)']), color = 'red')\n",
    "plt.plot(df_iris[df_iris['target'] == 'versicolor']['sepal length (cm)'], trendpoly_versicolor(df_iris[df_iris['target'] == 'versicolor']['sepal length (cm)']), color = 'green')\n",
    "plt.plot(df_iris[df_iris['target'] == 'virginica']['sepal length (cm)'], trendpoly_virginica(df_iris[df_iris['target'] == 'virginica']['sepal length (cm)']), color = 'blue')\n",
    "plt.show();\n"
   ]
  },
  {
   "cell_type": "markdown",
   "metadata": {},
   "source": [
    "The polyfit documentation recommends the use of the polynomial fit function for linear regression\n",
    "- [polyfit](https://numpy.org/doc/stable/reference/generated/numpy.polyfit.html)\n",
    "- [polynomial fit](https://numpy.org/doc/stable/reference/routines.polynomials-package.html#module-numpy.polynomial)\n",
    "\n",
    "The below is the above polifit example replace with polynomial fit function.  The polynomial fit function is more versatile ."
   ]
  },
  {
   "cell_type": "code",
   "execution_count": null,
   "metadata": {},
   "outputs": [],
   "source": [
    "# Use polinomal fit function from numpy\n",
    "#polynomial.polynomial.Polynomial.fit\n",
    "# used github copilot prompt to get me started\n",
    "from numpy.polynomial import Polynomial\n",
    "# TODO - add a function to do this\n",
    "# Split into x and y - it could be done in the plot function but this is more readable\n",
    "x_sepal_length = df_iris['sepal length (cm)']\n",
    "y_sepal_width = df_iris['sepal width (cm)']\n",
    "# now x and y for each species\n",
    "x_sepal_length_setosa = df_iris[df_iris['target'] == 'setosa']['sepal length (cm)']\n",
    "y_sepal_width_setosa = df_iris[df_iris['target'] == 'setosa']['sepal width (cm)']\n",
    "x_sepal_length_versicolor = df_iris[df_iris['target'] == 'versicolor']['sepal length (cm)']\n",
    "y_sepal_width_versicolor = df_iris[df_iris['target'] == 'versicolor']['sepal width (cm)']\n",
    "x_sepal_length_virginica = df_iris[df_iris['target'] == 'virginica']['sepal length (cm)']\n",
    "y_sepal_width_virginica = df_iris[df_iris['target'] == 'virginica']['sepal width (cm)']\n",
    "# Use Polynomial fit function from numpy for sepal length vs sepal width , for all the data and then each species\n",
    "# get the polynomial fit for all the data and then each specie\n",
    "poly_sepal,poly_sepal_residual = Polynomial.fit(x = x_sepal_length, y = y_sepal_width, deg = 1 , full=True)\n",
    "poly_sepal_setosa,poly_sepal_setosa_residual = Polynomial.fit(x = x_sepal_length_setosa, y = y_sepal_width_setosa, deg = 1 , full=True)\n",
    "poly_sepal_versicolor,poly_sepal_versicolor_residual = Polynomial.fit(x = x_sepal_length_versicolor, y = y_sepal_width_versicolor, deg = 1 , full=True)\n",
    "poly_sepal_virginica,poly_sepal_virginica_residual = Polynomial.fit(x = x_sepal_length_virginica, y = y_sepal_width_virginica, deg = 1 , full=True)\n",
    "# get the polynomial fit for all the data\n",
    "# get the equations for all the data and then each species\n",
    "poly_sepal_equation = poly_sepal.convert()\n",
    "poly_sepal_setosa_equation = poly_sepal_setosa.convert()\n",
    "poly_sepal_versicolor_equation = poly_sepal_versicolor.convert()\n",
    "poly_sepal_virginica_equation = poly_sepal_virginica.convert()\n",
    "# print the polynomial equations for all the data and then each species\n",
    "print(\"Polynomial equation: \", poly_sepal_equation)\n",
    "print(\"Polynomial equation setosa: \", poly_sepal_setosa_equation)\n",
    "print(\"Polynomial equation versicolor: \", poly_sepal_versicolor_equation)\n",
    "print(\"Polynomial equation virginica: \", poly_sepal_virginica_equation)\n",
    "# get the residuals\n",
    "# TODO Store in a summary dataframe\n",
    "#print(\"Residuals Redisidual: \", poly_sepal_residual[0])\n",
    "#print(\"Residuals Rank: \", poly_sepal_residual[1])\n",
    "#print(\"Residuals Singular values: \", poly_sepal_residual[2])\n",
    "#print(\"Residuals Condition number: \", poly_sepal_residual[3])\n",
    "# get the linspace of x values for all ,and then each species\n",
    "# this is to plot the trend line\n",
    "poly_sepal_linspace = poly_sepal.linspace(n=len(x_sepal_length))\n",
    "poly_sepal_setosa_linspace = poly_sepal_setosa.linspace(n=len(x_sepal_length_setosa))\n",
    "poly_sepal_versicolor_linspace = poly_sepal_versicolor.linspace(n=len(x_sepal_length_versicolor))\n",
    "poly_sepal_virginica_linspace = poly_sepal_virginica.linspace(n=len(x_sepal_length_virginica))\n",
    "\n",
    "# set the style of the plot\n",
    "plt.style.use('ggplot')\n",
    "fig , ax = plt.subplots(nrows = 2, ncols = 2, figsize=(10, 10))\n",
    "# plot the data\n",
    "ax[0,0].scatter(x=x_sepal_length, y=y_sepal_width, c=[['r', 'g', 'b'][i] for i in bunch_iris.target])\n",
    "ax[0,0].plot(poly_sepal_linspace[0], poly_sepal_linspace[1], color = 'black')\n",
    "ax[0,0].plot(poly_sepal_setosa_linspace[0], poly_sepal_setosa_linspace[1], color = 'red')\n",
    "ax[0,0].plot(poly_sepal_versicolor_linspace[0], poly_sepal_versicolor_linspace[1], color = 'green')\n",
    "ax[0,0].plot(poly_sepal_virginica_linspace[0], poly_sepal_virginica_linspace[1], color = 'blue')\n",
    "# github copilot prompt to get me started\n",
    "equation_text = f\"$y = {poly_sepal_equation.coef[0]:.2f} + {poly_sepal_equation.coef[1]:.2f}x$\"\n",
    "ax[0,0].annotate(equation_text, xy=(0.05, 0.95), xycoords='axes fraction', fontsize=12, color='black',\n",
    "             horizontalalignment='left', verticalalignment='top')\n",
    "# add axes title\n",
    "ax[0,0].set_title('sepal length vs sepal width (all)')\n",
    "ax[0,0].set_xlabel('sepal length (cm)')\n",
    "ax[0,0].set_ylabel('sepal width (cm)')\n",
    "\n",
    "ax[0,0].legend()\n",
    "# Now do setosa\n",
    "ax[0,1].scatter(x=x_sepal_length_setosa, y=y_sepal_width_setosa, c='red')\n",
    "ax[0,1].plot(poly_sepal_setosa_linspace[0], poly_sepal_setosa_linspace[1], color = 'red')\n",
    "# get the equation for setosa\n",
    "equation_text = f\"$y = {poly_sepal_setosa_equation.coef[0]:.2f} + {poly_sepal_setosa_equation.coef[1]:.2f}x$\"\n",
    "ax[0,1].annotate(equation_text, xy=(0.05, 0.95), xycoords='axes fraction', fontsize=12, color='red',\n",
    "                horizontalalignment='left', verticalalignment='top')\n",
    "# add axes title\n",
    "ax[0,1].set_title('sepal length vs sepal width (setosa)')\n",
    "ax[0,1].set_xlabel('sepal length (cm)')\n",
    "ax[0,1].set_ylabel('sepal width (cm)')\n",
    "# Now do versicolor\n",
    "ax[1,0].scatter(x=x_sepal_length_versicolor, y=y_sepal_width_versicolor, c='green')\n",
    "ax[1,0].plot(poly_sepal_versicolor_linspace[0], poly_sepal_versicolor_linspace[1], color = 'green')\n",
    "# get the equation for versicolor\n",
    "equation_text = f\"y = {poly_sepal_versicolor_equation.coef[0]:.2f} + {poly_sepal_versicolor_equation.coef[1]:.2f}x\"\n",
    "ax[1,0].annotate(equation_text, xy=(0.05, 0.95), xycoords='axes fraction', fontsize=12, color='green',\n",
    "                horizontalalignment='left', verticalalignment='top')\n",
    "# add axes title\n",
    "ax[1,0].set_title('sepal length vs sepal width (versicolor)')\n",
    "ax[1,0].set_xlabel('sepal length (cm)')\n",
    "ax[1,0].set_ylabel('sepal width (cm)')\n",
    "# Now do virginica\n",
    "ax[1,1].scatter(x=x_sepal_length_virginica, y=y_sepal_width_virginica, c='blue')\n",
    "ax[1,1].plot(poly_sepal_virginica_linspace[0], poly_sepal_virginica_linspace[1], color = 'blue')\n",
    "# get the equation for virginica\n",
    "equation_text = f\"$y = {poly_sepal_virginica_equation.coef[0]:.2f} + {poly_sepal_virginica_equation.coef[1]:.2f}x$\"\n",
    "ax[1,1].annotate(equation_text, xy=(0.05, 0.95), xycoords='axes fraction', fontsize=12, color='blue',\n",
    "\n",
    "                horizontalalignment='left', verticalalignment='top')\n",
    "# add axes title\n",
    "ax[1,1].set_title('sepal length vs sepal width (virginica)')\n",
    "ax[1,1].set_xlabel('sepal length (cm)')\n",
    "ax[1,1].set_ylabel('sepal width (cm)')\n",
    "# set the overall title\n",
    "fig.suptitle('Iris Data  Set - Polynomial Fit of Sepal Length vs Sepal Width - Scatter and Trend Line')\n",
    "plt.tight_layout()\n"
   ]
  },
  {
   "cell_type": "code",
   "execution_count": null,
   "metadata": {},
   "outputs": [],
   "source": [
    "# Use polinomal fit function from numpy\n",
    "#polynomial.polynomial.Polynomial.fit\n",
    "# used github copilot prompt to get me started\n",
    "from numpy.polynomial import Polynomial\n",
    "# TODO - add a function to do this\n",
    "# Split into x and y - it could be done in the plot function but this is more readable\n",
    "x_petal_length = df_iris['petal length (cm)']\n",
    "y_petal_width = df_iris['petal width (cm)']\n",
    "# now x and y for each species\n",
    "x_petal_length_setosa = df_iris[df_iris['target'] == 'setosa']['petal length (cm)']\n",
    "y_petal_width_setosa = df_iris[df_iris['target'] == 'setosa']['petal width (cm)']\n",
    "x_petal_length_versicolor = df_iris[df_iris['target'] == 'versicolor']['petal length (cm)']\n",
    "y_petal_width_versicolor = df_iris[df_iris['target'] == 'versicolor']['petal width (cm)']\n",
    "x_petal_length_virginica = df_iris[df_iris['target'] == 'virginica']['petal length (cm)']\n",
    "y_petal_width_virginica = df_iris[df_iris['target'] == 'virginica']['petal width (cm)']\n",
    "# Use Polynomial fit function from numpy for petal length vs petal width , for all the data and then each species\n",
    "# get the polynomial fit for all the data and then each specie\n",
    "poly_petal,poly_petal_residual = Polynomial.fit(x = x_petal_length, y = y_petal_width, deg = 1 , full=True)\n",
    "poly_petal_setosa,poly_petal_setosa_residual = Polynomial.fit(x = x_petal_length_setosa, y = y_petal_width_setosa, deg = 1 , full=True)\n",
    "poly_petal_versicolor,poly_petal_versicolor_residual = Polynomial.fit(x = x_petal_length_versicolor, y = y_petal_width_versicolor, deg = 1 , full=True)\n",
    "poly_petal_virginica,poly_petal_virginica_residual = Polynomial.fit(x = x_petal_length_virginica, y = y_petal_width_virginica, deg = 1 , full=True)\n",
    "# get the polynomial fit for all the data\n",
    "# get the equations for all the data and then each species\n",
    "poly_petal_equation = poly_petal.convert()\n",
    "poly_petal_setosa_equation = poly_petal_setosa.convert()\n",
    "poly_petal_versicolor_equation = poly_petal_versicolor.convert()\n",
    "poly_petal_virginica_equation = poly_petal_virginica.convert()\n",
    "# print the polynomial equations for all the data and then each species\n",
    "print(\"Polynomial equation: \", poly_petal_equation)\n",
    "print(\"Polynomial equation setosa: \", poly_petal_setosa_equation)\n",
    "print(\"Polynomial equation versicolor: \", poly_petal_versicolor_equation)\n",
    "print(\"Polynomial equation virginica: \", poly_petal_virginica_equation)\n",
    "# get the residuals\n",
    "# TODO Store in a summary dataframe\n",
    "#print(\"Residuals Redisidual: \", poly_petal_residual[0])\n",
    "#print(\"Residuals Rank: \", poly_petal_residual[1])\n",
    "#print(\"Residuals Singular values: \", poly_petal_residual[2])\n",
    "#print(\"Residuals Condition number: \", poly_petal_residual[3])\n",
    "# get the linspace of x values for all ,and then each species\n",
    "# this is to plot the trend line\n",
    "poly_petal_linspace = poly_petal.linspace(n=len(x_petal_length))\n",
    "poly_petal_setosa_linspace = poly_petal_setosa.linspace(n=len(x_petal_length_setosa))\n",
    "poly_petal_versicolor_linspace = poly_petal_versicolor.linspace(n=len(x_petal_length_versicolor))\n",
    "poly_petal_virginica_linspace = poly_petal_virginica.linspace(n=len(x_petal_length_virginica))\n",
    "\n",
    "# set the style of the plot\n",
    "plt.style.use('ggplot')\n",
    "fig , ax = plt.subplots(nrows = 2, ncols = 2, figsize=(10, 10))\n",
    "# plot the data\n",
    "ax[0,0].scatter(x=x_petal_length, y=y_petal_width, c=[['r', 'g', 'b'][i] for i in bunch_iris.target])\n",
    "ax[0,0].plot(poly_petal_linspace[0], poly_petal_linspace[1], color = 'black')\n",
    "ax[0,0].plot(poly_petal_setosa_linspace[0], poly_petal_setosa_linspace[1], color = 'red')\n",
    "ax[0,0].plot(poly_petal_versicolor_linspace[0], poly_petal_versicolor_linspace[1], color = 'green')\n",
    "ax[0,0].plot(poly_petal_virginica_linspace[0], poly_petal_virginica_linspace[1], color = 'blue')\n",
    "# github copilot prompt to get me started\n",
    "equation_text = f\"$y = {poly_petal_equation.coef[0]:.2f} + {poly_petal_equation.coef[1]:.2f}x$\"\n",
    "ax[0,0].annotate(equation_text, xy=(0.05, 0.95), xycoords='axes fraction', fontsize=12, color='black',\n",
    "             horizontalalignment='left', verticalalignment='top')\n",
    "# add axes title\n",
    "ax[0,0].set_title('petal length vs petal width (all)')\n",
    "ax[0,0].set_xlabel('petal length (cm)')\n",
    "ax[0,0].set_ylabel('petal width (cm)')\n",
    "\n",
    "ax[0,0].legend()\n",
    "# Now do setosa\n",
    "ax[0,1].scatter(x=x_petal_length_setosa, y=y_petal_width_setosa, c='red')\n",
    "ax[0,1].plot(poly_petal_setosa_linspace[0], poly_petal_setosa_linspace[1], color = 'red')\n",
    "# get the equation for setosa\n",
    "equation_text = f\"$y = {poly_petal_setosa_equation.coef[0]:.2f} + {poly_petal_setosa_equation.coef[1]:.2f}x$\"\n",
    "ax[0,1].annotate(equation_text, xy=(0.05, 0.95), xycoords='axes fraction', fontsize=12, color='red',\n",
    "                horizontalalignment='left', verticalalignment='top')\n",
    "# add axes title\n",
    "ax[0,1].set_title('petal length vs petal width (setosa)')\n",
    "ax[0,1].set_xlabel('petal length (cm)')\n",
    "ax[0,1].set_ylabel('petal width (cm)')\n",
    "# Now do versicolor\n",
    "ax[1,0].scatter(x=x_petal_length_versicolor, y=y_petal_width_versicolor, c='green')\n",
    "ax[1,0].plot(poly_petal_versicolor_linspace[0], poly_petal_versicolor_linspace[1], color = 'green')\n",
    "# get the equation for versicolor\n",
    "equation_text = f\"$y = {poly_petal_versicolor_equation.coef[0]:.2f} + {poly_petal_versicolor_equation.coef[1]:.2f}x$\"\n",
    "ax[1,0].annotate(equation_text, xy=(0.05, 0.95), xycoords='axes fraction', fontsize=12, color='green',\n",
    "                horizontalalignment='left', verticalalignment='top')\n",
    "# add axes title\n",
    "ax[1,0].set_title('petal length vs petal width (versicolor)')\n",
    "ax[1,0].set_xlabel('petal length (cm)')\n",
    "ax[1,0].set_ylabel('petal width (cm)')\n",
    "# Now do virginica\n",
    "ax[1,1].scatter(x=x_petal_length_virginica, y=y_petal_width_virginica, c='blue')\n",
    "ax[1,1].plot(poly_petal_virginica_linspace[0], poly_petal_virginica_linspace[1], color = 'blue')\n",
    "# get the equation for virginica\n",
    "equation_text = f\"$y = {poly_petal_virginica_equation.coef[0]:.2f} + {poly_petal_virginica_equation.coef[1]:.2f}x$\"\n",
    "ax[1,1].annotate(equation_text, xy=(0.05, 0.95), xycoords='axes fraction', fontsize=12, color='blue',\n",
    "\n",
    "                horizontalalignment='left', verticalalignment='top')\n",
    "# add axes title\n",
    "ax[1,1].set_title('petal length vs petal width (virginica)')\n",
    "ax[1,1].set_xlabel('petal length (cm)')\n",
    "ax[1,1].set_ylabel('petal width (cm)')\n",
    "# set the overall title\n",
    "fig.suptitle('Iris Data  Set - Polynomial Fit of petal Length vs petal Width - Scatter and Trend Line')\n",
    "plt.tight_layout()"
   ]
  },
  {
   "cell_type": "markdown",
   "metadata": {},
   "source": [
    "### Polyfit of petals length and width"
   ]
  },
  {
   "cell_type": "code",
   "execution_count": null,
   "metadata": {},
   "outputs": [],
   "source": [
    "#numpy.polyfit(x, y, deg, rcond=None, full=False, w=None, cov=False)\n",
    "#for petal length vs petal width\n",
    "# Do a polinomial fit between petal length and petal width \n",
    "# Degree 1 means linear\n",
    "trend = np.polyfit(x = bunch_iris.data['petal length (cm)'], y = bunch_iris.data['petal width (cm)'], deg = 1)\n",
    "print(trend)\n",
    "# create a polynomial function - this is the trend line\n",
    "# this is a linear trend line\n",
    "trendpoly = np.poly1d(trend) # create a polynomial function\n",
    "print(trendpoly)\n",
    "plt.scatter(bunch_iris.data['petal length (cm)'], bunch_iris.data['petal width (cm)'], c=[['r', 'g', 'b'][i] for i in bunch_iris.target])\n",
    "plt.xlabel('petal length (cm)')\n",
    "plt.ylabel('petal width (cm)')\n",
    "plt.title('petal length vs petal width')\n",
    "# put legend for the targets values and colors\n",
    "plt.legend(handles=[plt.Line2D([0], [0], marker='o', color='w', label='setosa', markerfacecolor='r', markersize=10),\n",
    "                    plt.Line2D([0], [0], marker='o', color='w', label='versicolor', markerfacecolor='g', markersize=10),\n",
    "                    plt.Line2D([0], [0], marker='o', color='w', label='virginica', markerfacecolor='b', markersize=10)])\n",
    "plt.plot(bunch_iris.data['petal length (cm)'], trendpoly(bunch_iris.data['petal length (cm)']), color = 'black')\n",
    "plt.show()\n"
   ]
  },
  {
   "cell_type": "markdown",
   "metadata": {},
   "source": [
    "# Task 7: Analyze Class Distributions\n",
    "\n",
    "Create box-plots of the petal lengths for each of the three classes.\n"
   ]
  },
  {
   "cell_type": "markdown",
   "metadata": {},
   "source": [
    "## Task 7 : Answer\n",
    "\n",
    "### Description\n",
    "\n",
    "The box plot show the distribution of the 3 iris species petal lengths . The distribution show the spread of the data via various metrics. The box plot shows the mean , median , and quantiles of the data. The box is the interquartile range , the whiskers are the IQR * 1.5. The box plot is a good way to show the distribution of the data and the spread of the data.\n",
    "\n",
    "### Conclusion\n",
    "\n",
    "The serosa species has the most distinct petal length and it is easy to determine the serosa species by only looking at the petal length. The other two species , Versicolour and Virginica do overalp in petal length and thus it is not as easy to determine the species by petal length alone.\n",
    "\n",
    "\n",
    "#### Notes\n",
    "\n",
    "Box Plots are basically a plot with mean , median and quantiles , the box is the interquartile range 0.25 and 0.75 quantiles , the whiskers are IQR * 1.5.\n",
    "We are going to the petal lengths of each of the classes , id est  the iris species , Setosa , Versicolour , Virginica.\n",
    "We will be using the seaborn library to create the box plots.\n",
    "\n",
    "### References\n",
    "\n",
    "- Course Notes - Ian McLoughlin : https://github.com/ianmcloughlin/principles_of_data_analytics/blob/main/materials/boxplots.ipynb\n",
    "- Seaborn Box Plots : https://seaborn.pydata.org/generated/seaborn.boxplot.html\n",
    "- https://www.geeksforgeeks.org/how-to-set-the-hue-order-in-seaborn-plots/#5-example-withseabornboxplot\n",
    "- Datacamp Seaborn Course \n",
    "- Datacamp Numpy Course - melts"
   ]
  },
  {
   "cell_type": "markdown",
   "metadata": {},
   "source": []
  },
  {
   "cell_type": "markdown",
   "metadata": {},
   "source": [
    "Create a datafram of petal lengths for each of the three classes , Setosa , Versicolour , Virginica. "
   ]
  },
  {
   "cell_type": "code",
   "execution_count": null,
   "metadata": {},
   "outputs": [],
   "source": [
    "# A data frame with the petal length and class\n",
    "df_petal = df_iris[[ 'target','petal length (cm)']]\n",
    "df_petal.sample(5)\n"
   ]
  },
  {
   "cell_type": "markdown",
   "metadata": {},
   "source": [
    "#### Summary Data\n",
    "For each of the classes , Setosa , Versicolour and Virginica calculate  the mean , max , min , standard deviation , median and quantiles of the petal lengths will be displayed in a table"
   ]
  },
  {
   "cell_type": "code",
   "execution_count": null,
   "metadata": {},
   "outputs": [],
   "source": [
    "def quantile_25(x):\n",
    "    \"\"\" input: x is a pandas series or numpy array and return the 25th and 75th quantile\n",
    "    Note: coulld be done by a lambda function but this is more readable\n",
    "    \"\"\"\n",
    "    return np.quantile(x, 0.25)\n",
    "\n",
    "def quantile_75(x):\n",
    "    \"\"\" input: x is a pandas series or numpy array and return the 25th and 75th quantile\n",
    "    Note: coulld be done by a lambda function but this is more readable\n",
    "    \"\"\"\n",
    "    return np.quantile(x, 0.75)\n",
    "\n",
    "# Group by target and get the mean, min, max, std, median, 25th and 75th quantile\n",
    "df_iris_species_summary_stats = df_petal.groupby(['target']).agg({\n",
    "\t'petal length (cm)': ['mean', 'min', 'max', 'std', 'median', quantile_25, quantile_75]})\n",
    "\n",
    "\n",
    "# Rename the quantile columns\n",
    "#  relates to box plot < -- |Q25 | Median | Q75 | -- >\n",
    "df_iris_species_summary_stats.columns = ['mean', 'min', 'max', 'std', 'median', 'Q25', 'Q75']\n",
    "\n",
    " # Add IQR column - Interquartile range is the difference between the 75th and 25th quantile\n",
    "df_iris_species_summary_stats['IQR'] = df_iris_species_summary_stats['Q75'] - df_iris_species_summary_stats['Q25']\n",
    "\n",
    "# Add outlier columns\n",
    "df_iris_species_summary_stats['outlier_min'] = df_iris_species_summary_stats['Q25'] - 1.5 * df_iris_species_summary_stats['IQR']\n",
    "df_iris_species_summary_stats['outlier_max'] = df_iris_species_summary_stats['Q75'] + 1.5 * df_iris_species_summary_stats['IQR']\n",
    "\n",
    "#print(df_iris_species_summary_stats.info())\n",
    "\n",
    "# rotate the df_iris_species_summary_stats\n",
    "# I want the species to be the columns\n",
    "# This is easier to read\n",
    "# Transpose the data frame\n",
    "df_iris_species_summary_stats = df_iris_species_summary_stats.transpose()\n",
    "\n",
    "# change the order of the columns to be setosa, versicolor, virginica\n",
    "df_iris_species_summary_stats = df_iris_species_summary_stats[['setosa', 'versicolor', 'virginica'] ]\n",
    "# sort rows in a specific order\n",
    "df_iris_species_summary_stats = df_iris_species_summary_stats.reindex(['min', 'outlier_min', 'Q25', 'median', 'mean', 'Q75', 'outlier_max', 'max', 'std', 'IQR'])\n",
    "df_iris_species_summary_stats\n"
   ]
  },
  {
   "cell_type": "markdown",
   "metadata": {},
   "source": [
    "** Plot the box plots of the petal length of each of the three secpies *\n",
    "\n",
    "The box plot has the following features\n",
    "\n",
    "- the outliers are shown as dots\n",
    "- the median is shown as a line in the box\n",
    "- the mean is shown as a diamond in the box\n",
    "- the box is the interquartile range ( IQR ) 0.25 and 0.75 quantiles\n",
    "- the whiskers are IQR * 1.5\n",
    "- the box plot is a good way to show the distribution of the data and the spread of the data\n",
    "\n"
   ]
  },
  {
   "cell_type": "code",
   "execution_count": null,
   "metadata": {},
   "outputs": [],
   "source": [
    "# Plot the seanborn box plot\n",
    "ax = sns.boxplot(x='petal length (cm)', y='target', data=df_petal, palette=\"pastel\",hue='target'\\\n",
    "                 ,hue_order=['setosa','versicolor','virginica'])\n",
    "ax.title.set_text('Petal Length vs Species')\n",
    "ax.set_xlabel('Petal Length (cm)')\n",
    "ax.set_ylabel('Species')\n",
    "ax.legend(title='Species', loc='upper right', labels=['setosa','versicolor','virginica'])"
   ]
  },
  {
   "cell_type": "code",
   "execution_count": null,
   "metadata": {},
   "outputs": [],
   "source": [
    "# Plot the seanborn box plot\n",
    "df_sepal = df_iris[[ 'target','sepal length (cm)']]\n",
    "ax = sns.boxplot(x='petal length (cm)', y='target', data=df_petal, palette=\"pastel\",hue='target'\\\n",
    "                 ,hue_order=['setosa','versicolor','virginica'])\n",
    "ax.title.set_text('Petal Length vs Species')\n",
    "ax.set_xlabel('Petal Length (cm)')\n",
    "ax.set_ylabel('Species')\n",
    "ax.legend(title='Species', loc='upper right', labels=['setosa','versicolor','virginica']);"
   ]
  },
  {
   "cell_type": "markdown",
   "metadata": {},
   "source": [
    "**Box Plots of the petal width and length , and sepal length and width of all three species of iris flowers**\n",
    "\n",
    "The axis length is the same for all the plots. This gives a more visual representation of the data"
   ]
  },
  {
   "cell_type": "code",
   "execution_count": null,
   "metadata": {},
   "outputs": [],
   "source": [
    "sns.set_style(\"darkgrid\")\n",
    "g = sns.catplot(data=df_iris_melt,kind=\"box\",x=\"species\",y=\"value\",hue='species',col=\"feature\",col_wrap=2,sharex=True\n",
    "                 ,height=5, aspect=1.5, palette=\"pastel\", hue_order=['setosa','versicolor','virginica'])\n",
    "# how to set the title for each subplot - github copilot assited with adjustment\n",
    "# Adjust the top space for the title and increase spacing between subplots\n",
    "plt.subplots_adjust(top=0.9, wspace=0.3, hspace=0.4)\n",
    "# set grid on each subplot\n",
    "for ax in g.axes.flat:\n",
    "    ax.grid(True)\n",
    "    # get the title of each subplot\n",
    "    # This could be done in one line, but for clarity multiple lines are used\n",
    "    title = ax.get_title()  # this gets the title of each subplot\n",
    "    # remove the prefix \"feature = \" from the title\n",
    "    # and replace \"_\" with \" \"\n",
    "    title = title.replace(\"feature = \", \"\").replace(\"_\",\" \")\n",
    "    # now capitalize the first letter of each word\n",
    "    title = title.title()\n",
    "    # set the title of each subplot \n",
    "    ax.set_title(title)\n",
    "    # set the x and y labels\n",
    "    ax.set_ylabel(\"Measurement (cm)\")\n",
    "    ax.set_xlabel(\"Species\")\n",
    "    ax.legend(title='Species', loc='upper left', labels=['setosa','versicolor','virginica'])\n",
    "# set the overall title\n",
    "plt.suptitle(\"Boxplot of features by species\");\n",
    "# add a legend\n"
   ]
  },
  {
   "cell_type": "markdown",
   "metadata": {},
   "source": [
    "# Task 8: Compute Correlations\n",
    "\n",
    "Calculate the correlation coefficients between the features.  The dataframe method `corr()` returns a correlation matric. \n"
   ]
  },
  {
   "cell_type": "markdown",
   "metadata": {},
   "source": [
    "## Task 8 : Answer\n",
    "### Summary\n",
    "There number of ways of calculating the correlation coefficients. The default , the pearson method is used. There are alternatives , kendall and spearman. The correlation coefficients is a metric on how closely related two features are. The values 1 and -1 means that the two features are perfectly related. ( don't trust 1 and -1  , if a feature is perfectly related to another feature , then why is it being used ), the value 0 means there is no relationship between the two features.   \n",
    "\n",
    "The heatman shows the \"strength\" of the correlation in a visual matrix of the features. All the features are on the x and y axis. ( I use a heatmap to determine compute hotpoints in cpu usage during database daily batch processing )\n",
    "\n",
    "Display the results as a heatmap using `matplotlib`.  \n",
    "\n",
    "**Correlation Coefficients equation**\n",
    "\n",
    "$r = \\frac{\\sum_{i=1}^{n}(x_i - \\bar{x})(y_i - \\bar{y})}{\\sqrt{\\sum_{i=1}^{n}(x_i - \\bar{x})^2} \\cdot \\sqrt{\\sum_{i=1}^{n}(y_i - \\bar{y})^2}}$\n",
    "\n",
    "\n",
    "### References\n",
    "\n",
    "- [Pandas Correlation](https://pandas.pydata.org/docs/reference/api/pandas.DataFrame.corr.html)  \n",
    "- [Wiki Pearson Correlation Coefficient](https://en.wikipedia.org/wiki/Pearson_correlation_coefficient)  \n",
    "- [Seaborn Heatmap](https://seaborn.pydata.org/generated/seaborn.heatmap.html)  \n",
    "- [Correlation Coefficient](https://www.statisticshowto.com/probability-and-statistics/correlation-coefficient-formula/)\n"
   ]
  },
  {
   "cell_type": "markdown",
   "metadata": {},
   "source": [
    "**Correlation Coefficients**\n",
    "\n",
    "Calculate the correlation coefficient between the features for all , and each of the species seperately. "
   ]
  },
  {
   "cell_type": "code",
   "execution_count": null,
   "metadata": {},
   "outputs": [],
   "source": [
    "df_corr = df_iris[['sepal length (cm)', 'sepal width (cm)', 'petal length (cm)', 'petal width (cm)']].corr(method='pearson')\n",
    "# get correlation matrix for each species\n",
    "df_setosa_corr = df_iris[df_iris['target'] == 'setosa'][['sepal length (cm)', 'sepal width (cm)', 'petal length (cm)', 'petal width (cm)']].corr(method='pearson')\n",
    "df_versicolor_corr = df_iris[df_iris['target'] == 'versicolor'][['sepal length (cm)', 'sepal width (cm)', 'petal length (cm)', 'petal width (cm)']].corr(method='pearson')\n",
    "df_virginica_corr = df_iris[df_iris['target'] == 'virginica'][['sepal length (cm)', 'sepal width (cm)', 'petal length (cm)', 'petal width (cm)']].corr(method='pearson')\n",
    "# plot the correlation matrix\n",
    "print(df_setosa_corr.info())\n",
    "df_setosa_corr"
   ]
  },
  {
   "cell_type": "markdown",
   "metadata": {},
   "source": [
    "** Plot a heatmap of the correlation coefficients **\n",
    "\n",
    "The heatmap shows the correlation between the two features , the diagonal is 1.0 , the off diag shows the correlation between two different features. The more closer to 1.0 or -1.0 , the better the correlation. The closer to zero , the less the correlation . The main diagonal is 1 , which is a feature with itself.\n"
   ]
  },
  {
   "cell_type": "code",
   "execution_count": null,
   "metadata": {},
   "outputs": [],
   "source": [
    "# First attempt at plotting the correlation matrix using a heatmap\n",
    "fig, ax = plt.subplots(figsize=(8, 8))\n",
    "# impshow plots a grid of data represented as colors ( heatmap) \n",
    "# I use a heatmap to determine if there is cpu exhaustion using a teradata vantage database engine\n",
    "# usually indicates that there are non-performant queries , or to much running at the same time\n",
    "ax.imshow(df_corr, cmap='coolwarm', interpolation='nearest') \n",
    "# display the value in the heatmap\n",
    "# ndenumerate enumerates the array and returns the index and value\n",
    "# this is used to display the value in the heatmap\n",
    "for (i, j), val in np.ndenumerate(df_corr):\n",
    "    # display value at point i,j in the heatmap - format 9.09\n",
    "    ax.text(j, i, round(val, 2), ha='center', va='center', color='yellow', fontsize=12);\n",
    "# set the x and y ticks to be the column names of the correlation matrix\n",
    "ax.set_xticks(np.arange(len(df_corr.columns)));\n",
    "ax.set_yticks(np.arange(len(df_corr.index)));\n",
    "ax.set_xticklabels(df_corr.columns, rotation=45, ha='right');\n",
    "ax.set_yticklabels(df_corr.index);\n",
    "# display the color bar on the right\n",
    "fig.colorbar(ax.imshow(df_corr, cmap='coolwarm', interpolation='nearest'), ax=ax, shrink=0.8, label='Correlation Coefficient')\n",
    "# set the title of the heatmap\n",
    "ax.set_title('Correlation Matrix Heatmap for All Iris Species', fontsize=16, fontweight='bold');\n",
    "\n",
    "# switch off pescy grid lines\n",
    "ax.grid(False);\n"
   ]
  },
  {
   "cell_type": "markdown",
   "metadata": {},
   "source": [
    "This shows a heat map of the correlation coefficieents between the features , for all species and then seperately for each species.\n"
   ]
  },
  {
   "cell_type": "code",
   "execution_count": null,
   "metadata": {},
   "outputs": [],
   "source": [
    "# list of correlation dataframes\n",
    "coef_list = [df_corr,df_setosa_corr, df_versicolor_corr, df_virginica_corr]\n",
    "# list of titles\n",
    "titles = ['All Species', 'Setosa', 'Versicolor', 'Virginica']\n",
    "cmap_list = ['Spectral', 'Spectral', 'Spectral', 'Spectral']\n",
    "# Seaborn heatmap\n",
    "fig , ax = plt.subplots(2,2,figsize=(8, 8))\n",
    "# Add figure title\n",
    "fig.suptitle('Correlation Heatmap For Iris Dataset , all species and each species', fontsize=16, fontweight='bold')\n",
    "\n",
    "# loop through each correlation matrix and plot\n",
    "i = 0\n",
    "for ax in ax.flatten():\n",
    "    # get the correlation matrix\n",
    "    ax.set_title(titles[i])\n",
    "    df = coef_list[i]\n",
    "    # setup the title ticks depending on whether it is on the outside of the axis\n",
    "    if i < 2:\n",
    "        # set the color map for the first two plots\n",
    "        xl = False\n",
    "    else:\n",
    "        # set the color map for the last two plots\n",
    "        xl = df.columns\n",
    "    if i % 2 == 0:\n",
    "        # set the color map for the first two plots\n",
    "        xy = True\n",
    "    else:\n",
    "        # set the color map for the last two plots\n",
    "        xy = False\n",
    "    sns.heatmap(df, annot=True, cmap=cmap_list[i], center=0, ax=ax,xticklabels=xl, yticklabels=xy, cbar=True,\\\n",
    "                 fmt='.2f', linewidths=0.5, linecolor='black', square=True, annot_kws={\"size\": 10})\n",
    "    i += 1\n",
    "\n",
    "  \n",
    " \n",
    "\n"
   ]
  },
  {
   "cell_type": "markdown",
   "metadata": {},
   "source": [
    "# Task 9: Fit a Simple Linear Regression\n",
    "\n",
    "For your two features in Task 5, calculate the coefficient of determination $R^2$.  \n",
    "Re-create the plot from Task 6 and annotate it with the $R^2$ value."
   ]
  },
  {
   "cell_type": "markdown",
   "metadata": {},
   "source": [
    "### Task 9 : Answer\n",
    "### Summary\n",
    "\n",
    "**Coefficient of Determination**\n",
    "\n",
    "[Wikipedia - Coefficient of Determination](https://en.wikipedia.org/wiki/Coefficient_of_determination)\n",
    "In statistics, the coefficient of determination, denoted R2 or r2 and pronounced \"R squared\", is the proportion of the variation in the dependent variable that is predictable from the independent variable(s).\n",
    "[Copilot]It is a measure of how well the regression line fits the data. The value of R2 is between 0 and 1. A value of 0 means that the regression line does not fit the data at all, while a value of 1 means that the regression line perfectly fits the data.\n",
    "\n",
    "\n",
    "### References\n",
    "\n",
    "- [Wikipedia Coefficient of Determination](https://en.wikipedia.org/wiki/Coefficient_of_determination)"
   ]
  },
  {
   "cell_type": "markdown",
   "metadata": {},
   "source": [
    "y = petal_width\n",
    "x = petal_length\n",
    "r2 = 1 - (np.sum((y - y_pred) ** 2) / np.sum((y - np.mean(y)) ** 2))"
   ]
  },
  {
   "cell_type": "markdown",
   "metadata": {},
   "source": [
    "Determine the equation of the regression line using polyfit\n",
    "p = np.polyfit(x, y, 1)"
   ]
  },
  {
   "cell_type": "code",
   "execution_count": null,
   "metadata": {},
   "outputs": [],
   "source": [
    "# Use polinomal fit function from numpy\n",
    "#polynomial.polynomial.Polynomial.fit\n",
    "# used github copilot prompt to get me started\n",
    "from numpy.polynomial import Polynomial\n",
    "# github copilot prompt to get me started\n",
    "# how to display an equation in latex format\n",
    "# https://stackoverflow.com/questions/12345678/how-to-display-latex-in-jupyter-notebook\n",
    "from sympy import symbols, latex \n",
    "from IPython.display import display, Math\n",
    "# TODO - add a function to do this\n",
    "# Split into x and y - it could be done in the plot function but this is more readable\n",
    "x_petal_length = df_iris['petal length (cm)']\n",
    "y_petal_width = df_iris['petal width (cm)']\n",
    "poly_petal,poly_petal_residual = Polynomial.fit(x = x_petal_length, y = y_petal_width, deg = 1 , full=True)\n",
    "\n",
    "poly_petal_equation = poly_petal.convert()\n",
    "print(\" Petal Length vs Petal With Polyfit metadata\")\n",
    "print(\"------------------------------------------------------------\")\n",
    "# print the polynomial equations for all the data and then each species\n",
    "#print(\"Polynomial equation: \", poly_petal_equation)\n",
    "latex_poly = latex(f\"y={str(poly_petal_equation)}\")\n",
    "display(Math(latex_poly))\n",
    "# get the residuals\n",
    "# TODO Store in a summary dataframe\n",
    "print(\"Residuals Redisidual: \", poly_petal_residual[0])\n",
    "print(\"Residuals Rank: \", poly_petal_residual[1])\n",
    "print(\"Residuals Singular values: \", poly_petal_residual[2])\n",
    "print(\"Residuals Condition number: \", poly_petal_residual[3])\n",
    "# get the linspace of x values for all ,and then each species\n",
    "# this is to plot the trend line\n",
    "# Because i am using Polynomial.fit the linespace automatically gets the x values for the polynomial fit\n",
    "poly_petal_linspace = poly_petal.linspace(n=len(x_sepal_length))"
   ]
  },
  {
   "cell_type": "markdown",
   "metadata": {},
   "source": [
    "Plot a scatter plot with a regression line"
   ]
  },
  {
   "cell_type": "code",
   "execution_count": null,
   "metadata": {},
   "outputs": [],
   "source": [
    "fig , ax = plt.subplots(nrows = 1, ncols = 1, figsize=(3, 3))\n",
    "# plot the data , change the color based on species\n",
    "ax.scatter(x=x_petal_length, y=y_petal_width, c=[['r', 'g', 'b'][i] for i in bunch_iris.target])\n",
    "ax.plot(poly_petal_linspace[0], poly_petal_linspace[1], color = 'black')\n",
    "ax.set_title('Petal Length vs Petal Width (all)')\n",
    "ax.set_xlabel('Petal Length (cm)')\n",
    "ax.set_ylabel('Petal Width (cm)')\n",
    "# set the overall title\n",
    "plt.suptitle('Iris Data  Set - Polynomial Fit of Petal Length vs Petal Width - Scatter and Trend Line')\n",
    "plt.tight_layout()"
   ]
  },
  {
   "cell_type": "markdown",
   "metadata": {},
   "source": [
    "Get the mean of x and y\n",
    "\n",
    "The equation for the mean of **x** is:\n",
    "\n",
    "$ \\bar{x} = \\frac{\\sum_{i=1}^n x_i}{n} $\n",
    "\n",
    "\n",
    "\n",
    "The equation for the mean of **y** is:\n",
    "\n",
    "\n",
    "$ \\bar{y} = \\frac{\\sum_{i=1}^n y_i}{n} $\n",
    "\n",
    "Note :  \n",
    "\n",
    "The Linspace mean are close to the mean of the x and y values of the petals but not exactly the same. There is a difference , i would have expected it on y , not sure why it is on the x as well ?"
   ]
  },
  {
   "cell_type": "code",
   "execution_count": null,
   "metadata": {},
   "outputs": [],
   "source": [
    "x_petal_mean = x_petal_length.mean()\n",
    "y_petal_mean = y_petal_width.mean()\n",
    "# also get the mean from poly_petal_linspace\n",
    "x_poly_petal_linspace_mean = poly_petal_linspace[0].mean()\n",
    "y_poly_petal_linspace_mean = poly_petal_linspace[1].mean()\n",
    "\n",
    "print(f\"Mean Petal Length X: {x_petal_mean:.2f} cm\")\n",
    "print(f\"Mean Petal Width Y: {y_petal_mean:.2f} cm\")\n",
    "print(f\"Mean Petal Length from poly_petal_linspace X: {x_poly_petal_linspace_mean:.2f} cm\")\n",
    "print(f\"Mean Petal Width from poly_petal_linspace Y: {y_poly_petal_linspace_mean:.2f} cm\")"
   ]
  },
  {
   "cell_type": "markdown",
   "metadata": {},
   "source": [
    "Now work out the residual sum of squares ( SSres ) \n",
    "\n",
    "$ SSres = \\sum_{i=1}^n (y_i - \\hat{f_i})^2 $\n",
    "\n",
    "This could be views as the sum of the errors between the actual y and predicted y values. The smaller the SSres the better the vis"
   ]
  },
  {
   "cell_type": "code",
   "execution_count": null,
   "metadata": {},
   "outputs": [],
   "source": [
    "# get the residual then square it and sum it\n",
    "SSres = ((y_petal_width - poly_petal_linspace[1]) ** 2).sum()\n",
    "# the square means the cm is cm^2 \n",
    "print(f\"Residual Sum of Squares: {SSres:.2f} cm^2\")"
   ]
  },
  {
   "cell_type": "markdown",
   "metadata": {},
   "source": [
    "Now work out the total sum of squares ( SStot ) \n",
    "\n",
    "$ SStot = \\sum_{i=1}^n (y_i - \\hat{y_i})^2 $\n",
    "\n",
    "This could be views as the sum of the errors between the actual y and predicted y values. The smaller the SSres the better the vis"
   ]
  },
  {
   "cell_type": "code",
   "execution_count": null,
   "metadata": {},
   "outputs": [],
   "source": [
    "# total sum of squares\n",
    "SStot = ((y_petal_width - y_petal_mean) ** 2).sum()\n",
    "# the square means the cm is cm^2\n",
    "print(f\"Total Sum of Squares: {SStot:.2f} cm^2\")\n"
   ]
  },
  {
   "cell_type": "markdown",
   "metadata": {},
   "source": [
    "Now tie this altogether as the coefficient of determination ( R2 )\n",
    "$ R^2 = 1 - \\frac{SSres}{SStot} $\n",
    "\n",
    "*Wikipedia - Coefficient of Determination*\n",
    "\n",
    "n the best case, the modeled values exactly match the observed values, which results in $SSres=0$\n",
    "and $R^2 = 1$. A baseline model, which always predicts y, will have $R^2 = 0$.\n",
    "\n",
    "The $R^2=0.8$ means there is a 80% correlation between the petal width and length. This is born out by the visual plots of the two features."
   ]
  },
  {
   "cell_type": "code",
   "execution_count": null,
   "metadata": {},
   "outputs": [],
   "source": [
    "R2 = 1 - ( SSres / SStot)\n",
    "print(f\"R^2: {R2:.2f}\")"
   ]
  },
  {
   "cell_type": "markdown",
   "metadata": {},
   "source": [
    "Re-create the plot from Task 6 and annotate it with the $R^2$ value."
   ]
  },
  {
   "cell_type": "code",
   "execution_count": null,
   "metadata": {},
   "outputs": [],
   "source": [
    "fig , ax = plt.subplots(nrows = 1, ncols = 1, figsize=(8, 8))\n",
    "# plot the data , change the color based on species\n",
    "ax.scatter(x=x_petal_length, y=y_petal_width, c=[['r', 'g', 'b'][i] for i in bunch_iris.target])\n",
    "ax.plot(poly_petal_linspace[0], poly_petal_linspace[1], color = 'black');\n",
    "ax.set_xlabel('Petal Length (cm)');\n",
    "ax.set_ylabel('Petal Width (cm)');\n",
    "# set the overall title\n",
    "plt.suptitle('Iris Data  Set - Polynomial Fit of Petal Length vs Petal Width - Scatter and Trend Line');\n",
    "plt.tight_layout();\n",
    "# Annotate the polynomial equation - github copilot prompt to get me started\n",
    "\n",
    "# find mid point of the x and y axis of line\n",
    "x_mid = (ax.get_xlim()[0] + ax.get_xlim()[1]) / 2\n",
    "y_mid = (ax.get_ylim()[0] + ax.get_ylim()[1]) / 2\n",
    "print(f\"x_mid: {x_mid:.2f} cm\")\n",
    "print(f\"y_mid: {y_mid:.2f} cm\")\n",
    "# add the equation to the plot\n",
    "# add the equation to the plot\n",
    "\n",
    "anot_str = f\"$y = {poly_petal_equation.coef[0]:.2f} + {poly_petal_equation.coef[1]:.2f}x \\quad R^2 = {R2:.2f}$\";\n",
    "ax.annotate(anot_str, xy=(x_mid, y_mid)\\\n",
    "            , xycoords='data', fontsize=13, color='violet'\\\n",
    "            ,  horizontalalignment='right', verticalalignment='top'\\\n",
    "            , bbox=dict(boxstyle=\"round,pad=0.3\", edgecolor='black', facecolor='white')\\\n",
    ");\n",
    "# add a legend for the species - github copilot prompt to get me started\n",
    "# Add a legend for the species and regression line\n",
    "legend_elements = [\n",
    "    plt.Line2D([0], [0], marker='o', color='w', label='Setosa', markerfacecolor='r', markersize=10),\n",
    "    plt.Line2D([0], [0], marker='o', color='w', label='Versicolor', markerfacecolor='g', markersize=10),\n",
    "    plt.Line2D([0], [0], marker='o', color='w', label='Virginica', markerfacecolor='b', markersize=10),\n",
    "    plt.Line2D([0], [0], color='black', lw=2, label='Regression Line') # Add regression line to legend\n",
    "]\n",
    "ax.legend(handles=legend_elements, title='Species', loc='upper left');\n",
    "\n"
   ]
  },
  {
   "cell_type": "markdown",
   "metadata": {},
   "source": [
    "## Task 10: Too Many Features\n",
    "\n",
    "Use `seaborn` to create a `pairplot` of the data set.  \n",
    "Explain, in your own words, what the `pairplot` depicts. "
   ]
  },
  {
   "cell_type": "markdown",
   "metadata": {},
   "source": [
    "## Task 10 : Answer\n",
    "### Summary\n",
    "\n",
    "The pairplot shows a table of each feature on the x and y axis. With a scatter plot comparing the features with the exception of the diagonal. There is a number of variations of a pairplot , scatter , reg ( regresion) , kde ( kernel density estimation - the cool one ) and hist (historgram). The plots are the same on alternative sides of the diagonal. A sort of mirror image. Taking advantage of the layout , the alternative plot can show a variation of the same data. Example one with or with\n",
    "out KDE.  The diagnol plot has the histogram or kde of the features. \n",
    "\n",
    "Visually inspecting the pairplots shows that the petal length and width shows a distinct separation between serotosa species and the other two species. The other two species do show some form of separation but there is some crossover between the two ( virginica and versicolor ). The Sepal width and length shows less distiction then petals with respect to species although serotosa still is distictive but less so than the petals, the other two are all intermixed.  \n",
    "\n",
    "If this is a classification problem then the petal features are the best option for predicting the species. In which case sepals are not needed. An alternative v\n",
    "iew is that since there is a correlation between petal width and petal length , are both needed . There may be insights we can get by removing one of the petal features and doing additional analysis. Thus which features are redundant is dependent on what the question being asked. \n",
    "\n",
    "Since both sepals and petals show good distintion between the serotosa , and it looks like petals are the beter predictor fo the serotosa species , and the other two species sepals are very intermixed. We may be able to exclude the sepal features if we want reduce the number of features.\n",
    "This will need to be investigated further. Some alternatives are by using clustering to predict the species with sepals and petals ,and compare the results.\n",
    "\n",
    "  \n",
    "\n",
    "\n",
    "### References\n",
    "\n",
    "https://seaborn.pydata.org/generated/seaborn.pairplot.html\n",
    "\n",
    "Plot pairwise relationships in a dataset.\n",
    "\n",
    "By default, this function will create a grid of Axes such that each numeric variable in data will by shared across the y-axes across a single row and the x-axes across a single column. The diagonal plots are treated differently: a univariate distribution plot is drawn to show the marginal distribution of the data in each column.\n",
    "\n",
    "It is also possible to show a subset of variables or plot different variables on the rows and columns.\n",
    "\n",
    "This is a high-level interface for PairGrid that is intended to make it easy to draw a few common styles. You should use PairGrid directly if you need more flexibility.\n",
    "\n",
    "https://en.wikipedia.org/wiki/Univariate_distribution\n",
    "\n",
    "In statistics, a univariate distribution is a probability distribution of only one random variable. This is in contrast to a multivariate distribution, the probability distribution of a random vector (consisting of multiple random variables).\n",
    "\n",
    "Gemini - a univariate distribution to a high school student   \n",
    "\n",
    "\n",
    ".Kernel Density Estimation:\n",
    "In statistics and data analysis, KDE stands for \"kernel density estimation.\"1 This is a method used to estimate the probability density function of a random variable. Essentially, it's a way to smooth out a histogram to get a continuous curve that represents the distribution of the data. \n"
   ]
  },
  {
   "cell_type": "code",
   "execution_count": null,
   "metadata": {},
   "outputs": [],
   "source": [
    "# Use seaborn pairplot to visualize the data\n",
    "# use df_iris and hue='target' to color the data points by target\n",
    "g = sns.pairplot(df_iris,hue='target', kind='scatter')\n",
    "g.figure.suptitle(\"Pairplot of Iris Data Set\", y=1.02);\n",
    "g.map_lower(sns.kdeplot, levels=4, color=\".2\")\n",
    "# Add regression line to the lower triangle of the pairplot\n",
    "# Use the map_lower method to add regression line to the lower triangle\n",
    "# This is done by using the sns.regplot function\n",
    "g.map_lower(sns.regplot, scatter=False, color=\".2\")\n",
    "\n",
    "\n"
   ]
  },
  {
   "cell_type": "markdown",
   "metadata": {},
   "source": [
    "## END"
   ]
  }
 ],
 "metadata": {
  "kernelspec": {
   "display_name": "base",
   "language": "python",
   "name": "python3"
  },
  "language_info": {
   "codemirror_mode": {
    "name": "ipython",
    "version": 3
   },
   "file_extension": ".py",
   "mimetype": "text/x-python",
   "name": "python",
   "nbconvert_exporter": "python",
   "pygments_lexer": "ipython3",
   "version": "3.12.7"
  }
 },
 "nbformat": 4,
 "nbformat_minor": 2
}
